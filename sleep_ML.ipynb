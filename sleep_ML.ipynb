{
 "cells": [
  {
   "cell_type": "markdown",
   "metadata": {},
   "source": [
    "# Sleep Machine Learning\n",
    "\n",
    "Welcome to my Unsupervised machine learning project. On this project I'll be analyzing a particular dataset, my very own sleep.\n",
    "The data was and is continously being gathered from my Fitbit focusing specifically on my Activity and Sleep patterns. If you want to gather your own data with fitbit you can do so [here](https://help.fitbit.com/articles/en_US/Help_article/1133.htm?Highlight=TCX%20file) and if you want to check this analysis you can check it on my GitHub repo online [rorrostieta/Sleep](https://github.com/rorrostieta/Sleep).\n",
    "\n",
    "The factors that I want to study in this case are what contributes to me having a long and good sleep time and more specifically see if my activity throughout the day has any sort of impact into how I manage to sleep.\n",
    "\n",
    "Lets begin the project with some pre-liminary set up and exploratory data analysis (EDA)\n",
    "\n",
    "**Plotly is highly encouraged to be able to load the visualizations, you can see visualization on the video presentation**\n",
    "## Libraries"
   ]
  },
  {
   "cell_type": "code",
   "execution_count": 453,
   "metadata": {},
   "outputs": [],
   "source": [
    "import pandas as pd\n",
    "import numpy as np\n",
    "import plotly.express as px\n",
    "import matplotlib.pyplot as plt\n",
    "from sklearn.preprocessing import StandardScaler\n",
    "from sklearn.decomposition import PCA\n",
    "from sklearn.cluster import KMeans\n",
    "from sklearn.model_selection import GridSearchCV"
   ]
  },
  {
   "cell_type": "markdown",
   "metadata": {},
   "source": [
    "## Exploratory Data Analysis\n",
    "On this part we can see some of the features to be fed into the model, on a very first approach since we see this have time series I'm going to remove them to avoid adding more complexity to the problem. One of the advantages of being the one gathering the data is that it looks mostly clean but some information is missing, in this case we can dimiss that row which could be attributed to me not wearing the Fitbit to sleep."
   ]
  },
  {
   "cell_type": "code",
   "execution_count": 454,
   "metadata": {},
   "outputs": [
    {
     "data": {
      "text/html": [
       "<div>\n",
       "<style scoped>\n",
       "    .dataframe tbody tr th:only-of-type {\n",
       "        vertical-align: middle;\n",
       "    }\n",
       "\n",
       "    .dataframe tbody tr th {\n",
       "        vertical-align: top;\n",
       "    }\n",
       "\n",
       "    .dataframe thead th {\n",
       "        text-align: right;\n",
       "    }\n",
       "</style>\n",
       "<table border=\"1\" class=\"dataframe\">\n",
       "  <thead>\n",
       "    <tr style=\"text-align: right;\">\n",
       "      <th></th>\n",
       "      <th>Date</th>\n",
       "      <th>Calories Burned</th>\n",
       "      <th>Steps</th>\n",
       "      <th>Distance</th>\n",
       "      <th>Floors</th>\n",
       "      <th>Minutes Sedentary</th>\n",
       "      <th>Minutes Lightly Active</th>\n",
       "      <th>Minutes Fairly Active</th>\n",
       "      <th>Minutes Very Active</th>\n",
       "      <th>Activity Calories</th>\n",
       "      <th>Start Time</th>\n",
       "      <th>End Time</th>\n",
       "      <th>Minutes Asleep</th>\n",
       "      <th>Minutes Awake</th>\n",
       "      <th>Number of Awakenings</th>\n",
       "      <th>Time in Bed</th>\n",
       "      <th>Minutes REM Sleep</th>\n",
       "      <th>Minutes Light Sleep</th>\n",
       "      <th>Minutes Deep Sleep</th>\n",
       "    </tr>\n",
       "  </thead>\n",
       "  <tbody>\n",
       "    <tr>\n",
       "      <th>0</th>\n",
       "      <td>2021-12-01</td>\n",
       "      <td>2,281</td>\n",
       "      <td>2,737</td>\n",
       "      <td>2.02</td>\n",
       "      <td>7</td>\n",
       "      <td>677</td>\n",
       "      <td>150</td>\n",
       "      <td>0</td>\n",
       "      <td>0</td>\n",
       "      <td>585</td>\n",
       "      <td>2021-12-01 10:37 PM</td>\n",
       "      <td>2021-12-02 6:54 AM</td>\n",
       "      <td>416.0</td>\n",
       "      <td>81.0</td>\n",
       "      <td>25.0</td>\n",
       "      <td>497.0</td>\n",
       "      <td>135.0</td>\n",
       "      <td>177.0</td>\n",
       "      <td>104.0</td>\n",
       "    </tr>\n",
       "    <tr>\n",
       "      <th>1</th>\n",
       "      <td>2021-12-02</td>\n",
       "      <td>2,504</td>\n",
       "      <td>4,090</td>\n",
       "      <td>3.01</td>\n",
       "      <td>8</td>\n",
       "      <td>758</td>\n",
       "      <td>176</td>\n",
       "      <td>9</td>\n",
       "      <td>0</td>\n",
       "      <td>777</td>\n",
       "      <td>2021-12-02 10:50 PM</td>\n",
       "      <td>2021-12-03 7:18 AM</td>\n",
       "      <td>445.0</td>\n",
       "      <td>62.0</td>\n",
       "      <td>29.0</td>\n",
       "      <td>507.0</td>\n",
       "      <td>105.0</td>\n",
       "      <td>263.0</td>\n",
       "      <td>77.0</td>\n",
       "    </tr>\n",
       "    <tr>\n",
       "      <th>2</th>\n",
       "      <td>2021-12-03</td>\n",
       "      <td>2,223</td>\n",
       "      <td>2,006</td>\n",
       "      <td>1.48</td>\n",
       "      <td>5</td>\n",
       "      <td>814</td>\n",
       "      <td>119</td>\n",
       "      <td>0</td>\n",
       "      <td>0</td>\n",
       "      <td>434</td>\n",
       "      <td>2021-12-03 11:54 PM</td>\n",
       "      <td>2021-12-04 8:29 AM</td>\n",
       "      <td>458.0</td>\n",
       "      <td>57.0</td>\n",
       "      <td>32.0</td>\n",
       "      <td>515.0</td>\n",
       "      <td>126.0</td>\n",
       "      <td>269.0</td>\n",
       "      <td>63.0</td>\n",
       "    </tr>\n",
       "    <tr>\n",
       "      <th>3</th>\n",
       "      <td>2021-12-04</td>\n",
       "      <td>2,772</td>\n",
       "      <td>8,510</td>\n",
       "      <td>6.27</td>\n",
       "      <td>43</td>\n",
       "      <td>718</td>\n",
       "      <td>137</td>\n",
       "      <td>23</td>\n",
       "      <td>47</td>\n",
       "      <td>1,104</td>\n",
       "      <td>2021-12-05 3:10 AM</td>\n",
       "      <td>2021-12-05 9:56 AM</td>\n",
       "      <td>338.0</td>\n",
       "      <td>68.0</td>\n",
       "      <td>14.0</td>\n",
       "      <td>406.0</td>\n",
       "      <td>99.0</td>\n",
       "      <td>160.0</td>\n",
       "      <td>79.0</td>\n",
       "    </tr>\n",
       "    <tr>\n",
       "      <th>4</th>\n",
       "      <td>2021-12-05</td>\n",
       "      <td>2,178</td>\n",
       "      <td>2,873</td>\n",
       "      <td>2.12</td>\n",
       "      <td>9</td>\n",
       "      <td>916</td>\n",
       "      <td>110</td>\n",
       "      <td>7</td>\n",
       "      <td>1</td>\n",
       "      <td>477</td>\n",
       "      <td>2021-12-05 8:48 PM</td>\n",
       "      <td>2021-12-06 5:21 AM</td>\n",
       "      <td>467.0</td>\n",
       "      <td>46.0</td>\n",
       "      <td>33.0</td>\n",
       "      <td>513.0</td>\n",
       "      <td>140.0</td>\n",
       "      <td>238.0</td>\n",
       "      <td>89.0</td>\n",
       "    </tr>\n",
       "  </tbody>\n",
       "</table>\n",
       "</div>"
      ],
      "text/plain": [
       "         Date Calories Burned  Steps  Distance  Floors Minutes Sedentary  \\\n",
       "0  2021-12-01           2,281  2,737      2.02       7               677   \n",
       "1  2021-12-02           2,504  4,090      3.01       8               758   \n",
       "2  2021-12-03           2,223  2,006      1.48       5               814   \n",
       "3  2021-12-04           2,772  8,510      6.27      43               718   \n",
       "4  2021-12-05           2,178  2,873      2.12       9               916   \n",
       "\n",
       "   Minutes Lightly Active  Minutes Fairly Active  Minutes Very Active  \\\n",
       "0                     150                      0                    0   \n",
       "1                     176                      9                    0   \n",
       "2                     119                      0                    0   \n",
       "3                     137                     23                   47   \n",
       "4                     110                      7                    1   \n",
       "\n",
       "  Activity Calories           Start Time            End Time  Minutes Asleep  \\\n",
       "0               585  2021-12-01 10:37 PM  2021-12-02 6:54 AM           416.0   \n",
       "1               777  2021-12-02 10:50 PM  2021-12-03 7:18 AM           445.0   \n",
       "2               434  2021-12-03 11:54 PM  2021-12-04 8:29 AM           458.0   \n",
       "3             1,104   2021-12-05 3:10 AM  2021-12-05 9:56 AM           338.0   \n",
       "4               477   2021-12-05 8:48 PM  2021-12-06 5:21 AM           467.0   \n",
       "\n",
       "   Minutes Awake  Number of Awakenings  Time in Bed  Minutes REM Sleep  \\\n",
       "0           81.0                  25.0        497.0              135.0   \n",
       "1           62.0                  29.0        507.0              105.0   \n",
       "2           57.0                  32.0        515.0              126.0   \n",
       "3           68.0                  14.0        406.0               99.0   \n",
       "4           46.0                  33.0        513.0              140.0   \n",
       "\n",
       "   Minutes Light Sleep  Minutes Deep Sleep  \n",
       "0                177.0               104.0  \n",
       "1                263.0                77.0  \n",
       "2                269.0                63.0  \n",
       "3                160.0                79.0  \n",
       "4                238.0                89.0  "
      ]
     },
     "execution_count": 454,
     "metadata": {},
     "output_type": "execute_result"
    }
   ],
   "source": [
    "data = pd.read_csv('./data/SleepData_Fitbit.csv', skiprows=1)\n",
    "data.head()"
   ]
  },
  {
   "cell_type": "code",
   "execution_count": 455,
   "metadata": {},
   "outputs": [],
   "source": [
    "drop_columns = ['Date','Start Time', 'End Time']\n",
    "interest_data = data.drop(drop_columns, axis=1)\n",
    "interest_data.replace(',','',regex=True, inplace=True)\n",
    "interest_data = interest_data.apply(pd.to_numeric)"
   ]
  },
  {
   "cell_type": "code",
   "execution_count": 456,
   "metadata": {},
   "outputs": [
    {
     "data": {
      "text/plain": [
       "Calories Burned           0\n",
       "Steps                     0\n",
       "Distance                  0\n",
       "Floors                    0\n",
       "Minutes Sedentary         0\n",
       "Minutes Lightly Active    0\n",
       "Minutes Fairly Active     0\n",
       "Minutes Very Active       0\n",
       "Activity Calories         0\n",
       "Minutes Asleep            1\n",
       "Minutes Awake             1\n",
       "Number of Awakenings      1\n",
       "Time in Bed               1\n",
       "Minutes REM Sleep         1\n",
       "Minutes Light Sleep       1\n",
       "Minutes Deep Sleep        1\n",
       "dtype: int64"
      ]
     },
     "execution_count": 456,
     "metadata": {},
     "output_type": "execute_result"
    }
   ],
   "source": [
    "interest_data.isna().sum()"
   ]
  },
  {
   "cell_type": "code",
   "execution_count": 457,
   "metadata": {},
   "outputs": [],
   "source": [
    "interest_data.dropna(axis=0, inplace=True)"
   ]
  },
  {
   "cell_type": "markdown",
   "metadata": {},
   "source": [
    "### Target Variable\n",
    "After this step of the data cleaning procedure I'll define a \"target\" for the data, in this case this target would be composed of how many times I slept more than 7 hours, this will be relevant for any visualization or model where the target would be important to point out."
   ]
  },
  {
   "cell_type": "code",
   "execution_count": 458,
   "metadata": {},
   "outputs": [
    {
     "data": {
      "text/plain": [
       "<AxesSubplot:>"
      ]
     },
     "execution_count": 458,
     "metadata": {},
     "output_type": "execute_result"
    },
    {
     "data": {
      "image/png": "[encoded data removed]",
      "text/plain": [
       "<Figure size 432x288 with 1 Axes>"
      ]
     },
     "metadata": {
      "needs_background": "light"
     },
     "output_type": "display_data"
    }
   ],
   "source": [
    "target = interest_data['Minutes REM Sleep'] + interest_data['Minutes Light Sleep'] + interest_data['Minutes Deep Sleep']\n",
    "target = (target > 420).astype(int) #Slept More than 7 hours\n",
    "target.hist()"
   ]
  },
  {
   "cell_type": "markdown",
   "metadata": {},
   "source": [
    "### Correlations\n",
    "After cleaning the data lets see a correlation matrix to see which features might be correlated and try to drop the ones that give really similar information. My initial thought is that **Calories Burned** will be correlated with most of the activity features and we might be able to drop a lot of those."
   ]
  },
  {
   "cell_type": "code",
   "execution_count": 459,
   "metadata": {},
   "outputs": [
    {
     "data": {
      "text/html": [
       "<style type=\"text/css\">\n",
       "#T_4abff_row0_col0, #T_4abff_row1_col1, #T_4abff_row1_col2, #T_4abff_row2_col1, #T_4abff_row2_col2, #T_4abff_row3_col3, #T_4abff_row4_col4, #T_4abff_row5_col5, #T_4abff_row6_col6, #T_4abff_row7_col7, #T_4abff_row8_col8, #T_4abff_row9_col9, #T_4abff_row10_col10, #T_4abff_row11_col11, #T_4abff_row12_col12, #T_4abff_row13_col13, #T_4abff_row14_col14, #T_4abff_row15_col15 {\n",
       "  background-color: #b40426;\n",
       "  color: #f1f1f1;\n",
       "}\n",
       "#T_4abff_row0_col1, #T_4abff_row0_col2, #T_4abff_row2_col0 {\n",
       "  background-color: #ca3b37;\n",
       "  color: #f1f1f1;\n",
       "}\n",
       "#T_4abff_row0_col3, #T_4abff_row7_col1, #T_4abff_row14_col9 {\n",
       "  background-color: #f4987a;\n",
       "  color: #000000;\n",
       "}\n",
       "#T_4abff_row0_col4, #T_4abff_row0_col9, #T_4abff_row7_col10 {\n",
       "  background-color: #455cce;\n",
       "  color: #f1f1f1;\n",
       "}\n",
       "#T_4abff_row0_col5, #T_4abff_row5_col0 {\n",
       "  background-color: #e26952;\n",
       "  color: #f1f1f1;\n",
       "}\n",
       "#T_4abff_row0_col6, #T_4abff_row14_col12 {\n",
       "  background-color: #ef886b;\n",
       "  color: #f1f1f1;\n",
       "}\n",
       "#T_4abff_row0_col7 {\n",
       "  background-color: #f5c2aa;\n",
       "  color: #000000;\n",
       "}\n",
       "#T_4abff_row0_col8, #T_4abff_row8_col0 {\n",
       "  background-color: #b70d28;\n",
       "  color: #f1f1f1;\n",
       "}\n",
       "#T_4abff_row0_col10 {\n",
       "  background-color: #4c66d6;\n",
       "  color: #f1f1f1;\n",
       "}\n",
       "#T_4abff_row0_col11, #T_4abff_row0_col13, #T_4abff_row1_col13, #T_4abff_row6_col9, #T_4abff_row6_col12, #T_4abff_row6_col14, #T_4abff_row15_col14 {\n",
       "  background-color: #5875e1;\n",
       "  color: #f1f1f1;\n",
       "}\n",
       "#T_4abff_row0_col12, #T_4abff_row1_col4, #T_4abff_row3_col13, #T_4abff_row5_col4, #T_4abff_row6_col10 {\n",
       "  background-color: #485fd1;\n",
       "  color: #f1f1f1;\n",
       "}\n",
       "#T_4abff_row0_col14 {\n",
       "  background-color: #3e51c5;\n",
       "  color: #f1f1f1;\n",
       "}\n",
       "#T_4abff_row0_col15, #T_4abff_row12_col3 {\n",
       "  background-color: #88abfd;\n",
       "  color: #000000;\n",
       "}\n",
       "#T_4abff_row1_col0 {\n",
       "  background-color: #c83836;\n",
       "  color: #f1f1f1;\n",
       "}\n",
       "#T_4abff_row1_col3 {\n",
       "  background-color: #e46e56;\n",
       "  color: #f1f1f1;\n",
       "}\n",
       "#T_4abff_row1_col5, #T_4abff_row5_col1, #T_4abff_row6_col0 {\n",
       "  background-color: #eb7d62;\n",
       "  color: #f1f1f1;\n",
       "}\n",
       "#T_4abff_row1_col6 {\n",
       "  background-color: #f39778;\n",
       "  color: #000000;\n",
       "}\n",
       "#T_4abff_row1_col7 {\n",
       "  background-color: #f7b89c;\n",
       "  color: #000000;\n",
       "}\n",
       "#T_4abff_row1_col8, #T_4abff_row8_col1 {\n",
       "  background-color: #c43032;\n",
       "  color: #f1f1f1;\n",
       "}\n",
       "#T_4abff_row1_col9, #T_4abff_row7_col13, #T_4abff_row13_col10 {\n",
       "  background-color: #4358cb;\n",
       "  color: #f1f1f1;\n",
       "}\n",
       "#T_4abff_row1_col10, #T_4abff_row1_col14, #T_4abff_row2_col10, #T_4abff_row2_col14, #T_4abff_row3_col9, #T_4abff_row3_col12, #T_4abff_row4_col0, #T_4abff_row4_col1, #T_4abff_row4_col2, #T_4abff_row4_col3, #T_4abff_row4_col5, #T_4abff_row4_col6, #T_4abff_row4_col7, #T_4abff_row4_col8, #T_4abff_row4_col15, #T_4abff_row5_col14, #T_4abff_row7_col11, #T_4abff_row8_col4, #T_4abff_row10_col13 {\n",
       "  background-color: #3b4cc0;\n",
       "  color: #f1f1f1;\n",
       "}\n",
       "#T_4abff_row1_col11, #T_4abff_row2_col11, #T_4abff_row6_col11 {\n",
       "  background-color: #5673e0;\n",
       "  color: #f1f1f1;\n",
       "}\n",
       "#T_4abff_row1_col12, #T_4abff_row2_col12 {\n",
       "  background-color: #4257c9;\n",
       "  color: #f1f1f1;\n",
       "}\n",
       "#T_4abff_row1_col15, #T_4abff_row2_col15, #T_4abff_row4_col14, #T_4abff_row8_col15 {\n",
       "  background-color: #90b2fe;\n",
       "  color: #000000;\n",
       "}\n",
       "#T_4abff_row2_col3 {\n",
       "  background-color: #e36c55;\n",
       "  color: #f1f1f1;\n",
       "}\n",
       "#T_4abff_row2_col4, #T_4abff_row5_col12, #T_4abff_row8_col9, #T_4abff_row8_col10 {\n",
       "  background-color: #4961d2;\n",
       "  color: #f1f1f1;\n",
       "}\n",
       "#T_4abff_row2_col5 {\n",
       "  background-color: #ec8165;\n",
       "  color: #f1f1f1;\n",
       "}\n",
       "#T_4abff_row2_col6 {\n",
       "  background-color: #f59c7d;\n",
       "  color: #000000;\n",
       "}\n",
       "#T_4abff_row2_col7 {\n",
       "  background-color: #f7b396;\n",
       "  color: #000000;\n",
       "}\n",
       "#T_4abff_row2_col8, #T_4abff_row8_col2 {\n",
       "  background-color: #c53334;\n",
       "  color: #f1f1f1;\n",
       "}\n",
       "#T_4abff_row2_col9, #T_4abff_row5_col9 {\n",
       "  background-color: #445acc;\n",
       "  color: #f1f1f1;\n",
       "}\n",
       "#T_4abff_row2_col13 {\n",
       "  background-color: #5977e3;\n",
       "  color: #f1f1f1;\n",
       "}\n",
       "#T_4abff_row3_col0 {\n",
       "  background-color: #f08a6c;\n",
       "  color: #f1f1f1;\n",
       "}\n",
       "#T_4abff_row3_col1, #T_4abff_row3_col2 {\n",
       "  background-color: #df634e;\n",
       "  color: #f1f1f1;\n",
       "}\n",
       "#T_4abff_row3_col4, #T_4abff_row4_col12, #T_4abff_row14_col7, #T_4abff_row14_col13 {\n",
       "  background-color: #7396f5;\n",
       "  color: #f1f1f1;\n",
       "}\n",
       "#T_4abff_row3_col5, #T_4abff_row6_col7 {\n",
       "  background-color: #f1cdba;\n",
       "  color: #000000;\n",
       "}\n",
       "#T_4abff_row3_col6 {\n",
       "  background-color: #f7ba9f;\n",
       "  color: #000000;\n",
       "}\n",
       "#T_4abff_row3_col7 {\n",
       "  background-color: #f59f80;\n",
       "  color: #000000;\n",
       "}\n",
       "#T_4abff_row3_col8, #T_4abff_row8_col6 {\n",
       "  background-color: #ee8669;\n",
       "  color: #f1f1f1;\n",
       "}\n",
       "#T_4abff_row3_col10 {\n",
       "  background-color: #3d50c3;\n",
       "  color: #f1f1f1;\n",
       "}\n",
       "#T_4abff_row3_col11 {\n",
       "  background-color: #4055c8;\n",
       "  color: #f1f1f1;\n",
       "}\n",
       "#T_4abff_row3_col14, #T_4abff_row8_col14 {\n",
       "  background-color: #3f53c6;\n",
       "  color: #f1f1f1;\n",
       "}\n",
       "#T_4abff_row3_col15 {\n",
       "  background-color: #7b9ff9;\n",
       "  color: #f1f1f1;\n",
       "}\n",
       "#T_4abff_row4_col9, #T_4abff_row10_col11 {\n",
       "  background-color: #7093f3;\n",
       "  color: #f1f1f1;\n",
       "}\n",
       "#T_4abff_row4_col10, #T_4abff_row4_col11 {\n",
       "  background-color: #6282ea;\n",
       "  color: #f1f1f1;\n",
       "}\n",
       "#T_4abff_row4_col13, #T_4abff_row15_col10 {\n",
       "  background-color: #6687ed;\n",
       "  color: #f1f1f1;\n",
       "}\n",
       "#T_4abff_row5_col2 {\n",
       "  background-color: #ed8366;\n",
       "  color: #f1f1f1;\n",
       "}\n",
       "#T_4abff_row5_col3, #T_4abff_row5_col6, #T_4abff_row12_col15 {\n",
       "  background-color: #e4d9d2;\n",
       "  color: #000000;\n",
       "}\n",
       "#T_4abff_row5_col7, #T_4abff_row10_col15, #T_4abff_row13_col7 {\n",
       "  background-color: #6f92f3;\n",
       "  color: #f1f1f1;\n",
       "}\n",
       "#T_4abff_row5_col8 {\n",
       "  background-color: #d85646;\n",
       "  color: #f1f1f1;\n",
       "}\n",
       "#T_4abff_row5_col10, #T_4abff_row7_col9, #T_4abff_row7_col12, #T_4abff_row14_col15 {\n",
       "  background-color: #536edd;\n",
       "  color: #f1f1f1;\n",
       "}\n",
       "#T_4abff_row5_col11 {\n",
       "  background-color: #688aef;\n",
       "  color: #f1f1f1;\n",
       "}\n",
       "#T_4abff_row5_col13 {\n",
       "  background-color: #6180e9;\n",
       "  color: #f1f1f1;\n",
       "}\n",
       "#T_4abff_row5_col15 {\n",
       "  background-color: #85a8fc;\n",
       "  color: #f1f1f1;\n",
       "}\n",
       "#T_4abff_row6_col1 {\n",
       "  background-color: #f18d6f;\n",
       "  color: #f1f1f1;\n",
       "}\n",
       "#T_4abff_row6_col2, #T_4abff_row9_col14 {\n",
       "  background-color: #f29274;\n",
       "  color: #f1f1f1;\n",
       "}\n",
       "#T_4abff_row6_col3, #T_4abff_row13_col12 {\n",
       "  background-color: #f6bea4;\n",
       "  color: #000000;\n",
       "}\n",
       "#T_4abff_row6_col4 {\n",
       "  background-color: #6788ee;\n",
       "  color: #f1f1f1;\n",
       "}\n",
       "#T_4abff_row6_col5 {\n",
       "  background-color: #eed0c0;\n",
       "  color: #000000;\n",
       "}\n",
       "#T_4abff_row6_col8 {\n",
       "  background-color: #e9785d;\n",
       "  color: #f1f1f1;\n",
       "}\n",
       "#T_4abff_row6_col13, #T_4abff_row8_col13 {\n",
       "  background-color: #5a78e4;\n",
       "  color: #f1f1f1;\n",
       "}\n",
       "#T_4abff_row6_col15, #T_4abff_row14_col3 {\n",
       "  background-color: #80a3fa;\n",
       "  color: #f1f1f1;\n",
       "}\n",
       "#T_4abff_row7_col0 {\n",
       "  background-color: #f6a283;\n",
       "  color: #000000;\n",
       "}\n",
       "#T_4abff_row7_col2 {\n",
       "  background-color: #f39475;\n",
       "  color: #000000;\n",
       "}\n",
       "#T_4abff_row7_col3 {\n",
       "  background-color: #f18f71;\n",
       "  color: #f1f1f1;\n",
       "}\n",
       "#T_4abff_row7_col4 {\n",
       "  background-color: #9bbcff;\n",
       "  color: #000000;\n",
       "}\n",
       "#T_4abff_row7_col5 {\n",
       "  background-color: #bbd1f8;\n",
       "  color: #000000;\n",
       "}\n",
       "#T_4abff_row7_col6 {\n",
       "  background-color: #f7b99e;\n",
       "  color: #000000;\n",
       "}\n",
       "#T_4abff_row7_col8 {\n",
       "  background-color: #f7a98b;\n",
       "  color: #000000;\n",
       "}\n",
       "#T_4abff_row7_col14 {\n",
       "  background-color: #5e7de7;\n",
       "  color: #f1f1f1;\n",
       "}\n",
       "#T_4abff_row7_col15 {\n",
       "  background-color: #86a9fc;\n",
       "  color: #f1f1f1;\n",
       "}\n",
       "#T_4abff_row8_col3 {\n",
       "  background-color: #f49a7b;\n",
       "  color: #000000;\n",
       "}\n",
       "#T_4abff_row8_col5 {\n",
       "  background-color: #d95847;\n",
       "  color: #f1f1f1;\n",
       "}\n",
       "#T_4abff_row8_col7 {\n",
       "  background-color: #f0cdbb;\n",
       "  color: #000000;\n",
       "}\n",
       "#T_4abff_row8_col11 {\n",
       "  background-color: #5b7ae5;\n",
       "  color: #f1f1f1;\n",
       "}\n",
       "#T_4abff_row8_col12 {\n",
       "  background-color: #4a63d3;\n",
       "  color: #f1f1f1;\n",
       "}\n",
       "#T_4abff_row9_col0, #T_4abff_row12_col0 {\n",
       "  background-color: #b9d0f9;\n",
       "  color: #000000;\n",
       "}\n",
       "#T_4abff_row9_col1, #T_4abff_row9_col5, #T_4abff_row12_col5, #T_4abff_row15_col3 {\n",
       "  background-color: #b7cff9;\n",
       "  color: #000000;\n",
       "}\n",
       "#T_4abff_row9_col2, #T_4abff_row15_col11 {\n",
       "  background-color: #b6cefa;\n",
       "  color: #000000;\n",
       "}\n",
       "#T_4abff_row9_col3 {\n",
       "  background-color: #8caffe;\n",
       "  color: #000000;\n",
       "}\n",
       "#T_4abff_row9_col4, #T_4abff_row12_col4, #T_4abff_row13_col11 {\n",
       "  background-color: #d8dce2;\n",
       "  color: #000000;\n",
       "}\n",
       "#T_4abff_row9_col6, #T_4abff_row10_col1 {\n",
       "  background-color: #aec9fc;\n",
       "  color: #000000;\n",
       "}\n",
       "#T_4abff_row9_col7 {\n",
       "  background-color: #799cf8;\n",
       "  color: #f1f1f1;\n",
       "}\n",
       "#T_4abff_row9_col8 {\n",
       "  background-color: #c3d5f4;\n",
       "  color: #000000;\n",
       "}\n",
       "#T_4abff_row9_col10, #T_4abff_row11_col6, #T_4abff_row13_col6 {\n",
       "  background-color: #b5cdfa;\n",
       "  color: #000000;\n",
       "}\n",
       "#T_4abff_row9_col11 {\n",
       "  background-color: #f3c7b1;\n",
       "  color: #000000;\n",
       "}\n",
       "#T_4abff_row9_col12, #T_4abff_row12_col9 {\n",
       "  background-color: #bd1f2d;\n",
       "  color: #f1f1f1;\n",
       "}\n",
       "#T_4abff_row9_col13 {\n",
       "  background-color: #f7a688;\n",
       "  color: #000000;\n",
       "}\n",
       "#T_4abff_row9_col15, #T_4abff_row10_col12, #T_4abff_row12_col10 {\n",
       "  background-color: #ecd3c5;\n",
       "  color: #000000;\n",
       "}\n",
       "#T_4abff_row10_col0 {\n",
       "  background-color: #bcd2f7;\n",
       "  color: #000000;\n",
       "}\n",
       "#T_4abff_row10_col2 {\n",
       "  background-color: #adc9fd;\n",
       "  color: #000000;\n",
       "}\n",
       "#T_4abff_row10_col3 {\n",
       "  background-color: #8badfd;\n",
       "  color: #000000;\n",
       "}\n",
       "#T_4abff_row10_col4 {\n",
       "  background-color: #cfdaea;\n",
       "  color: #000000;\n",
       "}\n",
       "#T_4abff_row10_col5 {\n",
       "  background-color: #bfd3f6;\n",
       "  color: #000000;\n",
       "}\n",
       "#T_4abff_row10_col6 {\n",
       "  background-color: #9fbfff;\n",
       "  color: #000000;\n",
       "}\n",
       "#T_4abff_row10_col7, #T_4abff_row11_col7 {\n",
       "  background-color: #6a8bef;\n",
       "  color: #f1f1f1;\n",
       "}\n",
       "#T_4abff_row10_col8, #T_4abff_row12_col8, #T_4abff_row15_col6 {\n",
       "  background-color: #c1d4f4;\n",
       "  color: #000000;\n",
       "}\n",
       "#T_4abff_row10_col9, #T_4abff_row12_col2 {\n",
       "  background-color: #b2ccfb;\n",
       "  color: #000000;\n",
       "}\n",
       "#T_4abff_row10_col14 {\n",
       "  background-color: #e3d9d3;\n",
       "  color: #000000;\n",
       "}\n",
       "#T_4abff_row11_col0 {\n",
       "  background-color: #cbd8ee;\n",
       "  color: #000000;\n",
       "}\n",
       "#T_4abff_row11_col1 {\n",
       "  background-color: #cad8ef;\n",
       "  color: #000000;\n",
       "}\n",
       "#T_4abff_row11_col2, #T_4abff_row13_col2 {\n",
       "  background-color: #c7d7f0;\n",
       "  color: #000000;\n",
       "}\n",
       "#T_4abff_row11_col3 {\n",
       "  background-color: #9abbff;\n",
       "  color: #000000;\n",
       "}\n",
       "#T_4abff_row11_col4 {\n",
       "  background-color: #d6dce4;\n",
       "  color: #000000;\n",
       "}\n",
       "#T_4abff_row11_col5, #T_4abff_row11_col8 {\n",
       "  background-color: #d3dbe7;\n",
       "  color: #000000;\n",
       "}\n",
       "#T_4abff_row11_col9 {\n",
       "  background-color: #f5c4ac;\n",
       "  color: #000000;\n",
       "}\n",
       "#T_4abff_row11_col10 {\n",
       "  background-color: #7da0f9;\n",
       "  color: #f1f1f1;\n",
       "}\n",
       "#T_4abff_row11_col12 {\n",
       "  background-color: #f2cab5;\n",
       "  color: #000000;\n",
       "}\n",
       "#T_4abff_row11_col13 {\n",
       "  background-color: #dadce0;\n",
       "  color: #000000;\n",
       "}\n",
       "#T_4abff_row11_col14, #T_4abff_row13_col4, #T_4abff_row15_col5 {\n",
       "  background-color: #d7dce3;\n",
       "  color: #000000;\n",
       "}\n",
       "#T_4abff_row11_col15 {\n",
       "  background-color: #c5d6f2;\n",
       "  color: #000000;\n",
       "}\n",
       "#T_4abff_row12_col1 {\n",
       "  background-color: #b3cdfb;\n",
       "  color: #000000;\n",
       "}\n",
       "#T_4abff_row12_col6 {\n",
       "  background-color: #abc8fd;\n",
       "  color: #000000;\n",
       "}\n",
       "#T_4abff_row12_col7 {\n",
       "  background-color: #7597f6;\n",
       "  color: #f1f1f1;\n",
       "}\n",
       "#T_4abff_row12_col11 {\n",
       "  background-color: #efcebd;\n",
       "  color: #000000;\n",
       "}\n",
       "#T_4abff_row12_col13 {\n",
       "  background-color: #f5c1a9;\n",
       "  color: #000000;\n",
       "}\n",
       "#T_4abff_row12_col14 {\n",
       "  background-color: #ee8468;\n",
       "  color: #f1f1f1;\n",
       "}\n",
       "#T_4abff_row13_col0, #T_4abff_row13_col1, #T_4abff_row14_col11 {\n",
       "  background-color: #c9d7f0;\n",
       "  color: #000000;\n",
       "}\n",
       "#T_4abff_row13_col3, #T_4abff_row15_col7 {\n",
       "  background-color: #9dbdff;\n",
       "  color: #000000;\n",
       "}\n",
       "#T_4abff_row13_col5 {\n",
       "  background-color: #cdd9ec;\n",
       "  color: #000000;\n",
       "}\n",
       "#T_4abff_row13_col8 {\n",
       "  background-color: #d1dae9;\n",
       "  color: #000000;\n",
       "}\n",
       "#T_4abff_row13_col9 {\n",
       "  background-color: #f6a385;\n",
       "  color: #000000;\n",
       "}\n",
       "#T_4abff_row13_col14 {\n",
       "  background-color: #89acfd;\n",
       "  color: #000000;\n",
       "}\n",
       "#T_4abff_row13_col15 {\n",
       "  background-color: #ead5c9;\n",
       "  color: #000000;\n",
       "}\n",
       "#T_4abff_row14_col0 {\n",
       "  background-color: #a7c5fe;\n",
       "  color: #000000;\n",
       "}\n",
       "#T_4abff_row14_col1 {\n",
       "  background-color: #a3c2fe;\n",
       "  color: #000000;\n",
       "}\n",
       "#T_4abff_row14_col2, #T_4abff_row14_col5 {\n",
       "  background-color: #a2c1ff;\n",
       "  color: #000000;\n",
       "}\n",
       "#T_4abff_row14_col4, #T_4abff_row15_col12 {\n",
       "  background-color: #e0dbd8;\n",
       "  color: #000000;\n",
       "}\n",
       "#T_4abff_row14_col6 {\n",
       "  background-color: #a1c0ff;\n",
       "  color: #000000;\n",
       "}\n",
       "#T_4abff_row14_col8, #T_4abff_row15_col4 {\n",
       "  background-color: #b1cbfc;\n",
       "  color: #000000;\n",
       "}\n",
       "#T_4abff_row14_col10 {\n",
       "  background-color: #dddcdc;\n",
       "  color: #000000;\n",
       "}\n",
       "#T_4abff_row15_col0 {\n",
       "  background-color: #d9dce1;\n",
       "  color: #000000;\n",
       "}\n",
       "#T_4abff_row15_col1 {\n",
       "  background-color: #dcdddd;\n",
       "  color: #000000;\n",
       "}\n",
       "#T_4abff_row15_col2 {\n",
       "  background-color: #dbdcde;\n",
       "  color: #000000;\n",
       "}\n",
       "#T_4abff_row15_col8, #T_4abff_row15_col13 {\n",
       "  background-color: #e2dad5;\n",
       "  color: #000000;\n",
       "}\n",
       "#T_4abff_row15_col9 {\n",
       "  background-color: #e8d6cc;\n",
       "  color: #000000;\n",
       "}\n",
       "</style>\n",
       "<table id=\"T_4abff\">\n",
       "  <thead>\n",
       "    <tr>\n",
       "      <th class=\"blank level0\" >&nbsp;</th>\n",
       "      <th id=\"T_4abff_level0_col0\" class=\"col_heading level0 col0\" >Calories Burned</th>\n",
       "      <th id=\"T_4abff_level0_col1\" class=\"col_heading level0 col1\" >Steps</th>\n",
       "      <th id=\"T_4abff_level0_col2\" class=\"col_heading level0 col2\" >Distance</th>\n",
       "      <th id=\"T_4abff_level0_col3\" class=\"col_heading level0 col3\" >Floors</th>\n",
       "      <th id=\"T_4abff_level0_col4\" class=\"col_heading level0 col4\" >Minutes Sedentary</th>\n",
       "      <th id=\"T_4abff_level0_col5\" class=\"col_heading level0 col5\" >Minutes Lightly Active</th>\n",
       "      <th id=\"T_4abff_level0_col6\" class=\"col_heading level0 col6\" >Minutes Fairly Active</th>\n",
       "      <th id=\"T_4abff_level0_col7\" class=\"col_heading level0 col7\" >Minutes Very Active</th>\n",
       "      <th id=\"T_4abff_level0_col8\" class=\"col_heading level0 col8\" >Activity Calories</th>\n",
       "      <th id=\"T_4abff_level0_col9\" class=\"col_heading level0 col9\" >Minutes Asleep</th>\n",
       "      <th id=\"T_4abff_level0_col10\" class=\"col_heading level0 col10\" >Minutes Awake</th>\n",
       "      <th id=\"T_4abff_level0_col11\" class=\"col_heading level0 col11\" >Number of Awakenings</th>\n",
       "      <th id=\"T_4abff_level0_col12\" class=\"col_heading level0 col12\" >Time in Bed</th>\n",
       "      <th id=\"T_4abff_level0_col13\" class=\"col_heading level0 col13\" >Minutes REM Sleep</th>\n",
       "      <th id=\"T_4abff_level0_col14\" class=\"col_heading level0 col14\" >Minutes Light Sleep</th>\n",
       "      <th id=\"T_4abff_level0_col15\" class=\"col_heading level0 col15\" >Minutes Deep Sleep</th>\n",
       "    </tr>\n",
       "  </thead>\n",
       "  <tbody>\n",
       "    <tr>\n",
       "      <th id=\"T_4abff_level0_row0\" class=\"row_heading level0 row0\" >Calories Burned</th>\n",
       "      <td id=\"T_4abff_row0_col0\" class=\"data row0 col0\" >1.000</td>\n",
       "      <td id=\"T_4abff_row0_col1\" class=\"data row0 col1\" >0.901</td>\n",
       "      <td id=\"T_4abff_row0_col2\" class=\"data row0 col2\" >0.899</td>\n",
       "      <td id=\"T_4abff_row0_col3\" class=\"data row0 col3\" >0.641</td>\n",
       "      <td id=\"T_4abff_row0_col4\" class=\"data row0 col4\" >-0.701</td>\n",
       "      <td id=\"T_4abff_row0_col5\" class=\"data row0 col5\" >0.757</td>\n",
       "      <td id=\"T_4abff_row0_col6\" class=\"data row0 col6\" >0.685</td>\n",
       "      <td id=\"T_4abff_row0_col7\" class=\"data row0 col7\" >0.537</td>\n",
       "      <td id=\"T_4abff_row0_col8\" class=\"data row0 col8\" >0.983</td>\n",
       "      <td id=\"T_4abff_row0_col9\" class=\"data row0 col9\" >-0.057</td>\n",
       "      <td id=\"T_4abff_row0_col10\" class=\"data row0 col10\" >-0.038</td>\n",
       "      <td id=\"T_4abff_row0_col11\" class=\"data row0 col11\" >0.042</td>\n",
       "      <td id=\"T_4abff_row0_col12\" class=\"data row0 col12\" >-0.060</td>\n",
       "      <td id=\"T_4abff_row0_col13\" class=\"data row0 col13\" >0.027</td>\n",
       "      <td id=\"T_4abff_row0_col14\" class=\"data row0 col14\" >-0.148</td>\n",
       "      <td id=\"T_4abff_row0_col15\" class=\"data row0 col15\" >0.126</td>\n",
       "    </tr>\n",
       "    <tr>\n",
       "      <th id=\"T_4abff_level0_row1\" class=\"row_heading level0 row1\" >Steps</th>\n",
       "      <td id=\"T_4abff_row1_col0\" class=\"data row1 col0\" >0.901</td>\n",
       "      <td id=\"T_4abff_row1_col1\" class=\"data row1 col1\" >1.000</td>\n",
       "      <td id=\"T_4abff_row1_col2\" class=\"data row1 col2\" >0.997</td>\n",
       "      <td id=\"T_4abff_row1_col3\" class=\"data row1 col3\" >0.776</td>\n",
       "      <td id=\"T_4abff_row1_col4\" class=\"data row1 col4\" >-0.691</td>\n",
       "      <td id=\"T_4abff_row1_col5\" class=\"data row1 col5\" >0.689</td>\n",
       "      <td id=\"T_4abff_row1_col6\" class=\"data row1 col6\" >0.627</td>\n",
       "      <td id=\"T_4abff_row1_col7\" class=\"data row1 col7\" >0.581</td>\n",
       "      <td id=\"T_4abff_row1_col8\" class=\"data row1 col8\" >0.922</td>\n",
       "      <td id=\"T_4abff_row1_col9\" class=\"data row1 col9\" >-0.063</td>\n",
       "      <td id=\"T_4abff_row1_col10\" class=\"data row1 col10\" >-0.106</td>\n",
       "      <td id=\"T_4abff_row1_col11\" class=\"data row1 col11\" >0.036</td>\n",
       "      <td id=\"T_4abff_row1_col12\" class=\"data row1 col12\" >-0.083</td>\n",
       "      <td id=\"T_4abff_row1_col13\" class=\"data row1 col13\" >0.029</td>\n",
       "      <td id=\"T_4abff_row1_col14\" class=\"data row1 col14\" >-0.161</td>\n",
       "      <td id=\"T_4abff_row1_col15\" class=\"data row1 col15\" >0.152</td>\n",
       "    </tr>\n",
       "    <tr>\n",
       "      <th id=\"T_4abff_level0_row2\" class=\"row_heading level0 row2\" >Distance</th>\n",
       "      <td id=\"T_4abff_row2_col0\" class=\"data row2 col0\" >0.899</td>\n",
       "      <td id=\"T_4abff_row2_col1\" class=\"data row2 col1\" >0.997</td>\n",
       "      <td id=\"T_4abff_row2_col2\" class=\"data row2 col2\" >1.000</td>\n",
       "      <td id=\"T_4abff_row2_col3\" class=\"data row2 col3\" >0.779</td>\n",
       "      <td id=\"T_4abff_row2_col4\" class=\"data row2 col4\" >-0.680</td>\n",
       "      <td id=\"T_4abff_row2_col5\" class=\"data row2 col5\" >0.670</td>\n",
       "      <td id=\"T_4abff_row2_col6\" class=\"data row2 col6\" >0.611</td>\n",
       "      <td id=\"T_4abff_row2_col7\" class=\"data row2 col7\" >0.601</td>\n",
       "      <td id=\"T_4abff_row2_col8\" class=\"data row2 col8\" >0.916</td>\n",
       "      <td id=\"T_4abff_row2_col9\" class=\"data row2 col9\" >-0.061</td>\n",
       "      <td id=\"T_4abff_row2_col10\" class=\"data row2 col10\" >-0.108</td>\n",
       "      <td id=\"T_4abff_row2_col11\" class=\"data row2 col11\" >0.035</td>\n",
       "      <td id=\"T_4abff_row2_col12\" class=\"data row2 col12\" >-0.082</td>\n",
       "      <td id=\"T_4abff_row2_col13\" class=\"data row2 col13\" >0.031</td>\n",
       "      <td id=\"T_4abff_row2_col14\" class=\"data row2 col14\" >-0.161</td>\n",
       "      <td id=\"T_4abff_row2_col15\" class=\"data row2 col15\" >0.151</td>\n",
       "    </tr>\n",
       "    <tr>\n",
       "      <th id=\"T_4abff_level0_row3\" class=\"row_heading level0 row3\" >Floors</th>\n",
       "      <td id=\"T_4abff_row3_col0\" class=\"data row3 col0\" >0.641</td>\n",
       "      <td id=\"T_4abff_row3_col1\" class=\"data row3 col1\" >0.776</td>\n",
       "      <td id=\"T_4abff_row3_col2\" class=\"data row3 col2\" >0.779</td>\n",
       "      <td id=\"T_4abff_row3_col3\" class=\"data row3 col3\" >1.000</td>\n",
       "      <td id=\"T_4abff_row3_col4\" class=\"data row3 col4\" >-0.455</td>\n",
       "      <td id=\"T_4abff_row3_col5\" class=\"data row3 col5\" >0.312</td>\n",
       "      <td id=\"T_4abff_row3_col6\" class=\"data row3 col6\" >0.484</td>\n",
       "      <td id=\"T_4abff_row3_col7\" class=\"data row3 col7\" >0.672</td>\n",
       "      <td id=\"T_4abff_row3_col8\" class=\"data row3 col8\" >0.635</td>\n",
       "      <td id=\"T_4abff_row3_col9\" class=\"data row3 col9\" >-0.096</td>\n",
       "      <td id=\"T_4abff_row3_col10\" class=\"data row3 col10\" >-0.098</td>\n",
       "      <td id=\"T_4abff_row3_col11\" class=\"data row3 col11\" >-0.039</td>\n",
       "      <td id=\"T_4abff_row3_col12\" class=\"data row3 col12\" >-0.111</td>\n",
       "      <td id=\"T_4abff_row3_col13\" class=\"data row3 col13\" >-0.026</td>\n",
       "      <td id=\"T_4abff_row3_col14\" class=\"data row3 col14\" >-0.144</td>\n",
       "      <td id=\"T_4abff_row3_col15\" class=\"data row3 col15\" >0.086</td>\n",
       "    </tr>\n",
       "    <tr>\n",
       "      <th id=\"T_4abff_level0_row4\" class=\"row_heading level0 row4\" >Minutes Sedentary</th>\n",
       "      <td id=\"T_4abff_row4_col0\" class=\"data row4 col0\" >-0.701</td>\n",
       "      <td id=\"T_4abff_row4_col1\" class=\"data row4 col1\" >-0.691</td>\n",
       "      <td id=\"T_4abff_row4_col2\" class=\"data row4 col2\" >-0.680</td>\n",
       "      <td id=\"T_4abff_row4_col3\" class=\"data row4 col3\" >-0.455</td>\n",
       "      <td id=\"T_4abff_row4_col4\" class=\"data row4 col4\" >1.000</td>\n",
       "      <td id=\"T_4abff_row4_col5\" class=\"data row4 col5\" >-0.691</td>\n",
       "      <td id=\"T_4abff_row4_col6\" class=\"data row4 col6\" >-0.518</td>\n",
       "      <td id=\"T_4abff_row4_col7\" class=\"data row4 col7\" >-0.251</td>\n",
       "      <td id=\"T_4abff_row4_col8\" class=\"data row4 col8\" >-0.767</td>\n",
       "      <td id=\"T_4abff_row4_col9\" class=\"data row4 col9\" >0.089</td>\n",
       "      <td id=\"T_4abff_row4_col10\" class=\"data row4 col10\" >0.033</td>\n",
       "      <td id=\"T_4abff_row4_col11\" class=\"data row4 col11\" >0.074</td>\n",
       "      <td id=\"T_4abff_row4_col12\" class=\"data row4 col12\" >0.088</td>\n",
       "      <td id=\"T_4abff_row4_col13\" class=\"data row4 col13\" >0.075</td>\n",
       "      <td id=\"T_4abff_row4_col14\" class=\"data row4 col14\" >0.139</td>\n",
       "      <td id=\"T_4abff_row4_col15\" class=\"data row4 col15\" >-0.145</td>\n",
       "    </tr>\n",
       "    <tr>\n",
       "      <th id=\"T_4abff_level0_row5\" class=\"row_heading level0 row5\" >Minutes Lightly Active</th>\n",
       "      <td id=\"T_4abff_row5_col0\" class=\"data row5 col0\" >0.757</td>\n",
       "      <td id=\"T_4abff_row5_col1\" class=\"data row5 col1\" >0.689</td>\n",
       "      <td id=\"T_4abff_row5_col2\" class=\"data row5 col2\" >0.670</td>\n",
       "      <td id=\"T_4abff_row5_col3\" class=\"data row5 col3\" >0.312</td>\n",
       "      <td id=\"T_4abff_row5_col4\" class=\"data row5 col4\" >-0.691</td>\n",
       "      <td id=\"T_4abff_row5_col5\" class=\"data row5 col5\" >1.000</td>\n",
       "      <td id=\"T_4abff_row5_col6\" class=\"data row5 col6\" >0.284</td>\n",
       "      <td id=\"T_4abff_row5_col7\" class=\"data row5 col7\" >-0.043</td>\n",
       "      <td id=\"T_4abff_row5_col8\" class=\"data row5 col8\" >0.811</td>\n",
       "      <td id=\"T_4abff_row5_col9\" class=\"data row5 col9\" >-0.059</td>\n",
       "      <td id=\"T_4abff_row5_col10\" class=\"data row5 col10\" >-0.018</td>\n",
       "      <td id=\"T_4abff_row5_col11\" class=\"data row5 col11\" >0.093</td>\n",
       "      <td id=\"T_4abff_row5_col12\" class=\"data row5 col12\" >-0.057</td>\n",
       "      <td id=\"T_4abff_row5_col13\" class=\"data row5 col13\" >0.057</td>\n",
       "      <td id=\"T_4abff_row5_col14\" class=\"data row5 col14\" >-0.164</td>\n",
       "      <td id=\"T_4abff_row5_col15\" class=\"data row5 col15\" >0.116</td>\n",
       "    </tr>\n",
       "    <tr>\n",
       "      <th id=\"T_4abff_level0_row6\" class=\"row_heading level0 row6\" >Minutes Fairly Active</th>\n",
       "      <td id=\"T_4abff_row6_col0\" class=\"data row6 col0\" >0.685</td>\n",
       "      <td id=\"T_4abff_row6_col1\" class=\"data row6 col1\" >0.627</td>\n",
       "      <td id=\"T_4abff_row6_col2\" class=\"data row6 col2\" >0.611</td>\n",
       "      <td id=\"T_4abff_row6_col3\" class=\"data row6 col3\" >0.484</td>\n",
       "      <td id=\"T_4abff_row6_col4\" class=\"data row6 col4\" >-0.518</td>\n",
       "      <td id=\"T_4abff_row6_col5\" class=\"data row6 col5\" >0.284</td>\n",
       "      <td id=\"T_4abff_row6_col6\" class=\"data row6 col6\" >1.000</td>\n",
       "      <td id=\"T_4abff_row6_col7\" class=\"data row6 col7\" >0.489</td>\n",
       "      <td id=\"T_4abff_row6_col8\" class=\"data row6 col8\" >0.690</td>\n",
       "      <td id=\"T_4abff_row6_col9\" class=\"data row6 col9\" >0.010</td>\n",
       "      <td id=\"T_4abff_row6_col10\" class=\"data row6 col10\" >-0.056</td>\n",
       "      <td id=\"T_4abff_row6_col11\" class=\"data row6 col11\" >0.037</td>\n",
       "      <td id=\"T_4abff_row6_col12\" class=\"data row6 col12\" >-0.005</td>\n",
       "      <td id=\"T_4abff_row6_col13\" class=\"data row6 col13\" >0.037</td>\n",
       "      <td id=\"T_4abff_row6_col14\" class=\"data row6 col14\" >-0.052</td>\n",
       "      <td id=\"T_4abff_row6_col15\" class=\"data row6 col15\" >0.099</td>\n",
       "    </tr>\n",
       "    <tr>\n",
       "      <th id=\"T_4abff_level0_row7\" class=\"row_heading level0 row7\" >Minutes Very Active</th>\n",
       "      <td id=\"T_4abff_row7_col0\" class=\"data row7 col0\" >0.537</td>\n",
       "      <td id=\"T_4abff_row7_col1\" class=\"data row7 col1\" >0.581</td>\n",
       "      <td id=\"T_4abff_row7_col2\" class=\"data row7 col2\" >0.601</td>\n",
       "      <td id=\"T_4abff_row7_col3\" class=\"data row7 col3\" >0.672</td>\n",
       "      <td id=\"T_4abff_row7_col4\" class=\"data row7 col4\" >-0.251</td>\n",
       "      <td id=\"T_4abff_row7_col5\" class=\"data row7 col5\" >-0.043</td>\n",
       "      <td id=\"T_4abff_row7_col6\" class=\"data row7 col6\" >0.489</td>\n",
       "      <td id=\"T_4abff_row7_col7\" class=\"data row7 col7\" >1.000</td>\n",
       "      <td id=\"T_4abff_row7_col8\" class=\"data row7 col8\" >0.484</td>\n",
       "      <td id=\"T_4abff_row7_col9\" class=\"data row7 col9\" >-0.008</td>\n",
       "      <td id=\"T_4abff_row7_col10\" class=\"data row7 col10\" >-0.065</td>\n",
       "      <td id=\"T_4abff_row7_col11\" class=\"data row7 col11\" >-0.061</td>\n",
       "      <td id=\"T_4abff_row7_col12\" class=\"data row7 col12\" >-0.023</td>\n",
       "      <td id=\"T_4abff_row7_col13\" class=\"data row7 col13\" >-0.041</td>\n",
       "      <td id=\"T_4abff_row7_col14\" class=\"data row7 col14\" >-0.029</td>\n",
       "      <td id=\"T_4abff_row7_col15\" class=\"data row7 col15\" >0.120</td>\n",
       "    </tr>\n",
       "    <tr>\n",
       "      <th id=\"T_4abff_level0_row8\" class=\"row_heading level0 row8\" >Activity Calories</th>\n",
       "      <td id=\"T_4abff_row8_col0\" class=\"data row8 col0\" >0.983</td>\n",
       "      <td id=\"T_4abff_row8_col1\" class=\"data row8 col1\" >0.922</td>\n",
       "      <td id=\"T_4abff_row8_col2\" class=\"data row8 col2\" >0.916</td>\n",
       "      <td id=\"T_4abff_row8_col3\" class=\"data row8 col3\" >0.635</td>\n",
       "      <td id=\"T_4abff_row8_col4\" class=\"data row8 col4\" >-0.767</td>\n",
       "      <td id=\"T_4abff_row8_col5\" class=\"data row8 col5\" >0.811</td>\n",
       "      <td id=\"T_4abff_row8_col6\" class=\"data row8 col6\" >0.690</td>\n",
       "      <td id=\"T_4abff_row8_col7\" class=\"data row8 col7\" >0.484</td>\n",
       "      <td id=\"T_4abff_row8_col8\" class=\"data row8 col8\" >1.000</td>\n",
       "      <td id=\"T_4abff_row8_col9\" class=\"data row8 col9\" >-0.044</td>\n",
       "      <td id=\"T_4abff_row8_col10\" class=\"data row8 col10\" >-0.053</td>\n",
       "      <td id=\"T_4abff_row8_col11\" class=\"data row8 col11\" >0.054</td>\n",
       "      <td id=\"T_4abff_row8_col12\" class=\"data row8 col12\" >-0.052</td>\n",
       "      <td id=\"T_4abff_row8_col13\" class=\"data row8 col13\" >0.039</td>\n",
       "      <td id=\"T_4abff_row8_col14\" class=\"data row8 col14\" >-0.145</td>\n",
       "      <td id=\"T_4abff_row8_col15\" class=\"data row8 col15\" >0.151</td>\n",
       "    </tr>\n",
       "    <tr>\n",
       "      <th id=\"T_4abff_level0_row9\" class=\"row_heading level0 row9\" >Minutes Asleep</th>\n",
       "      <td id=\"T_4abff_row9_col0\" class=\"data row9 col0\" >-0.057</td>\n",
       "      <td id=\"T_4abff_row9_col1\" class=\"data row9 col1\" >-0.063</td>\n",
       "      <td id=\"T_4abff_row9_col2\" class=\"data row9 col2\" >-0.061</td>\n",
       "      <td id=\"T_4abff_row9_col3\" class=\"data row9 col3\" >-0.096</td>\n",
       "      <td id=\"T_4abff_row9_col4\" class=\"data row9 col4\" >0.089</td>\n",
       "      <td id=\"T_4abff_row9_col5\" class=\"data row9 col5\" >-0.059</td>\n",
       "      <td id=\"T_4abff_row9_col6\" class=\"data row9 col6\" >0.010</td>\n",
       "      <td id=\"T_4abff_row9_col7\" class=\"data row9 col7\" >-0.008</td>\n",
       "      <td id=\"T_4abff_row9_col8\" class=\"data row9 col8\" >-0.044</td>\n",
       "      <td id=\"T_4abff_row9_col9\" class=\"data row9 col9\" >1.000</td>\n",
       "      <td id=\"T_4abff_row9_col10\" class=\"data row9 col10\" >0.297</td>\n",
       "      <td id=\"T_4abff_row9_col11\" class=\"data row9 col11\" >0.591</td>\n",
       "      <td id=\"T_4abff_row9_col12\" class=\"data row9 col12\" >0.971</td>\n",
       "      <td id=\"T_4abff_row9_col13\" class=\"data row9 col13\" >0.696</td>\n",
       "      <td id=\"T_4abff_row9_col14\" class=\"data row9 col14\" >0.730</td>\n",
       "      <td id=\"T_4abff_row9_col15\" class=\"data row9 col15\" >0.499</td>\n",
       "    </tr>\n",
       "    <tr>\n",
       "      <th id=\"T_4abff_level0_row10\" class=\"row_heading level0 row10\" >Minutes Awake</th>\n",
       "      <td id=\"T_4abff_row10_col0\" class=\"data row10 col0\" >-0.038</td>\n",
       "      <td id=\"T_4abff_row10_col1\" class=\"data row10 col1\" >-0.106</td>\n",
       "      <td id=\"T_4abff_row10_col2\" class=\"data row10 col2\" >-0.108</td>\n",
       "      <td id=\"T_4abff_row10_col3\" class=\"data row10 col3\" >-0.098</td>\n",
       "      <td id=\"T_4abff_row10_col4\" class=\"data row10 col4\" >0.033</td>\n",
       "      <td id=\"T_4abff_row10_col5\" class=\"data row10 col5\" >-0.018</td>\n",
       "      <td id=\"T_4abff_row10_col6\" class=\"data row10 col6\" >-0.056</td>\n",
       "      <td id=\"T_4abff_row10_col7\" class=\"data row10 col7\" >-0.065</td>\n",
       "      <td id=\"T_4abff_row10_col8\" class=\"data row10 col8\" >-0.053</td>\n",
       "      <td id=\"T_4abff_row10_col9\" class=\"data row10 col9\" >0.297</td>\n",
       "      <td id=\"T_4abff_row10_col10\" class=\"data row10 col10\" >1.000</td>\n",
       "      <td id=\"T_4abff_row10_col11\" class=\"data row10 col11\" >0.120</td>\n",
       "      <td id=\"T_4abff_row10_col12\" class=\"data row10 col12\" >0.515</td>\n",
       "      <td id=\"T_4abff_row10_col13\" class=\"data row10 col13\" >-0.074</td>\n",
       "      <td id=\"T_4abff_row10_col14\" class=\"data row10 col14\" >0.449</td>\n",
       "      <td id=\"T_4abff_row10_col15\" class=\"data row10 col15\" >0.045</td>\n",
       "    </tr>\n",
       "    <tr>\n",
       "      <th id=\"T_4abff_level0_row11\" class=\"row_heading level0 row11\" >Number of Awakenings</th>\n",
       "      <td id=\"T_4abff_row11_col0\" class=\"data row11 col0\" >0.042</td>\n",
       "      <td id=\"T_4abff_row11_col1\" class=\"data row11 col1\" >0.036</td>\n",
       "      <td id=\"T_4abff_row11_col2\" class=\"data row11 col2\" >0.035</td>\n",
       "      <td id=\"T_4abff_row11_col3\" class=\"data row11 col3\" >-0.039</td>\n",
       "      <td id=\"T_4abff_row11_col4\" class=\"data row11 col4\" >0.074</td>\n",
       "      <td id=\"T_4abff_row11_col5\" class=\"data row11 col5\" >0.093</td>\n",
       "      <td id=\"T_4abff_row11_col6\" class=\"data row11 col6\" >0.037</td>\n",
       "      <td id=\"T_4abff_row11_col7\" class=\"data row11 col7\" >-0.061</td>\n",
       "      <td id=\"T_4abff_row11_col8\" class=\"data row11 col8\" >0.054</td>\n",
       "      <td id=\"T_4abff_row11_col9\" class=\"data row11 col9\" >0.591</td>\n",
       "      <td id=\"T_4abff_row11_col10\" class=\"data row11 col10\" >0.120</td>\n",
       "      <td id=\"T_4abff_row11_col11\" class=\"data row11 col11\" >1.000</td>\n",
       "      <td id=\"T_4abff_row11_col12\" class=\"data row11 col12\" >0.560</td>\n",
       "      <td id=\"T_4abff_row11_col13\" class=\"data row11 col13\" >0.452</td>\n",
       "      <td id=\"T_4abff_row11_col14\" class=\"data row11 col14\" >0.393</td>\n",
       "      <td id=\"T_4abff_row11_col15\" class=\"data row11 col15\" >0.330</td>\n",
       "    </tr>\n",
       "    <tr>\n",
       "      <th id=\"T_4abff_level0_row12\" class=\"row_heading level0 row12\" >Time in Bed</th>\n",
       "      <td id=\"T_4abff_row12_col0\" class=\"data row12 col0\" >-0.060</td>\n",
       "      <td id=\"T_4abff_row12_col1\" class=\"data row12 col1\" >-0.083</td>\n",
       "      <td id=\"T_4abff_row12_col2\" class=\"data row12 col2\" >-0.082</td>\n",
       "      <td id=\"T_4abff_row12_col3\" class=\"data row12 col3\" >-0.111</td>\n",
       "      <td id=\"T_4abff_row12_col4\" class=\"data row12 col4\" >0.088</td>\n",
       "      <td id=\"T_4abff_row12_col5\" class=\"data row12 col5\" >-0.057</td>\n",
       "      <td id=\"T_4abff_row12_col6\" class=\"data row12 col6\" >-0.005</td>\n",
       "      <td id=\"T_4abff_row12_col7\" class=\"data row12 col7\" >-0.023</td>\n",
       "      <td id=\"T_4abff_row12_col8\" class=\"data row12 col8\" >-0.052</td>\n",
       "      <td id=\"T_4abff_row12_col9\" class=\"data row12 col9\" >0.971</td>\n",
       "      <td id=\"T_4abff_row12_col10\" class=\"data row12 col10\" >0.515</td>\n",
       "      <td id=\"T_4abff_row12_col11\" class=\"data row12 col11\" >0.560</td>\n",
       "      <td id=\"T_4abff_row12_col12\" class=\"data row12 col12\" >1.000</td>\n",
       "      <td id=\"T_4abff_row12_col13\" class=\"data row12 col13\" >0.606</td>\n",
       "      <td id=\"T_4abff_row12_col14\" class=\"data row12 col14\" >0.766</td>\n",
       "      <td id=\"T_4abff_row12_col15\" class=\"data row12 col15\" >0.459</td>\n",
       "    </tr>\n",
       "    <tr>\n",
       "      <th id=\"T_4abff_level0_row13\" class=\"row_heading level0 row13\" >Minutes REM Sleep</th>\n",
       "      <td id=\"T_4abff_row13_col0\" class=\"data row13 col0\" >0.027</td>\n",
       "      <td id=\"T_4abff_row13_col1\" class=\"data row13 col1\" >0.029</td>\n",
       "      <td id=\"T_4abff_row13_col2\" class=\"data row13 col2\" >0.031</td>\n",
       "      <td id=\"T_4abff_row13_col3\" class=\"data row13 col3\" >-0.026</td>\n",
       "      <td id=\"T_4abff_row13_col4\" class=\"data row13 col4\" >0.075</td>\n",
       "      <td id=\"T_4abff_row13_col5\" class=\"data row13 col5\" >0.057</td>\n",
       "      <td id=\"T_4abff_row13_col6\" class=\"data row13 col6\" >0.037</td>\n",
       "      <td id=\"T_4abff_row13_col7\" class=\"data row13 col7\" >-0.041</td>\n",
       "      <td id=\"T_4abff_row13_col8\" class=\"data row13 col8\" >0.039</td>\n",
       "      <td id=\"T_4abff_row13_col9\" class=\"data row13 col9\" >0.696</td>\n",
       "      <td id=\"T_4abff_row13_col10\" class=\"data row13 col10\" >-0.074</td>\n",
       "      <td id=\"T_4abff_row13_col11\" class=\"data row13 col11\" >0.452</td>\n",
       "      <td id=\"T_4abff_row13_col12\" class=\"data row13 col12\" >0.606</td>\n",
       "      <td id=\"T_4abff_row13_col13\" class=\"data row13 col13\" >1.000</td>\n",
       "      <td id=\"T_4abff_row13_col14\" class=\"data row13 col14\" >0.115</td>\n",
       "      <td id=\"T_4abff_row13_col15\" class=\"data row13 col15\" >0.487</td>\n",
       "    </tr>\n",
       "    <tr>\n",
       "      <th id=\"T_4abff_level0_row14\" class=\"row_heading level0 row14\" >Minutes Light Sleep</th>\n",
       "      <td id=\"T_4abff_row14_col0\" class=\"data row14 col0\" >-0.148</td>\n",
       "      <td id=\"T_4abff_row14_col1\" class=\"data row14 col1\" >-0.161</td>\n",
       "      <td id=\"T_4abff_row14_col2\" class=\"data row14 col2\" >-0.161</td>\n",
       "      <td id=\"T_4abff_row14_col3\" class=\"data row14 col3\" >-0.144</td>\n",
       "      <td id=\"T_4abff_row14_col4\" class=\"data row14 col4\" >0.139</td>\n",
       "      <td id=\"T_4abff_row14_col5\" class=\"data row14 col5\" >-0.164</td>\n",
       "      <td id=\"T_4abff_row14_col6\" class=\"data row14 col6\" >-0.052</td>\n",
       "      <td id=\"T_4abff_row14_col7\" class=\"data row14 col7\" >-0.029</td>\n",
       "      <td id=\"T_4abff_row14_col8\" class=\"data row14 col8\" >-0.145</td>\n",
       "      <td id=\"T_4abff_row14_col9\" class=\"data row14 col9\" >0.730</td>\n",
       "      <td id=\"T_4abff_row14_col10\" class=\"data row14 col10\" >0.449</td>\n",
       "      <td id=\"T_4abff_row14_col11\" class=\"data row14 col11\" >0.393</td>\n",
       "      <td id=\"T_4abff_row14_col12\" class=\"data row14 col12\" >0.766</td>\n",
       "      <td id=\"T_4abff_row14_col13\" class=\"data row14 col13\" >0.115</td>\n",
       "      <td id=\"T_4abff_row14_col14\" class=\"data row14 col14\" >1.000</td>\n",
       "      <td id=\"T_4abff_row14_col15\" class=\"data row14 col15\" >-0.053</td>\n",
       "    </tr>\n",
       "    <tr>\n",
       "      <th id=\"T_4abff_level0_row15\" class=\"row_heading level0 row15\" >Minutes Deep Sleep</th>\n",
       "      <td id=\"T_4abff_row15_col0\" class=\"data row15 col0\" >0.126</td>\n",
       "      <td id=\"T_4abff_row15_col1\" class=\"data row15 col1\" >0.152</td>\n",
       "      <td id=\"T_4abff_row15_col2\" class=\"data row15 col2\" >0.151</td>\n",
       "      <td id=\"T_4abff_row15_col3\" class=\"data row15 col3\" >0.086</td>\n",
       "      <td id=\"T_4abff_row15_col4\" class=\"data row15 col4\" >-0.145</td>\n",
       "      <td id=\"T_4abff_row15_col5\" class=\"data row15 col5\" >0.116</td>\n",
       "      <td id=\"T_4abff_row15_col6\" class=\"data row15 col6\" >0.099</td>\n",
       "      <td id=\"T_4abff_row15_col7\" class=\"data row15 col7\" >0.120</td>\n",
       "      <td id=\"T_4abff_row15_col8\" class=\"data row15 col8\" >0.151</td>\n",
       "      <td id=\"T_4abff_row15_col9\" class=\"data row15 col9\" >0.499</td>\n",
       "      <td id=\"T_4abff_row15_col10\" class=\"data row15 col10\" >0.045</td>\n",
       "      <td id=\"T_4abff_row15_col11\" class=\"data row15 col11\" >0.330</td>\n",
       "      <td id=\"T_4abff_row15_col12\" class=\"data row15 col12\" >0.459</td>\n",
       "      <td id=\"T_4abff_row15_col13\" class=\"data row15 col13\" >0.487</td>\n",
       "      <td id=\"T_4abff_row15_col14\" class=\"data row15 col14\" >-0.053</td>\n",
       "      <td id=\"T_4abff_row15_col15\" class=\"data row15 col15\" >1.000</td>\n",
       "    </tr>\n",
       "  </tbody>\n",
       "</table>\n"
      ],
      "text/plain": [
       "<pandas.io.formats.style.Styler at 0x25a6e0c3820>"
      ]
     },
     "execution_count": 459,
     "metadata": {},
     "output_type": "execute_result"
    }
   ],
   "source": [
    "corr = interest_data.corr()\n",
    "corr.style.background_gradient(cmap='coolwarm').format(precision=3)"
   ]
  },
  {
   "cell_type": "code",
   "execution_count": 460,
   "metadata": {},
   "outputs": [],
   "source": [
    "drop_columns_two = ['Calories Burned', 'Steps', 'Distance', 'Activity Calories', 'Time in Bed', 'Minutes Asleep']\n",
    "interest_data = interest_data.drop(drop_columns_two, axis=1)\n",
    "features = interest_data.columns"
   ]
  },
  {
   "cell_type": "markdown",
   "metadata": {},
   "source": [
    "As expected we see that a lot of the activity features are correlated between each other so we defined a couple we could get rid of and rerun the correlation. The second time we run the correlation matrix we see that we significantly reduced the amount of correlation between the features to have a much more reliable model avoiding colinearity."
   ]
  },
  {
   "cell_type": "code",
   "execution_count": 461,
   "metadata": {},
   "outputs": [
    {
     "data": {
      "text/html": [
       "<style type=\"text/css\">\n",
       "#T_b7bee_row0_col0, #T_b7bee_row1_col1, #T_b7bee_row2_col2, #T_b7bee_row3_col3, #T_b7bee_row4_col4, #T_b7bee_row5_col5, #T_b7bee_row6_col6, #T_b7bee_row7_col7, #T_b7bee_row8_col8, #T_b7bee_row9_col9 {\n",
       "  background-color: #b40426;\n",
       "  color: #f1f1f1;\n",
       "}\n",
       "#T_b7bee_row0_col1, #T_b7bee_row1_col7 {\n",
       "  background-color: #6687ed;\n",
       "  color: #f1f1f1;\n",
       "}\n",
       "#T_b7bee_row0_col2, #T_b7bee_row3_col4 {\n",
       "  background-color: #f1cdba;\n",
       "  color: #000000;\n",
       "}\n",
       "#T_b7bee_row0_col3 {\n",
       "  background-color: #f7ba9f;\n",
       "  color: #000000;\n",
       "}\n",
       "#T_b7bee_row0_col4 {\n",
       "  background-color: #f59f80;\n",
       "  color: #000000;\n",
       "}\n",
       "#T_b7bee_row0_col5, #T_b7bee_row1_col0, #T_b7bee_row1_col2, #T_b7bee_row1_col3, #T_b7bee_row1_col4, #T_b7bee_row1_col9, #T_b7bee_row2_col1, #T_b7bee_row2_col8, #T_b7bee_row4_col6, #T_b7bee_row5_col7 {\n",
       "  background-color: #3b4cc0;\n",
       "  color: #f1f1f1;\n",
       "}\n",
       "#T_b7bee_row0_col6, #T_b7bee_row7_col5 {\n",
       "  background-color: #4055c8;\n",
       "  color: #f1f1f1;\n",
       "}\n",
       "#T_b7bee_row0_col7 {\n",
       "  background-color: #485fd1;\n",
       "  color: #f1f1f1;\n",
       "}\n",
       "#T_b7bee_row0_col8 {\n",
       "  background-color: #3f53c6;\n",
       "  color: #f1f1f1;\n",
       "}\n",
       "#T_b7bee_row0_col9 {\n",
       "  background-color: #7b9ff9;\n",
       "  color: #f1f1f1;\n",
       "}\n",
       "#T_b7bee_row1_col5 {\n",
       "  background-color: #5f7fe8;\n",
       "  color: #f1f1f1;\n",
       "}\n",
       "#T_b7bee_row1_col6 {\n",
       "  background-color: #6282ea;\n",
       "  color: #f1f1f1;\n",
       "}\n",
       "#T_b7bee_row1_col8, #T_b7bee_row4_col1 {\n",
       "  background-color: #90b2fe;\n",
       "  color: #000000;\n",
       "}\n",
       "#T_b7bee_row2_col0, #T_b7bee_row2_col3 {\n",
       "  background-color: #e4d9d2;\n",
       "  color: #000000;\n",
       "}\n",
       "#T_b7bee_row2_col4, #T_b7bee_row5_col9, #T_b7bee_row7_col4 {\n",
       "  background-color: #6f92f3;\n",
       "  color: #f1f1f1;\n",
       "}\n",
       "#T_b7bee_row2_col5 {\n",
       "  background-color: #506bda;\n",
       "  color: #f1f1f1;\n",
       "}\n",
       "#T_b7bee_row2_col6 {\n",
       "  background-color: #688aef;\n",
       "  color: #f1f1f1;\n",
       "}\n",
       "#T_b7bee_row2_col7 {\n",
       "  background-color: #6180e9;\n",
       "  color: #f1f1f1;\n",
       "}\n",
       "#T_b7bee_row2_col9 {\n",
       "  background-color: #85a8fc;\n",
       "  color: #f1f1f1;\n",
       "}\n",
       "#T_b7bee_row3_col0 {\n",
       "  background-color: #f6bea4;\n",
       "  color: #000000;\n",
       "}\n",
       "#T_b7bee_row3_col1, #T_b7bee_row3_col7 {\n",
       "  background-color: #5a78e4;\n",
       "  color: #f1f1f1;\n",
       "}\n",
       "#T_b7bee_row3_col2 {\n",
       "  background-color: #eed0c0;\n",
       "  color: #000000;\n",
       "}\n",
       "#T_b7bee_row3_col5 {\n",
       "  background-color: #455cce;\n",
       "  color: #f1f1f1;\n",
       "}\n",
       "#T_b7bee_row3_col6 {\n",
       "  background-color: #5673e0;\n",
       "  color: #f1f1f1;\n",
       "}\n",
       "#T_b7bee_row3_col8, #T_b7bee_row9_col8 {\n",
       "  background-color: #5875e1;\n",
       "  color: #f1f1f1;\n",
       "}\n",
       "#T_b7bee_row3_col9, #T_b7bee_row8_col0 {\n",
       "  background-color: #80a3fa;\n",
       "  color: #f1f1f1;\n",
       "}\n",
       "#T_b7bee_row4_col0 {\n",
       "  background-color: #f18f71;\n",
       "  color: #f1f1f1;\n",
       "}\n",
       "#T_b7bee_row4_col2 {\n",
       "  background-color: #bbd1f8;\n",
       "  color: #000000;\n",
       "}\n",
       "#T_b7bee_row4_col3 {\n",
       "  background-color: #f7b99e;\n",
       "  color: #000000;\n",
       "}\n",
       "#T_b7bee_row4_col5, #T_b7bee_row4_col7 {\n",
       "  background-color: #4358cb;\n",
       "  color: #f1f1f1;\n",
       "}\n",
       "#T_b7bee_row4_col8 {\n",
       "  background-color: #5e7de7;\n",
       "  color: #f1f1f1;\n",
       "}\n",
       "#T_b7bee_row4_col9 {\n",
       "  background-color: #86a9fc;\n",
       "  color: #f1f1f1;\n",
       "}\n",
       "#T_b7bee_row5_col0 {\n",
       "  background-color: #8badfd;\n",
       "  color: #000000;\n",
       "}\n",
       "#T_b7bee_row5_col1, #T_b7bee_row8_col6 {\n",
       "  background-color: #c9d7f0;\n",
       "  color: #000000;\n",
       "}\n",
       "#T_b7bee_row5_col2 {\n",
       "  background-color: #bfd3f6;\n",
       "  color: #000000;\n",
       "}\n",
       "#T_b7bee_row5_col3 {\n",
       "  background-color: #9fbfff;\n",
       "  color: #000000;\n",
       "}\n",
       "#T_b7bee_row5_col4, #T_b7bee_row6_col4 {\n",
       "  background-color: #6a8bef;\n",
       "  color: #f1f1f1;\n",
       "}\n",
       "#T_b7bee_row5_col6 {\n",
       "  background-color: #7093f3;\n",
       "  color: #f1f1f1;\n",
       "}\n",
       "#T_b7bee_row5_col8 {\n",
       "  background-color: #e3d9d3;\n",
       "  color: #000000;\n",
       "}\n",
       "#T_b7bee_row6_col0 {\n",
       "  background-color: #9abbff;\n",
       "  color: #000000;\n",
       "}\n",
       "#T_b7bee_row6_col1, #T_b7bee_row7_col1 {\n",
       "  background-color: #cfdaea;\n",
       "  color: #000000;\n",
       "}\n",
       "#T_b7bee_row6_col2 {\n",
       "  background-color: #d3dbe7;\n",
       "  color: #000000;\n",
       "}\n",
       "#T_b7bee_row6_col3, #T_b7bee_row7_col3 {\n",
       "  background-color: #b5cdfa;\n",
       "  color: #000000;\n",
       "}\n",
       "#T_b7bee_row6_col5 {\n",
       "  background-color: #7a9df8;\n",
       "  color: #f1f1f1;\n",
       "}\n",
       "#T_b7bee_row6_col7, #T_b7bee_row8_col1 {\n",
       "  background-color: #dadce0;\n",
       "  color: #000000;\n",
       "}\n",
       "#T_b7bee_row6_col8, #T_b7bee_row9_col2 {\n",
       "  background-color: #d7dce3;\n",
       "  color: #000000;\n",
       "}\n",
       "#T_b7bee_row6_col9 {\n",
       "  background-color: #c5d6f2;\n",
       "  color: #000000;\n",
       "}\n",
       "#T_b7bee_row7_col0, #T_b7bee_row9_col4 {\n",
       "  background-color: #9dbdff;\n",
       "  color: #000000;\n",
       "}\n",
       "#T_b7bee_row7_col2 {\n",
       "  background-color: #cdd9ec;\n",
       "  color: #000000;\n",
       "}\n",
       "#T_b7bee_row7_col6 {\n",
       "  background-color: #d8dce2;\n",
       "  color: #000000;\n",
       "}\n",
       "#T_b7bee_row7_col8 {\n",
       "  background-color: #89acfd;\n",
       "  color: #000000;\n",
       "}\n",
       "#T_b7bee_row7_col9 {\n",
       "  background-color: #ead5c9;\n",
       "  color: #000000;\n",
       "}\n",
       "#T_b7bee_row8_col2 {\n",
       "  background-color: #a2c1ff;\n",
       "  color: #000000;\n",
       "}\n",
       "#T_b7bee_row8_col3 {\n",
       "  background-color: #a1c0ff;\n",
       "  color: #000000;\n",
       "}\n",
       "#T_b7bee_row8_col4, #T_b7bee_row8_col7 {\n",
       "  background-color: #7396f5;\n",
       "  color: #f1f1f1;\n",
       "}\n",
       "#T_b7bee_row8_col5 {\n",
       "  background-color: #dcdddd;\n",
       "  color: #000000;\n",
       "}\n",
       "#T_b7bee_row8_col9 {\n",
       "  background-color: #536edd;\n",
       "  color: #f1f1f1;\n",
       "}\n",
       "#T_b7bee_row9_col0 {\n",
       "  background-color: #b7cff9;\n",
       "  color: #000000;\n",
       "}\n",
       "#T_b7bee_row9_col1 {\n",
       "  background-color: #a6c4fe;\n",
       "  color: #000000;\n",
       "}\n",
       "#T_b7bee_row9_col3 {\n",
       "  background-color: #c1d4f4;\n",
       "  color: #000000;\n",
       "}\n",
       "#T_b7bee_row9_col5 {\n",
       "  background-color: #6384eb;\n",
       "  color: #f1f1f1;\n",
       "}\n",
       "#T_b7bee_row9_col6 {\n",
       "  background-color: #b6cefa;\n",
       "  color: #000000;\n",
       "}\n",
       "#T_b7bee_row9_col7 {\n",
       "  background-color: #e2dad5;\n",
       "  color: #000000;\n",
       "}\n",
       "</style>\n",
       "<table id=\"T_b7bee\">\n",
       "  <thead>\n",
       "    <tr>\n",
       "      <th class=\"blank level0\" >&nbsp;</th>\n",
       "      <th id=\"T_b7bee_level0_col0\" class=\"col_heading level0 col0\" >Floors</th>\n",
       "      <th id=\"T_b7bee_level0_col1\" class=\"col_heading level0 col1\" >Minutes Sedentary</th>\n",
       "      <th id=\"T_b7bee_level0_col2\" class=\"col_heading level0 col2\" >Minutes Lightly Active</th>\n",
       "      <th id=\"T_b7bee_level0_col3\" class=\"col_heading level0 col3\" >Minutes Fairly Active</th>\n",
       "      <th id=\"T_b7bee_level0_col4\" class=\"col_heading level0 col4\" >Minutes Very Active</th>\n",
       "      <th id=\"T_b7bee_level0_col5\" class=\"col_heading level0 col5\" >Minutes Awake</th>\n",
       "      <th id=\"T_b7bee_level0_col6\" class=\"col_heading level0 col6\" >Number of Awakenings</th>\n",
       "      <th id=\"T_b7bee_level0_col7\" class=\"col_heading level0 col7\" >Minutes REM Sleep</th>\n",
       "      <th id=\"T_b7bee_level0_col8\" class=\"col_heading level0 col8\" >Minutes Light Sleep</th>\n",
       "      <th id=\"T_b7bee_level0_col9\" class=\"col_heading level0 col9\" >Minutes Deep Sleep</th>\n",
       "    </tr>\n",
       "  </thead>\n",
       "  <tbody>\n",
       "    <tr>\n",
       "      <th id=\"T_b7bee_level0_row0\" class=\"row_heading level0 row0\" >Floors</th>\n",
       "      <td id=\"T_b7bee_row0_col0\" class=\"data row0 col0\" >1.000</td>\n",
       "      <td id=\"T_b7bee_row0_col1\" class=\"data row0 col1\" >-0.455</td>\n",
       "      <td id=\"T_b7bee_row0_col2\" class=\"data row0 col2\" >0.312</td>\n",
       "      <td id=\"T_b7bee_row0_col3\" class=\"data row0 col3\" >0.484</td>\n",
       "      <td id=\"T_b7bee_row0_col4\" class=\"data row0 col4\" >0.672</td>\n",
       "      <td id=\"T_b7bee_row0_col5\" class=\"data row0 col5\" >-0.098</td>\n",
       "      <td id=\"T_b7bee_row0_col6\" class=\"data row0 col6\" >-0.039</td>\n",
       "      <td id=\"T_b7bee_row0_col7\" class=\"data row0 col7\" >-0.026</td>\n",
       "      <td id=\"T_b7bee_row0_col8\" class=\"data row0 col8\" >-0.144</td>\n",
       "      <td id=\"T_b7bee_row0_col9\" class=\"data row0 col9\" >0.086</td>\n",
       "    </tr>\n",
       "    <tr>\n",
       "      <th id=\"T_b7bee_level0_row1\" class=\"row_heading level0 row1\" >Minutes Sedentary</th>\n",
       "      <td id=\"T_b7bee_row1_col0\" class=\"data row1 col0\" >-0.455</td>\n",
       "      <td id=\"T_b7bee_row1_col1\" class=\"data row1 col1\" >1.000</td>\n",
       "      <td id=\"T_b7bee_row1_col2\" class=\"data row1 col2\" >-0.691</td>\n",
       "      <td id=\"T_b7bee_row1_col3\" class=\"data row1 col3\" >-0.518</td>\n",
       "      <td id=\"T_b7bee_row1_col4\" class=\"data row1 col4\" >-0.251</td>\n",
       "      <td id=\"T_b7bee_row1_col5\" class=\"data row1 col5\" >0.033</td>\n",
       "      <td id=\"T_b7bee_row1_col6\" class=\"data row1 col6\" >0.074</td>\n",
       "      <td id=\"T_b7bee_row1_col7\" class=\"data row1 col7\" >0.075</td>\n",
       "      <td id=\"T_b7bee_row1_col8\" class=\"data row1 col8\" >0.139</td>\n",
       "      <td id=\"T_b7bee_row1_col9\" class=\"data row1 col9\" >-0.145</td>\n",
       "    </tr>\n",
       "    <tr>\n",
       "      <th id=\"T_b7bee_level0_row2\" class=\"row_heading level0 row2\" >Minutes Lightly Active</th>\n",
       "      <td id=\"T_b7bee_row2_col0\" class=\"data row2 col0\" >0.312</td>\n",
       "      <td id=\"T_b7bee_row2_col1\" class=\"data row2 col1\" >-0.691</td>\n",
       "      <td id=\"T_b7bee_row2_col2\" class=\"data row2 col2\" >1.000</td>\n",
       "      <td id=\"T_b7bee_row2_col3\" class=\"data row2 col3\" >0.284</td>\n",
       "      <td id=\"T_b7bee_row2_col4\" class=\"data row2 col4\" >-0.043</td>\n",
       "      <td id=\"T_b7bee_row2_col5\" class=\"data row2 col5\" >-0.018</td>\n",
       "      <td id=\"T_b7bee_row2_col6\" class=\"data row2 col6\" >0.093</td>\n",
       "      <td id=\"T_b7bee_row2_col7\" class=\"data row2 col7\" >0.057</td>\n",
       "      <td id=\"T_b7bee_row2_col8\" class=\"data row2 col8\" >-0.164</td>\n",
       "      <td id=\"T_b7bee_row2_col9\" class=\"data row2 col9\" >0.116</td>\n",
       "    </tr>\n",
       "    <tr>\n",
       "      <th id=\"T_b7bee_level0_row3\" class=\"row_heading level0 row3\" >Minutes Fairly Active</th>\n",
       "      <td id=\"T_b7bee_row3_col0\" class=\"data row3 col0\" >0.484</td>\n",
       "      <td id=\"T_b7bee_row3_col1\" class=\"data row3 col1\" >-0.518</td>\n",
       "      <td id=\"T_b7bee_row3_col2\" class=\"data row3 col2\" >0.284</td>\n",
       "      <td id=\"T_b7bee_row3_col3\" class=\"data row3 col3\" >1.000</td>\n",
       "      <td id=\"T_b7bee_row3_col4\" class=\"data row3 col4\" >0.489</td>\n",
       "      <td id=\"T_b7bee_row3_col5\" class=\"data row3 col5\" >-0.056</td>\n",
       "      <td id=\"T_b7bee_row3_col6\" class=\"data row3 col6\" >0.037</td>\n",
       "      <td id=\"T_b7bee_row3_col7\" class=\"data row3 col7\" >0.037</td>\n",
       "      <td id=\"T_b7bee_row3_col8\" class=\"data row3 col8\" >-0.052</td>\n",
       "      <td id=\"T_b7bee_row3_col9\" class=\"data row3 col9\" >0.099</td>\n",
       "    </tr>\n",
       "    <tr>\n",
       "      <th id=\"T_b7bee_level0_row4\" class=\"row_heading level0 row4\" >Minutes Very Active</th>\n",
       "      <td id=\"T_b7bee_row4_col0\" class=\"data row4 col0\" >0.672</td>\n",
       "      <td id=\"T_b7bee_row4_col1\" class=\"data row4 col1\" >-0.251</td>\n",
       "      <td id=\"T_b7bee_row4_col2\" class=\"data row4 col2\" >-0.043</td>\n",
       "      <td id=\"T_b7bee_row4_col3\" class=\"data row4 col3\" >0.489</td>\n",
       "      <td id=\"T_b7bee_row4_col4\" class=\"data row4 col4\" >1.000</td>\n",
       "      <td id=\"T_b7bee_row4_col5\" class=\"data row4 col5\" >-0.065</td>\n",
       "      <td id=\"T_b7bee_row4_col6\" class=\"data row4 col6\" >-0.061</td>\n",
       "      <td id=\"T_b7bee_row4_col7\" class=\"data row4 col7\" >-0.041</td>\n",
       "      <td id=\"T_b7bee_row4_col8\" class=\"data row4 col8\" >-0.029</td>\n",
       "      <td id=\"T_b7bee_row4_col9\" class=\"data row4 col9\" >0.120</td>\n",
       "    </tr>\n",
       "    <tr>\n",
       "      <th id=\"T_b7bee_level0_row5\" class=\"row_heading level0 row5\" >Minutes Awake</th>\n",
       "      <td id=\"T_b7bee_row5_col0\" class=\"data row5 col0\" >-0.098</td>\n",
       "      <td id=\"T_b7bee_row5_col1\" class=\"data row5 col1\" >0.033</td>\n",
       "      <td id=\"T_b7bee_row5_col2\" class=\"data row5 col2\" >-0.018</td>\n",
       "      <td id=\"T_b7bee_row5_col3\" class=\"data row5 col3\" >-0.056</td>\n",
       "      <td id=\"T_b7bee_row5_col4\" class=\"data row5 col4\" >-0.065</td>\n",
       "      <td id=\"T_b7bee_row5_col5\" class=\"data row5 col5\" >1.000</td>\n",
       "      <td id=\"T_b7bee_row5_col6\" class=\"data row5 col6\" >0.120</td>\n",
       "      <td id=\"T_b7bee_row5_col7\" class=\"data row5 col7\" >-0.074</td>\n",
       "      <td id=\"T_b7bee_row5_col8\" class=\"data row5 col8\" >0.449</td>\n",
       "      <td id=\"T_b7bee_row5_col9\" class=\"data row5 col9\" >0.045</td>\n",
       "    </tr>\n",
       "    <tr>\n",
       "      <th id=\"T_b7bee_level0_row6\" class=\"row_heading level0 row6\" >Number of Awakenings</th>\n",
       "      <td id=\"T_b7bee_row6_col0\" class=\"data row6 col0\" >-0.039</td>\n",
       "      <td id=\"T_b7bee_row6_col1\" class=\"data row6 col1\" >0.074</td>\n",
       "      <td id=\"T_b7bee_row6_col2\" class=\"data row6 col2\" >0.093</td>\n",
       "      <td id=\"T_b7bee_row6_col3\" class=\"data row6 col3\" >0.037</td>\n",
       "      <td id=\"T_b7bee_row6_col4\" class=\"data row6 col4\" >-0.061</td>\n",
       "      <td id=\"T_b7bee_row6_col5\" class=\"data row6 col5\" >0.120</td>\n",
       "      <td id=\"T_b7bee_row6_col6\" class=\"data row6 col6\" >1.000</td>\n",
       "      <td id=\"T_b7bee_row6_col7\" class=\"data row6 col7\" >0.452</td>\n",
       "      <td id=\"T_b7bee_row6_col8\" class=\"data row6 col8\" >0.393</td>\n",
       "      <td id=\"T_b7bee_row6_col9\" class=\"data row6 col9\" >0.330</td>\n",
       "    </tr>\n",
       "    <tr>\n",
       "      <th id=\"T_b7bee_level0_row7\" class=\"row_heading level0 row7\" >Minutes REM Sleep</th>\n",
       "      <td id=\"T_b7bee_row7_col0\" class=\"data row7 col0\" >-0.026</td>\n",
       "      <td id=\"T_b7bee_row7_col1\" class=\"data row7 col1\" >0.075</td>\n",
       "      <td id=\"T_b7bee_row7_col2\" class=\"data row7 col2\" >0.057</td>\n",
       "      <td id=\"T_b7bee_row7_col3\" class=\"data row7 col3\" >0.037</td>\n",
       "      <td id=\"T_b7bee_row7_col4\" class=\"data row7 col4\" >-0.041</td>\n",
       "      <td id=\"T_b7bee_row7_col5\" class=\"data row7 col5\" >-0.074</td>\n",
       "      <td id=\"T_b7bee_row7_col6\" class=\"data row7 col6\" >0.452</td>\n",
       "      <td id=\"T_b7bee_row7_col7\" class=\"data row7 col7\" >1.000</td>\n",
       "      <td id=\"T_b7bee_row7_col8\" class=\"data row7 col8\" >0.115</td>\n",
       "      <td id=\"T_b7bee_row7_col9\" class=\"data row7 col9\" >0.487</td>\n",
       "    </tr>\n",
       "    <tr>\n",
       "      <th id=\"T_b7bee_level0_row8\" class=\"row_heading level0 row8\" >Minutes Light Sleep</th>\n",
       "      <td id=\"T_b7bee_row8_col0\" class=\"data row8 col0\" >-0.144</td>\n",
       "      <td id=\"T_b7bee_row8_col1\" class=\"data row8 col1\" >0.139</td>\n",
       "      <td id=\"T_b7bee_row8_col2\" class=\"data row8 col2\" >-0.164</td>\n",
       "      <td id=\"T_b7bee_row8_col3\" class=\"data row8 col3\" >-0.052</td>\n",
       "      <td id=\"T_b7bee_row8_col4\" class=\"data row8 col4\" >-0.029</td>\n",
       "      <td id=\"T_b7bee_row8_col5\" class=\"data row8 col5\" >0.449</td>\n",
       "      <td id=\"T_b7bee_row8_col6\" class=\"data row8 col6\" >0.393</td>\n",
       "      <td id=\"T_b7bee_row8_col7\" class=\"data row8 col7\" >0.115</td>\n",
       "      <td id=\"T_b7bee_row8_col8\" class=\"data row8 col8\" >1.000</td>\n",
       "      <td id=\"T_b7bee_row8_col9\" class=\"data row8 col9\" >-0.053</td>\n",
       "    </tr>\n",
       "    <tr>\n",
       "      <th id=\"T_b7bee_level0_row9\" class=\"row_heading level0 row9\" >Minutes Deep Sleep</th>\n",
       "      <td id=\"T_b7bee_row9_col0\" class=\"data row9 col0\" >0.086</td>\n",
       "      <td id=\"T_b7bee_row9_col1\" class=\"data row9 col1\" >-0.145</td>\n",
       "      <td id=\"T_b7bee_row9_col2\" class=\"data row9 col2\" >0.116</td>\n",
       "      <td id=\"T_b7bee_row9_col3\" class=\"data row9 col3\" >0.099</td>\n",
       "      <td id=\"T_b7bee_row9_col4\" class=\"data row9 col4\" >0.120</td>\n",
       "      <td id=\"T_b7bee_row9_col5\" class=\"data row9 col5\" >0.045</td>\n",
       "      <td id=\"T_b7bee_row9_col6\" class=\"data row9 col6\" >0.330</td>\n",
       "      <td id=\"T_b7bee_row9_col7\" class=\"data row9 col7\" >0.487</td>\n",
       "      <td id=\"T_b7bee_row9_col8\" class=\"data row9 col8\" >-0.053</td>\n",
       "      <td id=\"T_b7bee_row9_col9\" class=\"data row9 col9\" >1.000</td>\n",
       "    </tr>\n",
       "  </tbody>\n",
       "</table>\n"
      ],
      "text/plain": [
       "<pandas.io.formats.style.Styler at 0x25a6c306530>"
      ]
     },
     "execution_count": 461,
     "metadata": {},
     "output_type": "execute_result"
    }
   ],
   "source": [
    "corr = interest_data.corr()\n",
    "corr.style.background_gradient(cmap='coolwarm').format(precision=3)"
   ]
  },
  {
   "cell_type": "markdown",
   "metadata": {},
   "source": [
    "Now lets look at the distribution of the data with histograms of each of the remaining features to see if there are any skewed data we need to fix in order to feed the model good quality information."
   ]
  },
  {
   "cell_type": "code",
   "execution_count": 462,
   "metadata": {},
   "outputs": [
    {
     "data": {
      "text/plain": [
       "array([[<AxesSubplot:title={'center':'Floors'}>,\n",
       "        <AxesSubplot:title={'center':'Minutes Sedentary'}>,\n",
       "        <AxesSubplot:title={'center':'Minutes Lightly Active'}>],\n",
       "       [<AxesSubplot:title={'center':'Minutes Fairly Active'}>,\n",
       "        <AxesSubplot:title={'center':'Minutes Very Active'}>,\n",
       "        <AxesSubplot:title={'center':'Minutes Awake'}>],\n",
       "       [<AxesSubplot:title={'center':'Number of Awakenings'}>,\n",
       "        <AxesSubplot:title={'center':'Minutes REM Sleep'}>,\n",
       "        <AxesSubplot:title={'center':'Minutes Light Sleep'}>],\n",
       "       [<AxesSubplot:title={'center':'Minutes Deep Sleep'}>,\n",
       "        <AxesSubplot:>, <AxesSubplot:>]], dtype=object)"
      ]
     },
     "execution_count": 462,
     "metadata": {},
     "output_type": "execute_result"
    },
    {
     "data": {
      "image/png": "[encoded data removed]",
      "text/plain": [
       "<Figure size 1440x1080 with 12 Axes>"
      ]
     },
     "metadata": {
      "needs_background": "light"
     },
     "output_type": "display_data"
    }
   ],
   "source": [
    "interest_data.hist(figsize=(20,15))"
   ]
  },
  {
   "cell_type": "code",
   "execution_count": 463,
   "metadata": {},
   "outputs": [
    {
     "data": {
      "text/plain": [
       "array([[<AxesSubplot:title={'center':'Floors'}>,\n",
       "        <AxesSubplot:title={'center':'Minutes Lightly Active'}>]],\n",
       "      dtype=object)"
      ]
     },
     "execution_count": 463,
     "metadata": {},
     "output_type": "execute_result"
    },
    {
     "data": {
      "image/png": "[encoded data removed]",
      "text/plain": [
       "<Figure size 720x360 with 2 Axes>"
      ]
     },
     "metadata": {
      "needs_background": "light"
     },
     "output_type": "display_data"
    }
   ],
   "source": [
    "skewed = ['Floors', 'Minutes Lightly Active']\n",
    "interest_data[skewed] = np.log(interest_data[skewed]+1)\n",
    "interest_data[skewed].hist(figsize=(10,5))"
   ]
  },
  {
   "cell_type": "markdown",
   "metadata": {},
   "source": [
    "### Scaling\n",
    "For this project I'll be using PCA to reduce the dimensionality and be able to feed to another model, I'll talk more in the next section about the models, but in this case a scaling is needed and we dot it with the Sklearn library to scale the information accordingly. I'll verify that everything is scaled with another round of histograms."
   ]
  },
  {
   "cell_type": "code",
   "execution_count": 464,
   "metadata": {},
   "outputs": [
    {
     "data": {
      "text/plain": [
       "array([[<AxesSubplot:title={'center':'Floors'}>,\n",
       "        <AxesSubplot:title={'center':'Minutes Sedentary'}>,\n",
       "        <AxesSubplot:title={'center':'Minutes Lightly Active'}>],\n",
       "       [<AxesSubplot:title={'center':'Minutes Fairly Active'}>,\n",
       "        <AxesSubplot:title={'center':'Minutes Very Active'}>,\n",
       "        <AxesSubplot:title={'center':'Minutes Awake'}>],\n",
       "       [<AxesSubplot:title={'center':'Number of Awakenings'}>,\n",
       "        <AxesSubplot:title={'center':'Minutes REM Sleep'}>,\n",
       "        <AxesSubplot:title={'center':'Minutes Light Sleep'}>],\n",
       "       [<AxesSubplot:title={'center':'Minutes Deep Sleep'}>,\n",
       "        <AxesSubplot:>, <AxesSubplot:>]], dtype=object)"
      ]
     },
     "execution_count": 464,
     "metadata": {},
     "output_type": "execute_result"
    },
    {
     "data": {
      "image/png": "[encoded data removed]",
      "text/plain": [
       "<Figure size 1440x1080 with 12 Axes>"
      ]
     },
     "metadata": {
      "needs_background": "light"
     },
     "output_type": "display_data"
    }
   ],
   "source": [
    "scaler = StandardScaler().fit(interest_data)\n",
    "interest_data_scaled = scaler.transform(interest_data)\n",
    "pd.DataFrame(interest_data_scaled, columns=interest_data.columns).hist(figsize=(20,15))"
   ]
  },
  {
   "cell_type": "markdown",
   "metadata": {},
   "source": [
    "## Models\n",
    "### PCA for Dimensionality Reduction\n",
    "For this part I'll be doing a PCA to reduce the dimensionality of the problem. In this case we see to achieve a 75% of explained variance we need to have at least 5 Principal Components, but due to limitations I'll be focusing on the first 2 to graphically plot and use the capabilities of plotly to plot a 3rd PC."
   ]
  },
  {
   "cell_type": "code",
   "execution_count": 465,
   "metadata": {},
   "outputs": [
    {
     "data": {
      "text/plain": [
       "array([0.28237744, 0.19814076, 0.13938699, 0.1182421 , 0.07565552])"
      ]
     },
     "execution_count": 465,
     "metadata": {},
     "output_type": "execute_result"
    }
   ],
   "source": [
    "pca = PCA(n_components=0.75).fit(interest_data_scaled)\n",
    "reduced = pca.transform(interest_data_scaled)\n",
    "pca.explained_variance_ratio_\n"
   ]
  },
  {
   "cell_type": "code",
   "execution_count": 466,
   "metadata": {},
   "outputs": [
    {
     "data": {
      "application/vnd.plotly.v1+json": {
       "config": {
        "plotlyServerURL": "https://plot.ly"
       },
       "data": [
        {
         "hovertemplate": "0=%{x}<br>1=%{y}<br>color=%{marker.color}<extra></extra>",
         "legendgroup": "",
         "marker": {
          "color": [
           0,
           1,
           1,
           0,
           1,
           1,
           1,
           1,
           0,
           1,
           1,
           1,
           0,
           1,
           0,
           1,
           0,
           0,
           1,
           0,
           1,
           1,
           1,
           1,
           0,
           0,
           0,
           0,
           1,
           0,
           1,
           0,
           1,
           0,
           1,
           1,
           0,
           0,
           0,
           1,
           0,
           1,
           1,
           0,
           1,
           1,
           1,
           0,
           1,
           0,
           0,
           0,
           0,
           0,
           1,
           1,
           0,
           1,
           1,
           0,
           0,
           1,
           1,
           0,
           1,
           1,
           0,
           1,
           1,
           1,
           0,
           0,
           0,
           1,
           0,
           1,
           0,
           0,
           1,
           0,
           1,
           1,
           0,
           1,
           1,
           1,
           1,
           1,
           1,
           0,
           0,
           1,
           0,
           0,
           1,
           0,
           1,
           0,
           1,
           0,
           0,
           0,
           1,
           0,
           0,
           1,
           0,
           1,
           1,
           1,
           1,
           1,
           0,
           0,
           1,
           1,
           1,
           0,
           1,
           1,
           1,
           0,
           1,
           0,
           0,
           0,
           1,
           0,
           1,
           1,
           0,
           0,
           0,
           0,
           0,
           1,
           0,
           1,
           0,
           1,
           0,
           0,
           1,
           1,
           1,
           0,
           0,
           0,
           0,
           1,
           0,
           0,
           0,
           0,
           1,
           0,
           0,
           1,
           0,
           0,
           1,
           0,
           0,
           0,
           1,
           1,
           0,
           0,
           0,
           1,
           0,
           1,
           1,
           0,
           0,
           0,
           0,
           1,
           1,
           0,
           0,
           1,
           0,
           0,
           1,
           0,
           0,
           0,
           0,
           1,
           0,
           1,
           0,
           1,
           0,
           0,
           0,
           1,
           1,
           1,
           0,
           1,
           1,
           0,
           1,
           1,
           1,
           0,
           0,
           1,
           0,
           0,
           1,
           1,
           0,
           0,
           1,
           1,
           1,
           1,
           0,
           1,
           0,
           0,
           1,
           0,
           0,
           0,
           1,
           0,
           1,
           0,
           1,
           0,
           1,
           0,
           0,
           0,
           1,
           1,
           0,
           1
          ],
          "coloraxis": "coloraxis",
          "symbol": "circle"
         },
         "mode": "markers",
         "name": "",
         "orientation": "v",
         "showlegend": false,
         "type": "scatter",
         "x": [
          -0.4035197110792526,
          -0.8610515146664975,
          -2.0962651048872485,
          1.9997408677594608,
          -1.6519878430792225,
          -1.9545691494784059,
          2.1309370750796734,
          -1.0219610019042458,
          -1.1266573484388636,
          0.3303300968961071,
          5.184941055357711,
          -0.9646024401340689,
          0.4180429273308522,
          -2.0547190652829044,
          0.4186387795079518,
          0.44286046991893185,
          1.617050069378218,
          -1.050564896130068,
          -3.017774182560766,
          2.6415453580823587,
          0.5754902071177007,
          3.5026348848062794,
          -0.9146681686169227,
          3.0797102480447416,
          -0.9070459274708026,
          -0.6001033773819927,
          0.30446381238842823,
          0.619450990131671,
          -1.5716307244322039,
          0.5764109345137161,
          -0.5325451989218966,
          2.031667992638542,
          -1.101307577072503,
          -2.0677209814107287,
          -0.0885549857246776,
          -1.9191675726349444,
          -1.350967222827509,
          -1.4140328627000156,
          2.2225116936290763,
          -1.6621637616813998,
          -0.06880783692661303,
          0.6058913169149487,
          -0.5869993496633087,
          -1.6817765851080368,
          -2.9622362705336873,
          -2.47397408000138,
          0.5558142062705888,
          -2.977105529357065,
          -2.777813803625116,
          2.271547008533007,
          -2.2343114018246406,
          0.5509572184992872,
          2.165529164937689,
          0.1511905787965026,
          -0.2760423702983569,
          -1.4432592219352773,
          -1.0598625857868145,
          -1.036528272133523,
          -1.2207358813266007,
          3.030026411132474,
          -1.0668163286712324,
          -2.2095258715399626,
          -0.5596420657114873,
          1.5509939084821236,
          -2.8913146424392804,
          1.3774361445420469,
          0.19345467543190686,
          -2.7756621827738024,
          5.436734458651105,
          -1.1220006824541686,
          -1.8307468984381903,
          1.1603671096261294,
          0.9592393129920683,
          0.22447451254388912,
          -1.4973160432082464,
          -3.0749765595194263,
          -0.5717260220314153,
          -0.7320358870411411,
          -3.460183342911067,
          -2.2044824005737613,
          -2.670923999652477,
          0.13225088779613617,
          0.31325281606744554,
          -0.3844406995658939,
          -2.1945747038840135,
          -1.0567359503970646,
          -1.0685260544234267,
          -0.9284655581451182,
          -2.0316323933218157,
          2.579985718214705,
          -0.11960214515971822,
          -0.6020927058655487,
          -0.3154901302704853,
          1.1013345844751203,
          0.4897205348607495,
          1.9176247072610464,
          -0.6087566719302001,
          -1.4237789731451136,
          2.166297881077211,
          -0.528892344113953,
          -0.013878585588584704,
          -0.3042820589603681,
          -1.6341946427294676,
          -1.3042616081060465,
          0.801377187318106,
          -1.2334781919092608,
          -1.1493338443293606,
          1.4064326781998573,
          3.0354771982866993,
          -1.2622108986334197,
          -0.444901489962224,
          -1.0697795420919105,
          4.157624339056384,
          -1.451866188381867,
          1.5746212578628633,
          -0.23885777717292,
          -0.42227923064208017,
          0.18387267074551383,
          5.948929398821794,
          -0.3440531805052412,
          0.28023997821793,
          -0.3009181665762277,
          2.15652347927129,
          1.8348348159425507,
          -2.169061717246106,
          -1.4933758420957064,
          0.7576772886658717,
          -1.1484077888713446,
          1.801070092378493,
          -0.13638113807395602,
          -0.084173066537126,
          -1.5267759251112893,
          0.2984541989402523,
          0.40735359351961115,
          -0.9636305070510612,
          -0.7425393210147798,
          -1.1291549681703583,
          2.092305403607786,
          2.4413949740371246,
          -0.6510202546239706,
          1.7017759654058158,
          1.3140373550226863,
          -1.3558400560693007,
          -1.0280772497160888,
          -0.08736110964352146,
          1.7008145679440203,
          2.943456613266617,
          0.9177163090006825,
          -1.9410968263340092,
          -0.7494124335872446,
          -1.9955691275585012,
          0.7020667931753309,
          0.8809708282658317,
          -2.2094326916993623,
          -1.7628624656352154,
          -1.586814661592693,
          0.8878888239529911,
          -1.009394606172429,
          0.4237999941471293,
          -0.17959807661713403,
          -1.828794963674512,
          -0.9685703256028358,
          -0.44378980360505316,
          -0.14469631050389184,
          -1.7425718873239973,
          0.6962004081314801,
          1.512274461628085,
          -0.41983847996178064,
          0.18147734081408445,
          -1.04119478185248,
          -1.2717057349419516,
          2.09658654005686,
          -0.535671496256606,
          -0.21931785328009817,
          0.6507370498222977,
          1.9791036171752519,
          -1.3531741210669,
          0.3777701197528586,
          -1.2752851437362749,
          1.0148640866371073,
          0.16235240569595527,
          2.658402209341985,
          0.011151209940870037,
          -2.4188321199528056,
          -0.12943436460043412,
          1.7665171398461061,
          -0.5215580419181086,
          0.06212438528985614,
          1.1712468514794927,
          5.718400350610163,
          0.8311441909238094,
          1.1568813453002862,
          1.996270889668836,
          -2.177063224652023,
          1.065425429847666,
          -0.07754500248140009,
          -0.7025002496383365,
          0.8378650482891334,
          1.8308596028762656,
          -0.22933316007175825,
          -1.7653904778971512,
          -0.5302521665473374,
          0.10448936602332277,
          0.08218742791440924,
          -1.4562853594331353,
          -1.7579909134495175,
          3.461938546915636,
          1.9730388826813778,
          0.3558270730768094,
          0.7334094572319403,
          1.4077622042053966,
          -0.17803972652063185,
          1.3661850951349523,
          1.5869859075860309,
          -0.10787300607826283,
          -2.80575641295205,
          0.038686922715916755,
          4.178026072822426,
          -0.9565288874664887,
          0.7944743959064389,
          2.1447378779035846,
          -0.2972599525695758,
          -0.6113841306347192,
          0.7999884464357827,
          0.23448460769006246,
          1.7427102536678671,
          -0.3577551411398742,
          0.594122451570228,
          0.8230278699191221,
          3.6726781908995974,
          0.24884376787046605,
          1.7030359256270897,
          -1.5579942795284965,
          -0.27196000299647616,
          -1.3720427032250662,
          2.8527214543588926,
          -1.0943440009679912,
          1.9171347227852544,
          -0.446383218959924,
          -1.5768822518219374,
          -0.539078957404231,
          1.096310929137974
         ],
         "xaxis": "x",
         "y": [
          -0.9936292529370561,
          -0.6575551844879168,
          -0.9495584624669886,
          2.063689141027822,
          -1.6013327668680508,
          -0.24559923138969428,
          -0.3984803643781718,
          -0.6042680737305525,
          0.5645126814062454,
          -2.207979683106503,
          -3.5721706071978847,
          0.2515876329671503,
          0.4631073034497998,
          0.5448914800281519,
          1.8979435487485794,
          -0.6816175860800743,
          0.15200833915482684,
          3.6010311572647375,
          0.9706089687665564,
          0.8473738203220096,
          -1.296526277844481,
          -0.6828539838058464,
          -1.1980195543403578,
          -1.6011306914882706,
          1.1934354145910253,
          -0.09199143761440913,
          0.9537662172236057,
          0.9247057320182789,
          -0.4973715377916448,
          0.5379878588982868,
          -2.3198930797946065,
          1.8647874329240877,
          -1.9854942764313437,
          0.25892816888610554,
          0.3281921475178356,
          0.9252355924730559,
          1.0594827034529768,
          0.34162874225936446,
          -0.2299815764879254,
          -0.6762096811507635,
          1.2395114506204485,
          0.9085540264927877,
          -0.971585396165468,
          1.152789404215914,
          -3.9110178685306827,
          0.6868712302914161,
          -0.4520116148543725,
          3.103761737731746,
          -0.5657317158801219,
          -0.30691098596212596,
          -0.37691992238091176,
          -0.05431092605839779,
          0.9706975772183606,
          1.123328803172692,
          -2.73221727076886,
          -0.5896310661943254,
          0.5624622673678766,
          -0.6882382689609823,
          -2.3096881417235,
          1.592581190699403,
          1.0310792307756484,
          -0.4449364824702547,
          -0.024744123696018104,
          4.8670960152348535,
          -1.8202327751960086,
          -0.48451622110674203,
          3.546884349468825,
          -0.7494220689505959,
          -0.4644766791960539,
          -0.4207554648415225,
          1.334299482142079,
          -0.6778528911552743,
          0.15641769305867206,
          -0.270373624336474,
          3.257900594327708,
          -0.1492871723354133,
          1.4522328786796705,
          0.46092786450845824,
          -0.27088874001765983,
          0.45628717190661505,
          -1.6535493900463567,
          -0.5505756919284204,
          0.6196166104632398,
          -0.8399902279849096,
          -1.0998998239218232,
          0.2685433367519346,
          -0.218158557316712,
          -0.24886668722348473,
          -1.7886334681744254,
          0.8760293380901341,
          0.3473073785213635,
          -0.6683741543966747,
          1.7900095783490377,
          0.31026118236292166,
          -2.5910397260184705,
          0.24762221211162683,
          -0.4260836224228456,
          0.7545936212994483,
          -3.3382889476354074,
          2.4707996663521956,
          2.5937620300289175,
          0.4607065997401307,
          -0.6928439018073835,
          1.1998223089495712,
          0.9116634022915822,
          -0.7189529275755652,
          0.151337106688453,
          -0.6771465037088022,
          -0.9571237244351616,
          0.16824209695467376,
          -0.5006158252135177,
          -0.920677086275904,
          1.0801904004597056,
          2.9333224919394656,
          -0.3034556940710838,
          -3.0387736501173728,
          -0.03760108052664871,
          0.14429423166580826,
          -0.9488829851312987,
          -1.2860730698364704,
          -0.5550160736446519,
          0.7817117715472669,
          -2.753865879677905,
          1.4260514181914488,
          1.0534714063503097,
          0.8415459069753632,
          -1.004788998070873,
          0.48089839003796125,
          -3.06400661652335,
          -1.8269415646889824,
          1.2111136615253284,
          0.6282743226577976,
          -0.7140189189759318,
          -0.23596264151865956,
          -0.492139429019139,
          -0.9061736192221951,
          0.13652846583941908,
          -1.858833595289075,
          1.704454356886161,
          -0.5651931416995297,
          0.06401130066375586,
          2.2524244437614223,
          -1.173846404898146,
          -0.7175458945303117,
          -0.5156304895691658,
          1.0104760035357623,
          0.5857824430558851,
          1.6895466186015813,
          0.9177811398366712,
          -1.141165996971193,
          -0.5478778551970743,
          0.2571136476036755,
          0.3526484332396007,
          0.24766003295747419,
          -1.2568796772123807,
          1.7712257110155187,
          0.7605996592586014,
          -2.830527159429926,
          0.20503558436545444,
          1.3908625922313314,
          -0.00997911270592149,
          0.5069732035184916,
          0.7378004270503401,
          0.8903630433795523,
          -2.412551040304593,
          -1.3342981146502997,
          -0.2800072545769341,
          1.1324937995922038,
          0.5426674016240198,
          -1.1886772692483791,
          0.2681500951944594,
          -1.6273400547139019,
          -2.1137472960205477,
          1.2547044505608047,
          1.2696853827071595,
          0.08754561604208025,
          1.7666295469506956,
          -1.1277119492932395,
          -0.5398969146493379,
          0.5479435781401872,
          -1.055137312887316,
          -1.1455017585055103,
          2.1415789542278088,
          1.1268739689432494,
          -1.1006427215198342,
          2.98383979137824,
          -0.6325636361880836,
          1.3327191740226854,
          -0.5538825217446468,
          -1.7733301111726607,
          1.778533620126946,
          -1.8716591462027254,
          2.161452153529318,
          0.8655260097672361,
          0.9040286982156498,
          1.228260339190104,
          0.776641806121113,
          -0.12165011767061693,
          0.6786262146077268,
          -1.4144071514330963,
          2.4169483506911273,
          -1.0809051336717166,
          -1.375948837024219,
          0.4225083767730204,
          -1.351271269351763,
          -0.6233965309436381,
          -2.36671062565624,
          2.190666218554216,
          -0.15102430690637486,
          -3.04620828143891,
          1.9665704509708157,
          -0.02287844433129144,
          -0.10068918825049783,
          -0.963812008882861,
          0.38441392006689296,
          0.11195906586708372,
          -0.4933859809016778,
          -0.30915690283014596,
          -2.1604380480561907,
          -3.24147129395807,
          0.7231805150926863,
          -1.125242988540701,
          1.5027821085622037,
          1.211292276028239,
          -0.08035825785783399,
          -1.1687658131114393,
          1.6658747919936456,
          0.3911105220712494,
          -0.048612174872637616,
          1.0079750984555298,
          -2.2398071979870173,
          1.55634222461599,
          -1.7437455254940852,
          1.706963825674601,
          0.1779797180954671,
          2.142929526686365,
          0.25391529863574985,
          3.2062729520721707,
          -0.9716780374636994,
          -0.681071523885421,
          0.2355195015200854,
          -0.4611746847832807
         ],
         "yaxis": "y"
        }
       ],
       "layout": {
        "annotations": [
         {
          "ax": 0,
          "ay": 0,
          "text": "Floors",
          "x": 0.8209442982769312,
          "xanchor": "center",
          "y": 0.03577779567602745,
          "yanchor": "bottom"
         },
         {
          "ax": 0,
          "ay": 0,
          "text": "Minutes Sedentary",
          "x": -0.8095209283858454,
          "xanchor": "center",
          "y": -0.010018719916745258,
          "yanchor": "bottom"
         },
         {
          "ax": 0,
          "ay": 0,
          "text": "Minutes Lightly Active",
          "x": 0.674344039726842,
          "xanchor": "center",
          "y": -0.11188284819692151,
          "yanchor": "bottom"
         },
         {
          "ax": 0,
          "ay": 0,
          "text": "Minutes Fairly Active",
          "x": 0.7240107332545409,
          "xanchor": "center",
          "y": -0.07835979233365836,
          "yanchor": "bottom"
         },
         {
          "ax": 0,
          "ay": 0,
          "text": "Minutes Very Active",
          "x": 0.583342185428617,
          "xanchor": "center",
          "y": 0.02570158215352513,
          "yanchor": "bottom"
         },
         {
          "ax": 0,
          "ay": 0,
          "text": "Minutes Awake",
          "x": -0.18880376364640905,
          "xanchor": "center",
          "y": -0.29487408884834904,
          "yanchor": "bottom"
         },
         {
          "ax": 0,
          "ay": 0,
          "text": "Number of Awakenings",
          "x": -0.04824355250732019,
          "xanchor": "center",
          "y": -0.8137339183229564,
          "yanchor": "bottom"
         },
         {
          "ax": 0,
          "ay": 0,
          "text": "Minutes REM Sleep",
          "x": 0.025441078436180615,
          "xanchor": "center",
          "y": -0.7456625213115652,
          "yanchor": "bottom"
         },
         {
          "ax": 0,
          "ay": 0,
          "text": "Minutes Light Sleep",
          "x": -0.30831641137820837,
          "xanchor": "center",
          "y": -0.4961449459495065,
          "yanchor": "bottom"
         },
         {
          "ax": 0,
          "ay": 0,
          "text": "Minutes Deep Sleep",
          "x": 0.23090585563673163,
          "xanchor": "center",
          "y": -0.6462539389867124,
          "yanchor": "bottom"
         }
        ],
        "coloraxis": {
         "colorbar": {
          "title": {
           "text": "color"
          }
         },
         "colorscale": [
          [
           0,
           "#0d0887"
          ],
          [
           0.1111111111111111,
           "#46039f"
          ],
          [
           0.2222222222222222,
           "#7201a8"
          ],
          [
           0.3333333333333333,
           "#9c179e"
          ],
          [
           0.4444444444444444,
           "#bd3786"
          ],
          [
           0.5555555555555556,
           "#d8576b"
          ],
          [
           0.6666666666666666,
           "#ed7953"
          ],
          [
           0.7777777777777778,
           "#fb9f3a"
          ],
          [
           0.8888888888888888,
           "#fdca26"
          ],
          [
           1,
           "#f0f921"
          ]
         ]
        },
        "legend": {
         "tracegroupgap": 0
        },
        "shapes": [
         {
          "type": "line",
          "x0": 0,
          "x1": 0.8209442982769312,
          "y0": 0,
          "y1": 0.03577779567602745
         },
         {
          "type": "line",
          "x0": 0,
          "x1": -0.8095209283858454,
          "y0": 0,
          "y1": -0.010018719916745258
         },
         {
          "type": "line",
          "x0": 0,
          "x1": 0.674344039726842,
          "y0": 0,
          "y1": -0.11188284819692151
         },
         {
          "type": "line",
          "x0": 0,
          "x1": 0.7240107332545409,
          "y0": 0,
          "y1": -0.07835979233365836
         },
         {
          "type": "line",
          "x0": 0,
          "x1": 0.583342185428617,
          "y0": 0,
          "y1": 0.02570158215352513
         },
         {
          "type": "line",
          "x0": 0,
          "x1": -0.18880376364640905,
          "y0": 0,
          "y1": -0.29487408884834904
         },
         {
          "type": "line",
          "x0": 0,
          "x1": -0.04824355250732019,
          "y0": 0,
          "y1": -0.8137339183229564
         },
         {
          "type": "line",
          "x0": 0,
          "x1": 0.025441078436180615,
          "y0": 0,
          "y1": -0.7456625213115652
         },
         {
          "type": "line",
          "x0": 0,
          "x1": -0.30831641137820837,
          "y0": 0,
          "y1": -0.4961449459495065
         },
         {
          "type": "line",
          "x0": 0,
          "x1": 0.23090585563673163,
          "y0": 0,
          "y1": -0.6462539389867124
         }
        ],
        "template": {
         "data": {
          "bar": [
           {
            "error_x": {
             "color": "#2a3f5f"
            },
            "error_y": {
             "color": "#2a3f5f"
            },
            "marker": {
             "line": {
              "color": "#E5ECF6",
              "width": 0.5
             },
             "pattern": {
              "fillmode": "overlay",
              "size": 10,
              "solidity": 0.2
             }
            },
            "type": "bar"
           }
          ],
          "barpolar": [
           {
            "marker": {
             "line": {
              "color": "#E5ECF6",
              "width": 0.5
             },
             "pattern": {
              "fillmode": "overlay",
              "size": 10,
              "solidity": 0.2
             }
            },
            "type": "barpolar"
           }
          ],
          "carpet": [
           {
            "aaxis": {
             "endlinecolor": "#2a3f5f",
             "gridcolor": "white",
             "linecolor": "white",
             "minorgridcolor": "white",
             "startlinecolor": "#2a3f5f"
            },
            "baxis": {
             "endlinecolor": "#2a3f5f",
             "gridcolor": "white",
             "linecolor": "white",
             "minorgridcolor": "white",
             "startlinecolor": "#2a3f5f"
            },
            "type": "carpet"
           }
          ],
          "choropleth": [
           {
            "colorbar": {
             "outlinewidth": 0,
             "ticks": ""
            },
            "type": "choropleth"
           }
          ],
          "contour": [
           {
            "colorbar": {
             "outlinewidth": 0,
             "ticks": ""
            },
            "colorscale": [
             [
              0,
              "#0d0887"
             ],
             [
              0.1111111111111111,
              "#46039f"
             ],
             [
              0.2222222222222222,
              "#7201a8"
             ],
             [
              0.3333333333333333,
              "#9c179e"
             ],
             [
              0.4444444444444444,
              "#bd3786"
             ],
             [
              0.5555555555555556,
              "#d8576b"
             ],
             [
              0.6666666666666666,
              "#ed7953"
             ],
             [
              0.7777777777777778,
              "#fb9f3a"
             ],
             [
              0.8888888888888888,
              "#fdca26"
             ],
             [
              1,
              "#f0f921"
             ]
            ],
            "type": "contour"
           }
          ],
          "contourcarpet": [
           {
            "colorbar": {
             "outlinewidth": 0,
             "ticks": ""
            },
            "type": "contourcarpet"
           }
          ],
          "heatmap": [
           {
            "colorbar": {
             "outlinewidth": 0,
             "ticks": ""
            },
            "colorscale": [
             [
              0,
              "#0d0887"
             ],
             [
              0.1111111111111111,
              "#46039f"
             ],
             [
              0.2222222222222222,
              "#7201a8"
             ],
             [
              0.3333333333333333,
              "#9c179e"
             ],
             [
              0.4444444444444444,
              "#bd3786"
             ],
             [
              0.5555555555555556,
              "#d8576b"
             ],
             [
              0.6666666666666666,
              "#ed7953"
             ],
             [
              0.7777777777777778,
              "#fb9f3a"
             ],
             [
              0.8888888888888888,
              "#fdca26"
             ],
             [
              1,
              "#f0f921"
             ]
            ],
            "type": "heatmap"
           }
          ],
          "heatmapgl": [
           {
            "colorbar": {
             "outlinewidth": 0,
             "ticks": ""
            },
            "colorscale": [
             [
              0,
              "#0d0887"
             ],
             [
              0.1111111111111111,
              "#46039f"
             ],
             [
              0.2222222222222222,
              "#7201a8"
             ],
             [
              0.3333333333333333,
              "#9c179e"
             ],
             [
              0.4444444444444444,
              "#bd3786"
             ],
             [
              0.5555555555555556,
              "#d8576b"
             ],
             [
              0.6666666666666666,
              "#ed7953"
             ],
             [
              0.7777777777777778,
              "#fb9f3a"
             ],
             [
              0.8888888888888888,
              "#fdca26"
             ],
             [
              1,
              "#f0f921"
             ]
            ],
            "type": "heatmapgl"
           }
          ],
          "histogram": [
           {
            "marker": {
             "pattern": {
              "fillmode": "overlay",
              "size": 10,
              "solidity": 0.2
             }
            },
            "type": "histogram"
           }
          ],
          "histogram2d": [
           {
            "colorbar": {
             "outlinewidth": 0,
             "ticks": ""
            },
            "colorscale": [
             [
              0,
              "#0d0887"
             ],
             [
              0.1111111111111111,
              "#46039f"
             ],
             [
              0.2222222222222222,
              "#7201a8"
             ],
             [
              0.3333333333333333,
              "#9c179e"
             ],
             [
              0.4444444444444444,
              "#bd3786"
             ],
             [
              0.5555555555555556,
              "#d8576b"
             ],
             [
              0.6666666666666666,
              "#ed7953"
             ],
             [
              0.7777777777777778,
              "#fb9f3a"
             ],
             [
              0.8888888888888888,
              "#fdca26"
             ],
             [
              1,
              "#f0f921"
             ]
            ],
            "type": "histogram2d"
           }
          ],
          "histogram2dcontour": [
           {
            "colorbar": {
             "outlinewidth": 0,
             "ticks": ""
            },
            "colorscale": [
             [
              0,
              "#0d0887"
             ],
             [
              0.1111111111111111,
              "#46039f"
             ],
             [
              0.2222222222222222,
              "#7201a8"
             ],
             [
              0.3333333333333333,
              "#9c179e"
             ],
             [
              0.4444444444444444,
              "#bd3786"
             ],
             [
              0.5555555555555556,
              "#d8576b"
             ],
             [
              0.6666666666666666,
              "#ed7953"
             ],
             [
              0.7777777777777778,
              "#fb9f3a"
             ],
             [
              0.8888888888888888,
              "#fdca26"
             ],
             [
              1,
              "#f0f921"
             ]
            ],
            "type": "histogram2dcontour"
           }
          ],
          "mesh3d": [
           {
            "colorbar": {
             "outlinewidth": 0,
             "ticks": ""
            },
            "type": "mesh3d"
           }
          ],
          "parcoords": [
           {
            "line": {
             "colorbar": {
              "outlinewidth": 0,
              "ticks": ""
             }
            },
            "type": "parcoords"
           }
          ],
          "pie": [
           {
            "automargin": true,
            "type": "pie"
           }
          ],
          "scatter": [
           {
            "fillpattern": {
             "fillmode": "overlay",
             "size": 10,
             "solidity": 0.2
            },
            "type": "scatter"
           }
          ],
          "scatter3d": [
           {
            "line": {
             "colorbar": {
              "outlinewidth": 0,
              "ticks": ""
             }
            },
            "marker": {
             "colorbar": {
              "outlinewidth": 0,
              "ticks": ""
             }
            },
            "type": "scatter3d"
           }
          ],
          "scattercarpet": [
           {
            "marker": {
             "colorbar": {
              "outlinewidth": 0,
              "ticks": ""
             }
            },
            "type": "scattercarpet"
           }
          ],
          "scattergeo": [
           {
            "marker": {
             "colorbar": {
              "outlinewidth": 0,
              "ticks": ""
             }
            },
            "type": "scattergeo"
           }
          ],
          "scattergl": [
           {
            "marker": {
             "colorbar": {
              "outlinewidth": 0,
              "ticks": ""
             }
            },
            "type": "scattergl"
           }
          ],
          "scattermapbox": [
           {
            "marker": {
             "colorbar": {
              "outlinewidth": 0,
              "ticks": ""
             }
            },
            "type": "scattermapbox"
           }
          ],
          "scatterpolar": [
           {
            "marker": {
             "colorbar": {
              "outlinewidth": 0,
              "ticks": ""
             }
            },
            "type": "scatterpolar"
           }
          ],
          "scatterpolargl": [
           {
            "marker": {
             "colorbar": {
              "outlinewidth": 0,
              "ticks": ""
             }
            },
            "type": "scatterpolargl"
           }
          ],
          "scatterternary": [
           {
            "marker": {
             "colorbar": {
              "outlinewidth": 0,
              "ticks": ""
             }
            },
            "type": "scatterternary"
           }
          ],
          "surface": [
           {
            "colorbar": {
             "outlinewidth": 0,
             "ticks": ""
            },
            "colorscale": [
             [
              0,
              "#0d0887"
             ],
             [
              0.1111111111111111,
              "#46039f"
             ],
             [
              0.2222222222222222,
              "#7201a8"
             ],
             [
              0.3333333333333333,
              "#9c179e"
             ],
             [
              0.4444444444444444,
              "#bd3786"
             ],
             [
              0.5555555555555556,
              "#d8576b"
             ],
             [
              0.6666666666666666,
              "#ed7953"
             ],
             [
              0.7777777777777778,
              "#fb9f3a"
             ],
             [
              0.8888888888888888,
              "#fdca26"
             ],
             [
              1,
              "#f0f921"
             ]
            ],
            "type": "surface"
           }
          ],
          "table": [
           {
            "cells": {
             "fill": {
              "color": "#EBF0F8"
             },
             "line": {
              "color": "white"
             }
            },
            "header": {
             "fill": {
              "color": "#C8D4E3"
             },
             "line": {
              "color": "white"
             }
            },
            "type": "table"
           }
          ]
         },
         "layout": {
          "annotationdefaults": {
           "arrowcolor": "#2a3f5f",
           "arrowhead": 0,
           "arrowwidth": 1
          },
          "autotypenumbers": "strict",
          "coloraxis": {
           "colorbar": {
            "outlinewidth": 0,
            "ticks": ""
           }
          },
          "colorscale": {
           "diverging": [
            [
             0,
             "#8e0152"
            ],
            [
             0.1,
             "#c51b7d"
            ],
            [
             0.2,
             "#de77ae"
            ],
            [
             0.3,
             "#f1b6da"
            ],
            [
             0.4,
             "#fde0ef"
            ],
            [
             0.5,
             "#f7f7f7"
            ],
            [
             0.6,
             "#e6f5d0"
            ],
            [
             0.7,
             "#b8e186"
            ],
            [
             0.8,
             "#7fbc41"
            ],
            [
             0.9,
             "#4d9221"
            ],
            [
             1,
             "#276419"
            ]
           ],
           "sequential": [
            [
             0,
             "#0d0887"
            ],
            [
             0.1111111111111111,
             "#46039f"
            ],
            [
             0.2222222222222222,
             "#7201a8"
            ],
            [
             0.3333333333333333,
             "#9c179e"
            ],
            [
             0.4444444444444444,
             "#bd3786"
            ],
            [
             0.5555555555555556,
             "#d8576b"
            ],
            [
             0.6666666666666666,
             "#ed7953"
            ],
            [
             0.7777777777777778,
             "#fb9f3a"
            ],
            [
             0.8888888888888888,
             "#fdca26"
            ],
            [
             1,
             "#f0f921"
            ]
           ],
           "sequentialminus": [
            [
             0,
             "#0d0887"
            ],
            [
             0.1111111111111111,
             "#46039f"
            ],
            [
             0.2222222222222222,
             "#7201a8"
            ],
            [
             0.3333333333333333,
             "#9c179e"
            ],
            [
             0.4444444444444444,
             "#bd3786"
            ],
            [
             0.5555555555555556,
             "#d8576b"
            ],
            [
             0.6666666666666666,
             "#ed7953"
            ],
            [
             0.7777777777777778,
             "#fb9f3a"
            ],
            [
             0.8888888888888888,
             "#fdca26"
            ],
            [
             1,
             "#f0f921"
            ]
           ]
          },
          "colorway": [
           "#636efa",
           "#EF553B",
           "#00cc96",
           "#ab63fa",
           "#FFA15A",
           "#19d3f3",
           "#FF6692",
           "#B6E880",
           "#FF97FF",
           "#FECB52"
          ],
          "font": {
           "color": "#2a3f5f"
          },
          "geo": {
           "bgcolor": "white",
           "lakecolor": "white",
           "landcolor": "#E5ECF6",
           "showlakes": true,
           "showland": true,
           "subunitcolor": "white"
          },
          "hoverlabel": {
           "align": "left"
          },
          "hovermode": "closest",
          "mapbox": {
           "style": "light"
          },
          "paper_bgcolor": "white",
          "plot_bgcolor": "#E5ECF6",
          "polar": {
           "angularaxis": {
            "gridcolor": "white",
            "linecolor": "white",
            "ticks": ""
           },
           "bgcolor": "#E5ECF6",
           "radialaxis": {
            "gridcolor": "white",
            "linecolor": "white",
            "ticks": ""
           }
          },
          "scene": {
           "xaxis": {
            "backgroundcolor": "#E5ECF6",
            "gridcolor": "white",
            "gridwidth": 2,
            "linecolor": "white",
            "showbackground": true,
            "ticks": "",
            "zerolinecolor": "white"
           },
           "yaxis": {
            "backgroundcolor": "#E5ECF6",
            "gridcolor": "white",
            "gridwidth": 2,
            "linecolor": "white",
            "showbackground": true,
            "ticks": "",
            "zerolinecolor": "white"
           },
           "zaxis": {
            "backgroundcolor": "#E5ECF6",
            "gridcolor": "white",
            "gridwidth": 2,
            "linecolor": "white",
            "showbackground": true,
            "ticks": "",
            "zerolinecolor": "white"
           }
          },
          "shapedefaults": {
           "line": {
            "color": "#2a3f5f"
           }
          },
          "ternary": {
           "aaxis": {
            "gridcolor": "white",
            "linecolor": "white",
            "ticks": ""
           },
           "baxis": {
            "gridcolor": "white",
            "linecolor": "white",
            "ticks": ""
           },
           "bgcolor": "#E5ECF6",
           "caxis": {
            "gridcolor": "white",
            "linecolor": "white",
            "ticks": ""
           }
          },
          "title": {
           "x": 0.05
          },
          "xaxis": {
           "automargin": true,
           "gridcolor": "white",
           "linecolor": "white",
           "ticks": "",
           "title": {
            "standoff": 15
           },
           "zerolinecolor": "white",
           "zerolinewidth": 2
          },
          "yaxis": {
           "automargin": true,
           "gridcolor": "white",
           "linecolor": "white",
           "ticks": "",
           "title": {
            "standoff": 15
           },
           "zerolinecolor": "white",
           "zerolinewidth": 2
          }
         }
        },
        "title": {
         "text": "Principal Component Analysis"
        },
        "xaxis": {
         "anchor": "y",
         "domain": [
          0,
          1
         ],
         "title": {
          "text": "PC1"
         }
        },
        "yaxis": {
         "anchor": "x",
         "domain": [
          0,
          1
         ],
         "title": {
          "text": "PC2"
         }
        }
       }
      }
     },
     "metadata": {},
     "output_type": "display_data"
    }
   ],
   "source": [
    "loadings = pca.components_.T * np.sqrt(pca.explained_variance_)\n",
    "\n",
    "fig = px.scatter(reduced, x=0, y=1, color=target ,title='Principal Component Analysis')\n",
    "fig.update_layout(\n",
    "    xaxis_title=\"PC1\",\n",
    "    yaxis_title=\"PC2\"\n",
    ")\n",
    "\n",
    "for i, feature in enumerate(features):\n",
    "    fig.add_shape(\n",
    "        type='line',\n",
    "        x0=0, y0=0,\n",
    "        x1=loadings[i, 0],\n",
    "        y1=loadings[i, 1]\n",
    "    )\n",
    "    fig.add_annotation(\n",
    "        x=loadings[i, 0],\n",
    "        y=loadings[i, 1],\n",
    "        ax=0, ay=0,\n",
    "        xanchor=\"center\",\n",
    "        yanchor=\"bottom\",\n",
    "        text=feature,\n",
    "    )\n",
    "fig.show()"
   ]
  },
  {
   "cell_type": "markdown",
   "metadata": {},
   "source": [
    "From this graph, we can see the principal components and to this chart we're adding the target* we created previously. The results were somewhat expected but something we see here is how achieving Deep Sleep is somewhat related to the minutes of activity, but that is not all. Sleeping more than 7 hours is not defined either by activity or sedentary behaviours.\n",
    "\n",
    "**Colors may vary but if color = 1 this is a point where I slept more than 7 hours.*\n",
    "\n",
    "Lets try to add another PC to see if we maintain these two boundaries."
   ]
  },
  {
   "cell_type": "code",
   "execution_count": 467,
   "metadata": {},
   "outputs": [
    {
     "data": {
      "application/vnd.plotly.v1+json": {
       "config": {
        "plotlyServerURL": "https://plot.ly"
       },
       "data": [
        {
         "hovertemplate": "PC 1=%{x}<br>PC 2=%{y}<br>PC 3=%{z}<br>color=%{marker.color}<extra></extra>",
         "legendgroup": "",
         "marker": {
          "color": [
           0,
           1,
           1,
           0,
           1,
           1,
           1,
           1,
           0,
           1,
           1,
           1,
           0,
           1,
           0,
           1,
           0,
           0,
           1,
           0,
           1,
           1,
           1,
           1,
           0,
           0,
           0,
           0,
           1,
           0,
           1,
           0,
           1,
           0,
           1,
           1,
           0,
           0,
           0,
           1,
           0,
           1,
           1,
           0,
           1,
           1,
           1,
           0,
           1,
           0,
           0,
           0,
           0,
           0,
           1,
           1,
           0,
           1,
           1,
           0,
           0,
           1,
           1,
           0,
           1,
           1,
           0,
           1,
           1,
           1,
           0,
           0,
           0,
           1,
           0,
           1,
           0,
           0,
           1,
           0,
           1,
           1,
           0,
           1,
           1,
           1,
           1,
           1,
           1,
           0,
           0,
           1,
           0,
           0,
           1,
           0,
           1,
           0,
           1,
           0,
           0,
           0,
           1,
           0,
           0,
           1,
           0,
           1,
           1,
           1,
           1,
           1,
           0,
           0,
           1,
           1,
           1,
           0,
           1,
           1,
           1,
           0,
           1,
           0,
           0,
           0,
           1,
           0,
           1,
           1,
           0,
           0,
           0,
           0,
           0,
           1,
           0,
           1,
           0,
           1,
           0,
           0,
           1,
           1,
           1,
           0,
           0,
           0,
           0,
           1,
           0,
           0,
           0,
           0,
           1,
           0,
           0,
           1,
           0,
           0,
           1,
           0,
           0,
           0,
           1,
           1,
           0,
           0,
           0,
           1,
           0,
           1,
           1,
           0,
           0,
           0,
           0,
           1,
           1,
           0,
           0,
           1,
           0,
           0,
           1,
           0,
           0,
           0,
           0,
           1,
           0,
           1,
           0,
           1,
           0,
           0,
           0,
           1,
           1,
           1,
           0,
           1,
           1,
           0,
           1,
           1,
           1,
           0,
           0,
           1,
           0,
           0,
           1,
           1,
           0,
           0,
           1,
           1,
           1,
           1,
           0,
           1,
           0,
           0,
           1,
           0,
           0,
           0,
           1,
           0,
           1,
           0,
           1,
           0,
           1,
           0,
           0,
           0,
           1,
           1,
           0,
           1
          ],
          "coloraxis": "coloraxis",
          "symbol": "circle"
         },
         "mode": "markers",
         "name": "",
         "scene": "scene",
         "showlegend": false,
         "type": "scatter3d",
         "x": [
          -0.4035197110792526,
          -0.8610515146664975,
          -2.0962651048872485,
          1.9997408677594608,
          -1.6519878430792225,
          -1.9545691494784059,
          2.1309370750796734,
          -1.0219610019042458,
          -1.1266573484388636,
          0.3303300968961071,
          5.184941055357711,
          -0.9646024401340689,
          0.4180429273308522,
          -2.0547190652829044,
          0.4186387795079518,
          0.44286046991893185,
          1.617050069378218,
          -1.050564896130068,
          -3.017774182560766,
          2.6415453580823587,
          0.5754902071177007,
          3.5026348848062794,
          -0.9146681686169227,
          3.0797102480447416,
          -0.9070459274708026,
          -0.6001033773819927,
          0.30446381238842823,
          0.619450990131671,
          -1.5716307244322039,
          0.5764109345137161,
          -0.5325451989218966,
          2.031667992638542,
          -1.101307577072503,
          -2.0677209814107287,
          -0.0885549857246776,
          -1.9191675726349444,
          -1.350967222827509,
          -1.4140328627000156,
          2.2225116936290763,
          -1.6621637616813998,
          -0.06880783692661303,
          0.6058913169149487,
          -0.5869993496633087,
          -1.6817765851080368,
          -2.9622362705336873,
          -2.47397408000138,
          0.5558142062705888,
          -2.977105529357065,
          -2.777813803625116,
          2.271547008533007,
          -2.2343114018246406,
          0.5509572184992872,
          2.165529164937689,
          0.1511905787965026,
          -0.2760423702983569,
          -1.4432592219352773,
          -1.0598625857868145,
          -1.036528272133523,
          -1.2207358813266007,
          3.030026411132474,
          -1.0668163286712324,
          -2.2095258715399626,
          -0.5596420657114873,
          1.5509939084821236,
          -2.8913146424392804,
          1.3774361445420469,
          0.19345467543190686,
          -2.7756621827738024,
          5.436734458651105,
          -1.1220006824541686,
          -1.8307468984381903,
          1.1603671096261294,
          0.9592393129920683,
          0.22447451254388912,
          -1.4973160432082464,
          -3.0749765595194263,
          -0.5717260220314153,
          -0.7320358870411411,
          -3.460183342911067,
          -2.2044824005737613,
          -2.670923999652477,
          0.13225088779613617,
          0.31325281606744554,
          -0.3844406995658939,
          -2.1945747038840135,
          -1.0567359503970646,
          -1.0685260544234267,
          -0.9284655581451182,
          -2.0316323933218157,
          2.579985718214705,
          -0.11960214515971822,
          -0.6020927058655487,
          -0.3154901302704853,
          1.1013345844751203,
          0.4897205348607495,
          1.9176247072610464,
          -0.6087566719302001,
          -1.4237789731451136,
          2.166297881077211,
          -0.528892344113953,
          -0.013878585588584704,
          -0.3042820589603681,
          -1.6341946427294676,
          -1.3042616081060465,
          0.801377187318106,
          -1.2334781919092608,
          -1.1493338443293606,
          1.4064326781998573,
          3.0354771982866993,
          -1.2622108986334197,
          -0.444901489962224,
          -1.0697795420919105,
          4.157624339056384,
          -1.451866188381867,
          1.5746212578628633,
          -0.23885777717292,
          -0.42227923064208017,
          0.18387267074551383,
          5.948929398821794,
          -0.3440531805052412,
          0.28023997821793,
          -0.3009181665762277,
          2.15652347927129,
          1.8348348159425507,
          -2.169061717246106,
          -1.4933758420957064,
          0.7576772886658717,
          -1.1484077888713446,
          1.801070092378493,
          -0.13638113807395602,
          -0.084173066537126,
          -1.5267759251112893,
          0.2984541989402523,
          0.40735359351961115,
          -0.9636305070510612,
          -0.7425393210147798,
          -1.1291549681703583,
          2.092305403607786,
          2.4413949740371246,
          -0.6510202546239706,
          1.7017759654058158,
          1.3140373550226863,
          -1.3558400560693007,
          -1.0280772497160888,
          -0.08736110964352146,
          1.7008145679440203,
          2.943456613266617,
          0.9177163090006825,
          -1.9410968263340092,
          -0.7494124335872446,
          -1.9955691275585012,
          0.7020667931753309,
          0.8809708282658317,
          -2.2094326916993623,
          -1.7628624656352154,
          -1.586814661592693,
          0.8878888239529911,
          -1.009394606172429,
          0.4237999941471293,
          -0.17959807661713403,
          -1.828794963674512,
          -0.9685703256028358,
          -0.44378980360505316,
          -0.14469631050389184,
          -1.7425718873239973,
          0.6962004081314801,
          1.512274461628085,
          -0.41983847996178064,
          0.18147734081408445,
          -1.04119478185248,
          -1.2717057349419516,
          2.09658654005686,
          -0.535671496256606,
          -0.21931785328009817,
          0.6507370498222977,
          1.9791036171752519,
          -1.3531741210669,
          0.3777701197528586,
          -1.2752851437362749,
          1.0148640866371073,
          0.16235240569595527,
          2.658402209341985,
          0.011151209940870037,
          -2.4188321199528056,
          -0.12943436460043412,
          1.7665171398461061,
          -0.5215580419181086,
          0.06212438528985614,
          1.1712468514794927,
          5.718400350610163,
          0.8311441909238094,
          1.1568813453002862,
          1.996270889668836,
          -2.177063224652023,
          1.065425429847666,
          -0.07754500248140009,
          -0.7025002496383365,
          0.8378650482891334,
          1.8308596028762656,
          -0.22933316007175825,
          -1.7653904778971512,
          -0.5302521665473374,
          0.10448936602332277,
          0.08218742791440924,
          -1.4562853594331353,
          -1.7579909134495175,
          3.461938546915636,
          1.9730388826813778,
          0.3558270730768094,
          0.7334094572319403,
          1.4077622042053966,
          -0.17803972652063185,
          1.3661850951349523,
          1.5869859075860309,
          -0.10787300607826283,
          -2.80575641295205,
          0.038686922715916755,
          4.178026072822426,
          -0.9565288874664887,
          0.7944743959064389,
          2.1447378779035846,
          -0.2972599525695758,
          -0.6113841306347192,
          0.7999884464357827,
          0.23448460769006246,
          1.7427102536678671,
          -0.3577551411398742,
          0.594122451570228,
          0.8230278699191221,
          3.6726781908995974,
          0.24884376787046605,
          1.7030359256270897,
          -1.5579942795284965,
          -0.27196000299647616,
          -1.3720427032250662,
          2.8527214543588926,
          -1.0943440009679912,
          1.9171347227852544,
          -0.446383218959924,
          -1.5768822518219374,
          -0.539078957404231,
          1.096310929137974
         ],
         "y": [
          -0.9936292529370561,
          -0.6575551844879168,
          -0.9495584624669886,
          2.063689141027822,
          -1.6013327668680508,
          -0.24559923138969428,
          -0.3984803643781718,
          -0.6042680737305525,
          0.5645126814062454,
          -2.207979683106503,
          -3.5721706071978847,
          0.2515876329671503,
          0.4631073034497998,
          0.5448914800281519,
          1.8979435487485794,
          -0.6816175860800743,
          0.15200833915482684,
          3.6010311572647375,
          0.9706089687665564,
          0.8473738203220096,
          -1.296526277844481,
          -0.6828539838058464,
          -1.1980195543403578,
          -1.6011306914882706,
          1.1934354145910253,
          -0.09199143761440913,
          0.9537662172236057,
          0.9247057320182789,
          -0.4973715377916448,
          0.5379878588982868,
          -2.3198930797946065,
          1.8647874329240877,
          -1.9854942764313437,
          0.25892816888610554,
          0.3281921475178356,
          0.9252355924730559,
          1.0594827034529768,
          0.34162874225936446,
          -0.2299815764879254,
          -0.6762096811507635,
          1.2395114506204485,
          0.9085540264927877,
          -0.971585396165468,
          1.152789404215914,
          -3.9110178685306827,
          0.6868712302914161,
          -0.4520116148543725,
          3.103761737731746,
          -0.5657317158801219,
          -0.30691098596212596,
          -0.37691992238091176,
          -0.05431092605839779,
          0.9706975772183606,
          1.123328803172692,
          -2.73221727076886,
          -0.5896310661943254,
          0.5624622673678766,
          -0.6882382689609823,
          -2.3096881417235,
          1.592581190699403,
          1.0310792307756484,
          -0.4449364824702547,
          -0.024744123696018104,
          4.8670960152348535,
          -1.8202327751960086,
          -0.48451622110674203,
          3.546884349468825,
          -0.7494220689505959,
          -0.4644766791960539,
          -0.4207554648415225,
          1.334299482142079,
          -0.6778528911552743,
          0.15641769305867206,
          -0.270373624336474,
          3.257900594327708,
          -0.1492871723354133,
          1.4522328786796705,
          0.46092786450845824,
          -0.27088874001765983,
          0.45628717190661505,
          -1.6535493900463567,
          -0.5505756919284204,
          0.6196166104632398,
          -0.8399902279849096,
          -1.0998998239218232,
          0.2685433367519346,
          -0.218158557316712,
          -0.24886668722348473,
          -1.7886334681744254,
          0.8760293380901341,
          0.3473073785213635,
          -0.6683741543966747,
          1.7900095783490377,
          0.31026118236292166,
          -2.5910397260184705,
          0.24762221211162683,
          -0.4260836224228456,
          0.7545936212994483,
          -3.3382889476354074,
          2.4707996663521956,
          2.5937620300289175,
          0.4607065997401307,
          -0.6928439018073835,
          1.1998223089495712,
          0.9116634022915822,
          -0.7189529275755652,
          0.151337106688453,
          -0.6771465037088022,
          -0.9571237244351616,
          0.16824209695467376,
          -0.5006158252135177,
          -0.920677086275904,
          1.0801904004597056,
          2.9333224919394656,
          -0.3034556940710838,
          -3.0387736501173728,
          -0.03760108052664871,
          0.14429423166580826,
          -0.9488829851312987,
          -1.2860730698364704,
          -0.5550160736446519,
          0.7817117715472669,
          -2.753865879677905,
          1.4260514181914488,
          1.0534714063503097,
          0.8415459069753632,
          -1.004788998070873,
          0.48089839003796125,
          -3.06400661652335,
          -1.8269415646889824,
          1.2111136615253284,
          0.6282743226577976,
          -0.7140189189759318,
          -0.23596264151865956,
          -0.492139429019139,
          -0.9061736192221951,
          0.13652846583941908,
          -1.858833595289075,
          1.704454356886161,
          -0.5651931416995297,
          0.06401130066375586,
          2.2524244437614223,
          -1.173846404898146,
          -0.7175458945303117,
          -0.5156304895691658,
          1.0104760035357623,
          0.5857824430558851,
          1.6895466186015813,
          0.9177811398366712,
          -1.141165996971193,
          -0.5478778551970743,
          0.2571136476036755,
          0.3526484332396007,
          0.24766003295747419,
          -1.2568796772123807,
          1.7712257110155187,
          0.7605996592586014,
          -2.830527159429926,
          0.20503558436545444,
          1.3908625922313314,
          -0.00997911270592149,
          0.5069732035184916,
          0.7378004270503401,
          0.8903630433795523,
          -2.412551040304593,
          -1.3342981146502997,
          -0.2800072545769341,
          1.1324937995922038,
          0.5426674016240198,
          -1.1886772692483791,
          0.2681500951944594,
          -1.6273400547139019,
          -2.1137472960205477,
          1.2547044505608047,
          1.2696853827071595,
          0.08754561604208025,
          1.7666295469506956,
          -1.1277119492932395,
          -0.5398969146493379,
          0.5479435781401872,
          -1.055137312887316,
          -1.1455017585055103,
          2.1415789542278088,
          1.1268739689432494,
          -1.1006427215198342,
          2.98383979137824,
          -0.6325636361880836,
          1.3327191740226854,
          -0.5538825217446468,
          -1.7733301111726607,
          1.778533620126946,
          -1.8716591462027254,
          2.161452153529318,
          0.8655260097672361,
          0.9040286982156498,
          1.228260339190104,
          0.776641806121113,
          -0.12165011767061693,
          0.6786262146077268,
          -1.4144071514330963,
          2.4169483506911273,
          -1.0809051336717166,
          -1.375948837024219,
          0.4225083767730204,
          -1.351271269351763,
          -0.6233965309436381,
          -2.36671062565624,
          2.190666218554216,
          -0.15102430690637486,
          -3.04620828143891,
          1.9665704509708157,
          -0.02287844433129144,
          -0.10068918825049783,
          -0.963812008882861,
          0.38441392006689296,
          0.11195906586708372,
          -0.4933859809016778,
          -0.30915690283014596,
          -2.1604380480561907,
          -3.24147129395807,
          0.7231805150926863,
          -1.125242988540701,
          1.5027821085622037,
          1.211292276028239,
          -0.08035825785783399,
          -1.1687658131114393,
          1.6658747919936456,
          0.3911105220712494,
          -0.048612174872637616,
          1.0079750984555298,
          -2.2398071979870173,
          1.55634222461599,
          -1.7437455254940852,
          1.706963825674601,
          0.1779797180954671,
          2.142929526686365,
          0.25391529863574985,
          3.2062729520721707,
          -0.9716780374636994,
          -0.681071523885421,
          0.2355195015200854,
          -0.4611746847832807
         ],
         "z": [
          -0.5187325126328683,
          0.9091179834666796,
          0.7117230967584371,
          0.9170873208203233,
          -0.6934504983428048,
          0.1725721220008174,
          -0.9676453583327552,
          2.4485755813133805,
          -0.28701137637154034,
          4.339600661466578,
          0.3704259042013798,
          0.7176861637100875,
          -0.8980412712037449,
          -0.5055850604679712,
          0.39772247899340096,
          -0.005360635673488335,
          0.6381162482529077,
          0.4772653252979984,
          0.7143983005927612,
          -1.3963431769863097,
          -1.5760497480909774,
          0.5068546008935687,
          0.39606257845824716,
          -0.35391632169078285,
          0.039771657079488335,
          -1.1508379899089023,
          -0.6837875794876701,
          -2.05225716407029,
          -1.6017228962810057,
          -1.1579049822393983,
          -2.163463228802279,
          -1.7294668555292825,
          0.6444939502960079,
          -0.06679030562067016,
          0.24550101719291698,
          3.406527367100358,
          0.06456818376927013,
          -1.5014613236216174,
          0.2248928331904884,
          -0.8383445759496596,
          -0.08465054376006718,
          1.021334540213088,
          -0.3094703219553193,
          0.058642563091314256,
          0.5318187121997667,
          0.6407560918967576,
          0.152657716175812,
          -0.7280022616345,
          1.049339882591873,
          -2.221481883747731,
          0.4862845802224963,
          2.5818662763790576,
          -1.5859582986095973,
          0.518421064783613,
          -0.05219626140114379,
          0.1720250575465968,
          0.7557814033192523,
          -0.10030903427205387,
          3.5040775110047715,
          0.5180544747099741,
          0.2301149569874836,
          0.9424566826430284,
          -0.18851027701309522,
          0.33400534258423736,
          -0.3032023725106067,
          -0.000022951415830564068,
          -1.0014332388376534,
          -1.1306330637561484,
          1.7336395905518407,
          -1.7282826176910036,
          0.8429821288166695,
          0.6611522243119369,
          2.229685352793971,
          1.9202511544839542,
          0.3081626065172246,
          2.5671815127807243,
          2.1046819349399373,
          0.2249626284745767,
          2.4473130129000387,
          1.4958608011657462,
          1.1877669734074503,
          0.7975803511989189,
          -0.09201911012398269,
          -1.8635333189895,
          1.695505323588735,
          -0.3097573898764428,
          2.0979110530035605,
          0.4618193295095946,
          0.7542098279277448,
          -0.6002609911811942,
          -0.44610576647530825,
          -0.6703009804644868,
          -0.9292319799523264,
          0.011115457644796371,
          0.02508135085319006,
          -0.6978214008772503,
          -0.5739705794687116,
          -0.2381109065198907,
          2.4260639675036555,
          0.8494972472431125,
          -2.0381621078836862,
          -0.08266054398782428,
          -1.6951045306464125,
          -0.41221451592222597,
          -1.261565792339511,
          -1.382213863780479,
          1.0480332964798356,
          -0.6559381194178042,
          -0.16333831301130555,
          0.12030500894265976,
          -0.9628243240410947,
          -0.19221896803751448,
          1.1465712226404896,
          -0.7932179616267317,
          -0.8505956726975379,
          1.28223588112397,
          1.4316312351767406,
          0.18964467633038057,
          1.8492292832899149,
          -1.7953739583289423,
          -0.10977896562067103,
          -1.0331546494330968,
          0.007439173058542426,
          1.2108820389188817,
          -1.3917099703210085,
          0.6087941504794683,
          -0.7069045860504635,
          -0.8013193391028988,
          -1.54123538467984,
          0.3265550649708231,
          -0.7419760535050784,
          -0.8071419931523139,
          -1.6149106486104352,
          -0.48154567283410477,
          -0.04548469971325557,
          -0.09001310091463259,
          0.3104606002446969,
          -0.47616243415486537,
          0.19853783942531947,
          0.2977143915864261,
          -1.855739102293838,
          -1.5271594174323895,
          0.9240755611827767,
          -0.46865251259783175,
          -1.8163092453235228,
          -0.15067934561541563,
          -1.0727506320916296,
          -1.5654255684181315,
          -0.34207213481406545,
          -0.6872516516498743,
          -1.0508197434349515,
          -0.9780607974670134,
          -0.18898484327158133,
          -0.039136234036710044,
          -1.8628539460682927,
          -0.30057112230623806,
          0.3899872142257917,
          1.3263612429223863,
          -0.6964511719422645,
          -0.5939936437154617,
          0.0903522943658099,
          0.07313297205322962,
          -2.151088823078587,
          -1.0401634969002764,
          -0.8603926733532828,
          -0.6881122828925521,
          0.6896226103741924,
          -1.5544366021591884,
          1.0477898926043308,
          -1.0561956030166726,
          2.539213554154586,
          -0.465994066682114,
          -0.9670381137133083,
          -0.4972657008575012,
          0.5784089436939158,
          0.010498788076228699,
          0.7262602671326447,
          1.2172298208742065,
          -1.60247555904266,
          0.5247299774742716,
          -0.4885362098309171,
          -0.6131388231037387,
          0.1802018180722031,
          0.4196196952105734,
          -1.2768260786952084,
          0.8887046884283774,
          -2.1822576997033347,
          -0.42829872813287434,
          -0.9872993590158932,
          2.295273302975575,
          -0.09098096064988656,
          -0.9478298959357384,
          0.48921621980078556,
          0.3262043587401029,
          -0.3898662625659327,
          0.09651596127270934,
          -1.0552181211276468,
          0.369488796479088,
          0.02046408590172432,
          -0.3879178362630592,
          -0.003432685231879324,
          -0.9774206063142575,
          -2.7099452167000377,
          1.6208799163771643,
          -1.1004514362200706,
          1.6683747805218783,
          -0.029135800385993105,
          0.2504456136184933,
          0.5647969912492561,
          -1.7711136431609815,
          -0.1382815350001969,
          -1.293865182415434,
          0.9041569191639804,
          1.5977495168119773,
          2.42200438322949,
          0.1836099089609865,
          -0.48375545501322964,
          -0.10236885979584111,
          0.618129573336138,
          1.1471885422000987,
          -0.15958485382422855,
          0.6237452968883056,
          0.5960253075234013,
          0.1448754078320027,
          0.3085228778444357,
          -1.2132681466875959,
          3.3745900173680576,
          -2.340937465647977,
          2.1976593499606416,
          1.2587398644734884,
          -0.700771437451116,
          1.7181274929815347,
          -1.248867266454019,
          1.5087281010307605,
          1.670709550736754,
          0.7899682569842528,
          -1.636783112421094,
          0.18397592610762326,
          0.15947424563613996,
          -0.301052599672421,
          -0.07960209536309082,
          -0.09780184173146927
         ]
        }
       ],
       "layout": {
        "coloraxis": {
         "colorbar": {
          "title": {
           "text": "color"
          }
         },
         "colorscale": [
          [
           0,
           "#0d0887"
          ],
          [
           0.1111111111111111,
           "#46039f"
          ],
          [
           0.2222222222222222,
           "#7201a8"
          ],
          [
           0.3333333333333333,
           "#9c179e"
          ],
          [
           0.4444444444444444,
           "#bd3786"
          ],
          [
           0.5555555555555556,
           "#d8576b"
          ],
          [
           0.6666666666666666,
           "#ed7953"
          ],
          [
           0.7777777777777778,
           "#fb9f3a"
          ],
          [
           0.8888888888888888,
           "#fdca26"
          ],
          [
           1,
           "#f0f921"
          ]
         ]
        },
        "legend": {
         "tracegroupgap": 0
        },
        "scene": {
         "domain": {
          "x": [
           0,
           1
          ],
          "y": [
           0,
           1
          ]
         },
         "xaxis": {
          "title": {
           "text": "PC 1"
          }
         },
         "yaxis": {
          "title": {
           "text": "PC 2"
          }
         },
         "zaxis": {
          "title": {
           "text": "PC 3"
          }
         }
        },
        "template": {
         "data": {
          "bar": [
           {
            "error_x": {
             "color": "#2a3f5f"
            },
            "error_y": {
             "color": "#2a3f5f"
            },
            "marker": {
             "line": {
              "color": "#E5ECF6",
              "width": 0.5
             },
             "pattern": {
              "fillmode": "overlay",
              "size": 10,
              "solidity": 0.2
             }
            },
            "type": "bar"
           }
          ],
          "barpolar": [
           {
            "marker": {
             "line": {
              "color": "#E5ECF6",
              "width": 0.5
             },
             "pattern": {
              "fillmode": "overlay",
              "size": 10,
              "solidity": 0.2
             }
            },
            "type": "barpolar"
           }
          ],
          "carpet": [
           {
            "aaxis": {
             "endlinecolor": "#2a3f5f",
             "gridcolor": "white",
             "linecolor": "white",
             "minorgridcolor": "white",
             "startlinecolor": "#2a3f5f"
            },
            "baxis": {
             "endlinecolor": "#2a3f5f",
             "gridcolor": "white",
             "linecolor": "white",
             "minorgridcolor": "white",
             "startlinecolor": "#2a3f5f"
            },
            "type": "carpet"
           }
          ],
          "choropleth": [
           {
            "colorbar": {
             "outlinewidth": 0,
             "ticks": ""
            },
            "type": "choropleth"
           }
          ],
          "contour": [
           {
            "colorbar": {
             "outlinewidth": 0,
             "ticks": ""
            },
            "colorscale": [
             [
              0,
              "#0d0887"
             ],
             [
              0.1111111111111111,
              "#46039f"
             ],
             [
              0.2222222222222222,
              "#7201a8"
             ],
             [
              0.3333333333333333,
              "#9c179e"
             ],
             [
              0.4444444444444444,
              "#bd3786"
             ],
             [
              0.5555555555555556,
              "#d8576b"
             ],
             [
              0.6666666666666666,
              "#ed7953"
             ],
             [
              0.7777777777777778,
              "#fb9f3a"
             ],
             [
              0.8888888888888888,
              "#fdca26"
             ],
             [
              1,
              "#f0f921"
             ]
            ],
            "type": "contour"
           }
          ],
          "contourcarpet": [
           {
            "colorbar": {
             "outlinewidth": 0,
             "ticks": ""
            },
            "type": "contourcarpet"
           }
          ],
          "heatmap": [
           {
            "colorbar": {
             "outlinewidth": 0,
             "ticks": ""
            },
            "colorscale": [
             [
              0,
              "#0d0887"
             ],
             [
              0.1111111111111111,
              "#46039f"
             ],
             [
              0.2222222222222222,
              "#7201a8"
             ],
             [
              0.3333333333333333,
              "#9c179e"
             ],
             [
              0.4444444444444444,
              "#bd3786"
             ],
             [
              0.5555555555555556,
              "#d8576b"
             ],
             [
              0.6666666666666666,
              "#ed7953"
             ],
             [
              0.7777777777777778,
              "#fb9f3a"
             ],
             [
              0.8888888888888888,
              "#fdca26"
             ],
             [
              1,
              "#f0f921"
             ]
            ],
            "type": "heatmap"
           }
          ],
          "heatmapgl": [
           {
            "colorbar": {
             "outlinewidth": 0,
             "ticks": ""
            },
            "colorscale": [
             [
              0,
              "#0d0887"
             ],
             [
              0.1111111111111111,
              "#46039f"
             ],
             [
              0.2222222222222222,
              "#7201a8"
             ],
             [
              0.3333333333333333,
              "#9c179e"
             ],
             [
              0.4444444444444444,
              "#bd3786"
             ],
             [
              0.5555555555555556,
              "#d8576b"
             ],
             [
              0.6666666666666666,
              "#ed7953"
             ],
             [
              0.7777777777777778,
              "#fb9f3a"
             ],
             [
              0.8888888888888888,
              "#fdca26"
             ],
             [
              1,
              "#f0f921"
             ]
            ],
            "type": "heatmapgl"
           }
          ],
          "histogram": [
           {
            "marker": {
             "pattern": {
              "fillmode": "overlay",
              "size": 10,
              "solidity": 0.2
             }
            },
            "type": "histogram"
           }
          ],
          "histogram2d": [
           {
            "colorbar": {
             "outlinewidth": 0,
             "ticks": ""
            },
            "colorscale": [
             [
              0,
              "#0d0887"
             ],
             [
              0.1111111111111111,
              "#46039f"
             ],
             [
              0.2222222222222222,
              "#7201a8"
             ],
             [
              0.3333333333333333,
              "#9c179e"
             ],
             [
              0.4444444444444444,
              "#bd3786"
             ],
             [
              0.5555555555555556,
              "#d8576b"
             ],
             [
              0.6666666666666666,
              "#ed7953"
             ],
             [
              0.7777777777777778,
              "#fb9f3a"
             ],
             [
              0.8888888888888888,
              "#fdca26"
             ],
             [
              1,
              "#f0f921"
             ]
            ],
            "type": "histogram2d"
           }
          ],
          "histogram2dcontour": [
           {
            "colorbar": {
             "outlinewidth": 0,
             "ticks": ""
            },
            "colorscale": [
             [
              0,
              "#0d0887"
             ],
             [
              0.1111111111111111,
              "#46039f"
             ],
             [
              0.2222222222222222,
              "#7201a8"
             ],
             [
              0.3333333333333333,
              "#9c179e"
             ],
             [
              0.4444444444444444,
              "#bd3786"
             ],
             [
              0.5555555555555556,
              "#d8576b"
             ],
             [
              0.6666666666666666,
              "#ed7953"
             ],
             [
              0.7777777777777778,
              "#fb9f3a"
             ],
             [
              0.8888888888888888,
              "#fdca26"
             ],
             [
              1,
              "#f0f921"
             ]
            ],
            "type": "histogram2dcontour"
           }
          ],
          "mesh3d": [
           {
            "colorbar": {
             "outlinewidth": 0,
             "ticks": ""
            },
            "type": "mesh3d"
           }
          ],
          "parcoords": [
           {
            "line": {
             "colorbar": {
              "outlinewidth": 0,
              "ticks": ""
             }
            },
            "type": "parcoords"
           }
          ],
          "pie": [
           {
            "automargin": true,
            "type": "pie"
           }
          ],
          "scatter": [
           {
            "fillpattern": {
             "fillmode": "overlay",
             "size": 10,
             "solidity": 0.2
            },
            "type": "scatter"
           }
          ],
          "scatter3d": [
           {
            "line": {
             "colorbar": {
              "outlinewidth": 0,
              "ticks": ""
             }
            },
            "marker": {
             "colorbar": {
              "outlinewidth": 0,
              "ticks": ""
             }
            },
            "type": "scatter3d"
           }
          ],
          "scattercarpet": [
           {
            "marker": {
             "colorbar": {
              "outlinewidth": 0,
              "ticks": ""
             }
            },
            "type": "scattercarpet"
           }
          ],
          "scattergeo": [
           {
            "marker": {
             "colorbar": {
              "outlinewidth": 0,
              "ticks": ""
             }
            },
            "type": "scattergeo"
           }
          ],
          "scattergl": [
           {
            "marker": {
             "colorbar": {
              "outlinewidth": 0,
              "ticks": ""
             }
            },
            "type": "scattergl"
           }
          ],
          "scattermapbox": [
           {
            "marker": {
             "colorbar": {
              "outlinewidth": 0,
              "ticks": ""
             }
            },
            "type": "scattermapbox"
           }
          ],
          "scatterpolar": [
           {
            "marker": {
             "colorbar": {
              "outlinewidth": 0,
              "ticks": ""
             }
            },
            "type": "scatterpolar"
           }
          ],
          "scatterpolargl": [
           {
            "marker": {
             "colorbar": {
              "outlinewidth": 0,
              "ticks": ""
             }
            },
            "type": "scatterpolargl"
           }
          ],
          "scatterternary": [
           {
            "marker": {
             "colorbar": {
              "outlinewidth": 0,
              "ticks": ""
             }
            },
            "type": "scatterternary"
           }
          ],
          "surface": [
           {
            "colorbar": {
             "outlinewidth": 0,
             "ticks": ""
            },
            "colorscale": [
             [
              0,
              "#0d0887"
             ],
             [
              0.1111111111111111,
              "#46039f"
             ],
             [
              0.2222222222222222,
              "#7201a8"
             ],
             [
              0.3333333333333333,
              "#9c179e"
             ],
             [
              0.4444444444444444,
              "#bd3786"
             ],
             [
              0.5555555555555556,
              "#d8576b"
             ],
             [
              0.6666666666666666,
              "#ed7953"
             ],
             [
              0.7777777777777778,
              "#fb9f3a"
             ],
             [
              0.8888888888888888,
              "#fdca26"
             ],
             [
              1,
              "#f0f921"
             ]
            ],
            "type": "surface"
           }
          ],
          "table": [
           {
            "cells": {
             "fill": {
              "color": "#EBF0F8"
             },
             "line": {
              "color": "white"
             }
            },
            "header": {
             "fill": {
              "color": "#C8D4E3"
             },
             "line": {
              "color": "white"
             }
            },
            "type": "table"
           }
          ]
         },
         "layout": {
          "annotationdefaults": {
           "arrowcolor": "#2a3f5f",
           "arrowhead": 0,
           "arrowwidth": 1
          },
          "autotypenumbers": "strict",
          "coloraxis": {
           "colorbar": {
            "outlinewidth": 0,
            "ticks": ""
           }
          },
          "colorscale": {
           "diverging": [
            [
             0,
             "#8e0152"
            ],
            [
             0.1,
             "#c51b7d"
            ],
            [
             0.2,
             "#de77ae"
            ],
            [
             0.3,
             "#f1b6da"
            ],
            [
             0.4,
             "#fde0ef"
            ],
            [
             0.5,
             "#f7f7f7"
            ],
            [
             0.6,
             "#e6f5d0"
            ],
            [
             0.7,
             "#b8e186"
            ],
            [
             0.8,
             "#7fbc41"
            ],
            [
             0.9,
             "#4d9221"
            ],
            [
             1,
             "#276419"
            ]
           ],
           "sequential": [
            [
             0,
             "#0d0887"
            ],
            [
             0.1111111111111111,
             "#46039f"
            ],
            [
             0.2222222222222222,
             "#7201a8"
            ],
            [
             0.3333333333333333,
             "#9c179e"
            ],
            [
             0.4444444444444444,
             "#bd3786"
            ],
            [
             0.5555555555555556,
             "#d8576b"
            ],
            [
             0.6666666666666666,
             "#ed7953"
            ],
            [
             0.7777777777777778,
             "#fb9f3a"
            ],
            [
             0.8888888888888888,
             "#fdca26"
            ],
            [
             1,
             "#f0f921"
            ]
           ],
           "sequentialminus": [
            [
             0,
             "#0d0887"
            ],
            [
             0.1111111111111111,
             "#46039f"
            ],
            [
             0.2222222222222222,
             "#7201a8"
            ],
            [
             0.3333333333333333,
             "#9c179e"
            ],
            [
             0.4444444444444444,
             "#bd3786"
            ],
            [
             0.5555555555555556,
             "#d8576b"
            ],
            [
             0.6666666666666666,
             "#ed7953"
            ],
            [
             0.7777777777777778,
             "#fb9f3a"
            ],
            [
             0.8888888888888888,
             "#fdca26"
            ],
            [
             1,
             "#f0f921"
            ]
           ]
          },
          "colorway": [
           "#636efa",
           "#EF553B",
           "#00cc96",
           "#ab63fa",
           "#FFA15A",
           "#19d3f3",
           "#FF6692",
           "#B6E880",
           "#FF97FF",
           "#FECB52"
          ],
          "font": {
           "color": "#2a3f5f"
          },
          "geo": {
           "bgcolor": "white",
           "lakecolor": "white",
           "landcolor": "#E5ECF6",
           "showlakes": true,
           "showland": true,
           "subunitcolor": "white"
          },
          "hoverlabel": {
           "align": "left"
          },
          "hovermode": "closest",
          "mapbox": {
           "style": "light"
          },
          "paper_bgcolor": "white",
          "plot_bgcolor": "#E5ECF6",
          "polar": {
           "angularaxis": {
            "gridcolor": "white",
            "linecolor": "white",
            "ticks": ""
           },
           "bgcolor": "#E5ECF6",
           "radialaxis": {
            "gridcolor": "white",
            "linecolor": "white",
            "ticks": ""
           }
          },
          "scene": {
           "xaxis": {
            "backgroundcolor": "#E5ECF6",
            "gridcolor": "white",
            "gridwidth": 2,
            "linecolor": "white",
            "showbackground": true,
            "ticks": "",
            "zerolinecolor": "white"
           },
           "yaxis": {
            "backgroundcolor": "#E5ECF6",
            "gridcolor": "white",
            "gridwidth": 2,
            "linecolor": "white",
            "showbackground": true,
            "ticks": "",
            "zerolinecolor": "white"
           },
           "zaxis": {
            "backgroundcolor": "#E5ECF6",
            "gridcolor": "white",
            "gridwidth": 2,
            "linecolor": "white",
            "showbackground": true,
            "ticks": "",
            "zerolinecolor": "white"
           }
          },
          "shapedefaults": {
           "line": {
            "color": "#2a3f5f"
           }
          },
          "ternary": {
           "aaxis": {
            "gridcolor": "white",
            "linecolor": "white",
            "ticks": ""
           },
           "baxis": {
            "gridcolor": "white",
            "linecolor": "white",
            "ticks": ""
           },
           "bgcolor": "#E5ECF6",
           "caxis": {
            "gridcolor": "white",
            "linecolor": "white",
            "ticks": ""
           }
          },
          "title": {
           "x": 0.05
          },
          "xaxis": {
           "automargin": true,
           "gridcolor": "white",
           "linecolor": "white",
           "ticks": "",
           "title": {
            "standoff": 15
           },
           "zerolinecolor": "white",
           "zerolinewidth": 2
          },
          "yaxis": {
           "automargin": true,
           "gridcolor": "white",
           "linecolor": "white",
           "ticks": "",
           "title": {
            "standoff": 15
           },
           "zerolinecolor": "white",
           "zerolinewidth": 2
          }
         }
        },
        "title": {
         "text": "Total Explained Variance: 61.99%"
        }
       }
      }
     },
     "metadata": {},
     "output_type": "display_data"
    }
   ],
   "source": [
    "total_var = pca.explained_variance_ratio_[:3].sum()*100\n",
    "\n",
    "fig = px.scatter_3d(\n",
    "    reduced, x=0, y=1, z=2, color=target,\n",
    "    title=f'Total Explained Variance: {total_var:.2f}%',\n",
    "    labels={'0': 'PC 1', '1': 'PC 2', '2': 'PC 3'}\n",
    ")\n",
    "fig.show()"
   ]
  },
  {
   "cell_type": "markdown",
   "metadata": {},
   "source": [
    "### KMeans Clustering\n",
    "With the dimensionality reduction ready lets see how how the clustering model acts in this scenario to find out if it segregates the data as expected or returns other insights regarding the reduced dimension set.\n",
    "\n",
    "First we have to tune the hyperparameters of the `KMeans` clustering module in order to find a separation that could be ideal for this exercise."
   ]
  },
  {
   "cell_type": "code",
   "execution_count": 468,
   "metadata": {},
   "outputs": [
    {
     "name": "stdout",
     "output_type": "stream",
     "text": [
      "Best Score: -0.6609054803640807\n",
      "Best Parameters: {'algorithm': 'lloyd', 'n_clusters': 2, 'n_init': 14}\n"
     ]
    }
   ],
   "source": [
    "kmeans = KMeans()\n",
    "params = {\n",
    "    'n_clusters': [2, 3, 4, 5],\n",
    "    'n_init': [10, 12, 14, 16, 18, 20],\n",
    "    'algorithm': ['lloyd', 'elkan']\n",
    "}\n",
    "clf = GridSearchCV(kmeans, param_grid=params, cv=4, scoring='neg_root_mean_squared_error')\n",
    "clf.fit(reduced, target)\n",
    "\n",
    "print('Best Score:', clf.best_score_)\n",
    "print('Best Parameters:', clf.best_params_)"
   ]
  },
  {
   "cell_type": "code",
   "execution_count": 469,
   "metadata": {},
   "outputs": [
    {
     "data": {
      "application/vnd.plotly.v1+json": {
       "config": {
        "plotlyServerURL": "https://plot.ly"
       },
       "data": [
        {
         "hovertemplate": "0=%{x}<br>1=%{y}<br>color=%{marker.color}<extra></extra>",
         "legendgroup": "",
         "marker": {
          "color": [
           0,
           0,
           0,
           1,
           0,
           0,
           1,
           0,
           0,
           0,
           1,
           0,
           1,
           0,
           1,
           0,
           1,
           0,
           0,
           1,
           0,
           1,
           0,
           1,
           0,
           0,
           0,
           1,
           0,
           1,
           0,
           1,
           0,
           0,
           0,
           0,
           0,
           0,
           1,
           0,
           0,
           1,
           0,
           0,
           0,
           0,
           0,
           0,
           0,
           1,
           0,
           1,
           1,
           0,
           0,
           0,
           0,
           0,
           0,
           1,
           0,
           0,
           0,
           1,
           0,
           1,
           1,
           0,
           1,
           0,
           0,
           1,
           1,
           0,
           0,
           0,
           0,
           0,
           0,
           0,
           0,
           0,
           0,
           0,
           0,
           0,
           0,
           0,
           0,
           1,
           0,
           0,
           0,
           1,
           0,
           1,
           0,
           0,
           1,
           0,
           0,
           0,
           0,
           0,
           1,
           0,
           0,
           1,
           1,
           0,
           0,
           0,
           1,
           0,
           1,
           0,
           0,
           0,
           1,
           0,
           0,
           0,
           1,
           1,
           0,
           0,
           1,
           0,
           1,
           0,
           0,
           0,
           0,
           0,
           0,
           0,
           0,
           1,
           1,
           0,
           1,
           1,
           0,
           0,
           0,
           1,
           1,
           1,
           0,
           0,
           0,
           1,
           1,
           0,
           0,
           0,
           1,
           0,
           0,
           0,
           0,
           0,
           0,
           0,
           0,
           0,
           1,
           0,
           0,
           0,
           0,
           1,
           0,
           0,
           1,
           1,
           0,
           0,
           0,
           1,
           0,
           1,
           0,
           0,
           0,
           1,
           0,
           0,
           1,
           1,
           1,
           1,
           1,
           0,
           1,
           0,
           0,
           1,
           1,
           0,
           0,
           0,
           0,
           0,
           0,
           0,
           1,
           1,
           0,
           0,
           1,
           0,
           1,
           1,
           0,
           0,
           0,
           1,
           0,
           0,
           1,
           0,
           0,
           1,
           0,
           1,
           0,
           1,
           1,
           1,
           0,
           1,
           0,
           0,
           0,
           1,
           0,
           1,
           0,
           0,
           0,
           1
          ],
          "coloraxis": "coloraxis",
          "symbol": "circle"
         },
         "mode": "markers",
         "name": "",
         "orientation": "v",
         "showlegend": false,
         "type": "scatter",
         "x": [
          -0.4035197110792526,
          -0.8610515146664975,
          -2.0962651048872485,
          1.9997408677594608,
          -1.6519878430792225,
          -1.9545691494784059,
          2.1309370750796734,
          -1.0219610019042458,
          -1.1266573484388636,
          0.3303300968961071,
          5.184941055357711,
          -0.9646024401340689,
          0.4180429273308522,
          -2.0547190652829044,
          0.4186387795079518,
          0.44286046991893185,
          1.617050069378218,
          -1.050564896130068,
          -3.017774182560766,
          2.6415453580823587,
          0.5754902071177007,
          3.5026348848062794,
          -0.9146681686169227,
          3.0797102480447416,
          -0.9070459274708026,
          -0.6001033773819927,
          0.30446381238842823,
          0.619450990131671,
          -1.5716307244322039,
          0.5764109345137161,
          -0.5325451989218966,
          2.031667992638542,
          -1.101307577072503,
          -2.0677209814107287,
          -0.0885549857246776,
          -1.9191675726349444,
          -1.350967222827509,
          -1.4140328627000156,
          2.2225116936290763,
          -1.6621637616813998,
          -0.06880783692661303,
          0.6058913169149487,
          -0.5869993496633087,
          -1.6817765851080368,
          -2.9622362705336873,
          -2.47397408000138,
          0.5558142062705888,
          -2.977105529357065,
          -2.777813803625116,
          2.271547008533007,
          -2.2343114018246406,
          0.5509572184992872,
          2.165529164937689,
          0.1511905787965026,
          -0.2760423702983569,
          -1.4432592219352773,
          -1.0598625857868145,
          -1.036528272133523,
          -1.2207358813266007,
          3.030026411132474,
          -1.0668163286712324,
          -2.2095258715399626,
          -0.5596420657114873,
          1.5509939084821236,
          -2.8913146424392804,
          1.3774361445420469,
          0.19345467543190686,
          -2.7756621827738024,
          5.436734458651105,
          -1.1220006824541686,
          -1.8307468984381903,
          1.1603671096261294,
          0.9592393129920683,
          0.22447451254388912,
          -1.4973160432082464,
          -3.0749765595194263,
          -0.5717260220314153,
          -0.7320358870411411,
          -3.460183342911067,
          -2.2044824005737613,
          -2.670923999652477,
          0.13225088779613617,
          0.31325281606744554,
          -0.3844406995658939,
          -2.1945747038840135,
          -1.0567359503970646,
          -1.0685260544234267,
          -0.9284655581451182,
          -2.0316323933218157,
          2.579985718214705,
          -0.11960214515971822,
          -0.6020927058655487,
          -0.3154901302704853,
          1.1013345844751203,
          0.4897205348607495,
          1.9176247072610464,
          -0.6087566719302001,
          -1.4237789731451136,
          2.166297881077211,
          -0.528892344113953,
          -0.013878585588584704,
          -0.3042820589603681,
          -1.6341946427294676,
          -1.3042616081060465,
          0.801377187318106,
          -1.2334781919092608,
          -1.1493338443293606,
          1.4064326781998573,
          3.0354771982866993,
          -1.2622108986334197,
          -0.444901489962224,
          -1.0697795420919105,
          4.157624339056384,
          -1.451866188381867,
          1.5746212578628633,
          -0.23885777717292,
          -0.42227923064208017,
          0.18387267074551383,
          5.948929398821794,
          -0.3440531805052412,
          0.28023997821793,
          -0.3009181665762277,
          2.15652347927129,
          1.8348348159425507,
          -2.169061717246106,
          -1.4933758420957064,
          0.7576772886658717,
          -1.1484077888713446,
          1.801070092378493,
          -0.13638113807395602,
          -0.084173066537126,
          -1.5267759251112893,
          0.2984541989402523,
          0.40735359351961115,
          -0.9636305070510612,
          -0.7425393210147798,
          -1.1291549681703583,
          2.092305403607786,
          2.4413949740371246,
          -0.6510202546239706,
          1.7017759654058158,
          1.3140373550226863,
          -1.3558400560693007,
          -1.0280772497160888,
          -0.08736110964352146,
          1.7008145679440203,
          2.943456613266617,
          0.9177163090006825,
          -1.9410968263340092,
          -0.7494124335872446,
          -1.9955691275585012,
          0.7020667931753309,
          0.8809708282658317,
          -2.2094326916993623,
          -1.7628624656352154,
          -1.586814661592693,
          0.8878888239529911,
          -1.009394606172429,
          0.4237999941471293,
          -0.17959807661713403,
          -1.828794963674512,
          -0.9685703256028358,
          -0.44378980360505316,
          -0.14469631050389184,
          -1.7425718873239973,
          0.6962004081314801,
          1.512274461628085,
          -0.41983847996178064,
          0.18147734081408445,
          -1.04119478185248,
          -1.2717057349419516,
          2.09658654005686,
          -0.535671496256606,
          -0.21931785328009817,
          0.6507370498222977,
          1.9791036171752519,
          -1.3531741210669,
          0.3777701197528586,
          -1.2752851437362749,
          1.0148640866371073,
          0.16235240569595527,
          2.658402209341985,
          0.011151209940870037,
          -2.4188321199528056,
          -0.12943436460043412,
          1.7665171398461061,
          -0.5215580419181086,
          0.06212438528985614,
          1.1712468514794927,
          5.718400350610163,
          0.8311441909238094,
          1.1568813453002862,
          1.996270889668836,
          -2.177063224652023,
          1.065425429847666,
          -0.07754500248140009,
          -0.7025002496383365,
          0.8378650482891334,
          1.8308596028762656,
          -0.22933316007175825,
          -1.7653904778971512,
          -0.5302521665473374,
          0.10448936602332277,
          0.08218742791440924,
          -1.4562853594331353,
          -1.7579909134495175,
          3.461938546915636,
          1.9730388826813778,
          0.3558270730768094,
          0.7334094572319403,
          1.4077622042053966,
          -0.17803972652063185,
          1.3661850951349523,
          1.5869859075860309,
          -0.10787300607826283,
          -2.80575641295205,
          0.038686922715916755,
          4.178026072822426,
          -0.9565288874664887,
          0.7944743959064389,
          2.1447378779035846,
          -0.2972599525695758,
          -0.6113841306347192,
          0.7999884464357827,
          0.23448460769006246,
          1.7427102536678671,
          -0.3577551411398742,
          0.594122451570228,
          0.8230278699191221,
          3.6726781908995974,
          0.24884376787046605,
          1.7030359256270897,
          -1.5579942795284965,
          -0.27196000299647616,
          -1.3720427032250662,
          2.8527214543588926,
          -1.0943440009679912,
          1.9171347227852544,
          -0.446383218959924,
          -1.5768822518219374,
          -0.539078957404231,
          1.096310929137974
         ],
         "xaxis": "x",
         "y": [
          -0.9936292529370561,
          -0.6575551844879168,
          -0.9495584624669886,
          2.063689141027822,
          -1.6013327668680508,
          -0.24559923138969428,
          -0.3984803643781718,
          -0.6042680737305525,
          0.5645126814062454,
          -2.207979683106503,
          -3.5721706071978847,
          0.2515876329671503,
          0.4631073034497998,
          0.5448914800281519,
          1.8979435487485794,
          -0.6816175860800743,
          0.15200833915482684,
          3.6010311572647375,
          0.9706089687665564,
          0.8473738203220096,
          -1.296526277844481,
          -0.6828539838058464,
          -1.1980195543403578,
          -1.6011306914882706,
          1.1934354145910253,
          -0.09199143761440913,
          0.9537662172236057,
          0.9247057320182789,
          -0.4973715377916448,
          0.5379878588982868,
          -2.3198930797946065,
          1.8647874329240877,
          -1.9854942764313437,
          0.25892816888610554,
          0.3281921475178356,
          0.9252355924730559,
          1.0594827034529768,
          0.34162874225936446,
          -0.2299815764879254,
          -0.6762096811507635,
          1.2395114506204485,
          0.9085540264927877,
          -0.971585396165468,
          1.152789404215914,
          -3.9110178685306827,
          0.6868712302914161,
          -0.4520116148543725,
          3.103761737731746,
          -0.5657317158801219,
          -0.30691098596212596,
          -0.37691992238091176,
          -0.05431092605839779,
          0.9706975772183606,
          1.123328803172692,
          -2.73221727076886,
          -0.5896310661943254,
          0.5624622673678766,
          -0.6882382689609823,
          -2.3096881417235,
          1.592581190699403,
          1.0310792307756484,
          -0.4449364824702547,
          -0.024744123696018104,
          4.8670960152348535,
          -1.8202327751960086,
          -0.48451622110674203,
          3.546884349468825,
          -0.7494220689505959,
          -0.4644766791960539,
          -0.4207554648415225,
          1.334299482142079,
          -0.6778528911552743,
          0.15641769305867206,
          -0.270373624336474,
          3.257900594327708,
          -0.1492871723354133,
          1.4522328786796705,
          0.46092786450845824,
          -0.27088874001765983,
          0.45628717190661505,
          -1.6535493900463567,
          -0.5505756919284204,
          0.6196166104632398,
          -0.8399902279849096,
          -1.0998998239218232,
          0.2685433367519346,
          -0.218158557316712,
          -0.24886668722348473,
          -1.7886334681744254,
          0.8760293380901341,
          0.3473073785213635,
          -0.6683741543966747,
          1.7900095783490377,
          0.31026118236292166,
          -2.5910397260184705,
          0.24762221211162683,
          -0.4260836224228456,
          0.7545936212994483,
          -3.3382889476354074,
          2.4707996663521956,
          2.5937620300289175,
          0.4607065997401307,
          -0.6928439018073835,
          1.1998223089495712,
          0.9116634022915822,
          -0.7189529275755652,
          0.151337106688453,
          -0.6771465037088022,
          -0.9571237244351616,
          0.16824209695467376,
          -0.5006158252135177,
          -0.920677086275904,
          1.0801904004597056,
          2.9333224919394656,
          -0.3034556940710838,
          -3.0387736501173728,
          -0.03760108052664871,
          0.14429423166580826,
          -0.9488829851312987,
          -1.2860730698364704,
          -0.5550160736446519,
          0.7817117715472669,
          -2.753865879677905,
          1.4260514181914488,
          1.0534714063503097,
          0.8415459069753632,
          -1.004788998070873,
          0.48089839003796125,
          -3.06400661652335,
          -1.8269415646889824,
          1.2111136615253284,
          0.6282743226577976,
          -0.7140189189759318,
          -0.23596264151865956,
          -0.492139429019139,
          -0.9061736192221951,
          0.13652846583941908,
          -1.858833595289075,
          1.704454356886161,
          -0.5651931416995297,
          0.06401130066375586,
          2.2524244437614223,
          -1.173846404898146,
          -0.7175458945303117,
          -0.5156304895691658,
          1.0104760035357623,
          0.5857824430558851,
          1.6895466186015813,
          0.9177811398366712,
          -1.141165996971193,
          -0.5478778551970743,
          0.2571136476036755,
          0.3526484332396007,
          0.24766003295747419,
          -1.2568796772123807,
          1.7712257110155187,
          0.7605996592586014,
          -2.830527159429926,
          0.20503558436545444,
          1.3908625922313314,
          -0.00997911270592149,
          0.5069732035184916,
          0.7378004270503401,
          0.8903630433795523,
          -2.412551040304593,
          -1.3342981146502997,
          -0.2800072545769341,
          1.1324937995922038,
          0.5426674016240198,
          -1.1886772692483791,
          0.2681500951944594,
          -1.6273400547139019,
          -2.1137472960205477,
          1.2547044505608047,
          1.2696853827071595,
          0.08754561604208025,
          1.7666295469506956,
          -1.1277119492932395,
          -0.5398969146493379,
          0.5479435781401872,
          -1.055137312887316,
          -1.1455017585055103,
          2.1415789542278088,
          1.1268739689432494,
          -1.1006427215198342,
          2.98383979137824,
          -0.6325636361880836,
          1.3327191740226854,
          -0.5538825217446468,
          -1.7733301111726607,
          1.778533620126946,
          -1.8716591462027254,
          2.161452153529318,
          0.8655260097672361,
          0.9040286982156498,
          1.228260339190104,
          0.776641806121113,
          -0.12165011767061693,
          0.6786262146077268,
          -1.4144071514330963,
          2.4169483506911273,
          -1.0809051336717166,
          -1.375948837024219,
          0.4225083767730204,
          -1.351271269351763,
          -0.6233965309436381,
          -2.36671062565624,
          2.190666218554216,
          -0.15102430690637486,
          -3.04620828143891,
          1.9665704509708157,
          -0.02287844433129144,
          -0.10068918825049783,
          -0.963812008882861,
          0.38441392006689296,
          0.11195906586708372,
          -0.4933859809016778,
          -0.30915690283014596,
          -2.1604380480561907,
          -3.24147129395807,
          0.7231805150926863,
          -1.125242988540701,
          1.5027821085622037,
          1.211292276028239,
          -0.08035825785783399,
          -1.1687658131114393,
          1.6658747919936456,
          0.3911105220712494,
          -0.048612174872637616,
          1.0079750984555298,
          -2.2398071979870173,
          1.55634222461599,
          -1.7437455254940852,
          1.706963825674601,
          0.1779797180954671,
          2.142929526686365,
          0.25391529863574985,
          3.2062729520721707,
          -0.9716780374636994,
          -0.681071523885421,
          0.2355195015200854,
          -0.4611746847832807
         ],
         "yaxis": "y"
        }
       ],
       "layout": {
        "coloraxis": {
         "colorbar": {
          "title": {
           "text": "color"
          }
         },
         "colorscale": [
          [
           0,
           "#0d0887"
          ],
          [
           0.1111111111111111,
           "#46039f"
          ],
          [
           0.2222222222222222,
           "#7201a8"
          ],
          [
           0.3333333333333333,
           "#9c179e"
          ],
          [
           0.4444444444444444,
           "#bd3786"
          ],
          [
           0.5555555555555556,
           "#d8576b"
          ],
          [
           0.6666666666666666,
           "#ed7953"
          ],
          [
           0.7777777777777778,
           "#fb9f3a"
          ],
          [
           0.8888888888888888,
           "#fdca26"
          ],
          [
           1,
           "#f0f921"
          ]
         ]
        },
        "legend": {
         "tracegroupgap": 0
        },
        "template": {
         "data": {
          "bar": [
           {
            "error_x": {
             "color": "#2a3f5f"
            },
            "error_y": {
             "color": "#2a3f5f"
            },
            "marker": {
             "line": {
              "color": "#E5ECF6",
              "width": 0.5
             },
             "pattern": {
              "fillmode": "overlay",
              "size": 10,
              "solidity": 0.2
             }
            },
            "type": "bar"
           }
          ],
          "barpolar": [
           {
            "marker": {
             "line": {
              "color": "#E5ECF6",
              "width": 0.5
             },
             "pattern": {
              "fillmode": "overlay",
              "size": 10,
              "solidity": 0.2
             }
            },
            "type": "barpolar"
           }
          ],
          "carpet": [
           {
            "aaxis": {
             "endlinecolor": "#2a3f5f",
             "gridcolor": "white",
             "linecolor": "white",
             "minorgridcolor": "white",
             "startlinecolor": "#2a3f5f"
            },
            "baxis": {
             "endlinecolor": "#2a3f5f",
             "gridcolor": "white",
             "linecolor": "white",
             "minorgridcolor": "white",
             "startlinecolor": "#2a3f5f"
            },
            "type": "carpet"
           }
          ],
          "choropleth": [
           {
            "colorbar": {
             "outlinewidth": 0,
             "ticks": ""
            },
            "type": "choropleth"
           }
          ],
          "contour": [
           {
            "colorbar": {
             "outlinewidth": 0,
             "ticks": ""
            },
            "colorscale": [
             [
              0,
              "#0d0887"
             ],
             [
              0.1111111111111111,
              "#46039f"
             ],
             [
              0.2222222222222222,
              "#7201a8"
             ],
             [
              0.3333333333333333,
              "#9c179e"
             ],
             [
              0.4444444444444444,
              "#bd3786"
             ],
             [
              0.5555555555555556,
              "#d8576b"
             ],
             [
              0.6666666666666666,
              "#ed7953"
             ],
             [
              0.7777777777777778,
              "#fb9f3a"
             ],
             [
              0.8888888888888888,
              "#fdca26"
             ],
             [
              1,
              "#f0f921"
             ]
            ],
            "type": "contour"
           }
          ],
          "contourcarpet": [
           {
            "colorbar": {
             "outlinewidth": 0,
             "ticks": ""
            },
            "type": "contourcarpet"
           }
          ],
          "heatmap": [
           {
            "colorbar": {
             "outlinewidth": 0,
             "ticks": ""
            },
            "colorscale": [
             [
              0,
              "#0d0887"
             ],
             [
              0.1111111111111111,
              "#46039f"
             ],
             [
              0.2222222222222222,
              "#7201a8"
             ],
             [
              0.3333333333333333,
              "#9c179e"
             ],
             [
              0.4444444444444444,
              "#bd3786"
             ],
             [
              0.5555555555555556,
              "#d8576b"
             ],
             [
              0.6666666666666666,
              "#ed7953"
             ],
             [
              0.7777777777777778,
              "#fb9f3a"
             ],
             [
              0.8888888888888888,
              "#fdca26"
             ],
             [
              1,
              "#f0f921"
             ]
            ],
            "type": "heatmap"
           }
          ],
          "heatmapgl": [
           {
            "colorbar": {
             "outlinewidth": 0,
             "ticks": ""
            },
            "colorscale": [
             [
              0,
              "#0d0887"
             ],
             [
              0.1111111111111111,
              "#46039f"
             ],
             [
              0.2222222222222222,
              "#7201a8"
             ],
             [
              0.3333333333333333,
              "#9c179e"
             ],
             [
              0.4444444444444444,
              "#bd3786"
             ],
             [
              0.5555555555555556,
              "#d8576b"
             ],
             [
              0.6666666666666666,
              "#ed7953"
             ],
             [
              0.7777777777777778,
              "#fb9f3a"
             ],
             [
              0.8888888888888888,
              "#fdca26"
             ],
             [
              1,
              "#f0f921"
             ]
            ],
            "type": "heatmapgl"
           }
          ],
          "histogram": [
           {
            "marker": {
             "pattern": {
              "fillmode": "overlay",
              "size": 10,
              "solidity": 0.2
             }
            },
            "type": "histogram"
           }
          ],
          "histogram2d": [
           {
            "colorbar": {
             "outlinewidth": 0,
             "ticks": ""
            },
            "colorscale": [
             [
              0,
              "#0d0887"
             ],
             [
              0.1111111111111111,
              "#46039f"
             ],
             [
              0.2222222222222222,
              "#7201a8"
             ],
             [
              0.3333333333333333,
              "#9c179e"
             ],
             [
              0.4444444444444444,
              "#bd3786"
             ],
             [
              0.5555555555555556,
              "#d8576b"
             ],
             [
              0.6666666666666666,
              "#ed7953"
             ],
             [
              0.7777777777777778,
              "#fb9f3a"
             ],
             [
              0.8888888888888888,
              "#fdca26"
             ],
             [
              1,
              "#f0f921"
             ]
            ],
            "type": "histogram2d"
           }
          ],
          "histogram2dcontour": [
           {
            "colorbar": {
             "outlinewidth": 0,
             "ticks": ""
            },
            "colorscale": [
             [
              0,
              "#0d0887"
             ],
             [
              0.1111111111111111,
              "#46039f"
             ],
             [
              0.2222222222222222,
              "#7201a8"
             ],
             [
              0.3333333333333333,
              "#9c179e"
             ],
             [
              0.4444444444444444,
              "#bd3786"
             ],
             [
              0.5555555555555556,
              "#d8576b"
             ],
             [
              0.6666666666666666,
              "#ed7953"
             ],
             [
              0.7777777777777778,
              "#fb9f3a"
             ],
             [
              0.8888888888888888,
              "#fdca26"
             ],
             [
              1,
              "#f0f921"
             ]
            ],
            "type": "histogram2dcontour"
           }
          ],
          "mesh3d": [
           {
            "colorbar": {
             "outlinewidth": 0,
             "ticks": ""
            },
            "type": "mesh3d"
           }
          ],
          "parcoords": [
           {
            "line": {
             "colorbar": {
              "outlinewidth": 0,
              "ticks": ""
             }
            },
            "type": "parcoords"
           }
          ],
          "pie": [
           {
            "automargin": true,
            "type": "pie"
           }
          ],
          "scatter": [
           {
            "fillpattern": {
             "fillmode": "overlay",
             "size": 10,
             "solidity": 0.2
            },
            "type": "scatter"
           }
          ],
          "scatter3d": [
           {
            "line": {
             "colorbar": {
              "outlinewidth": 0,
              "ticks": ""
             }
            },
            "marker": {
             "colorbar": {
              "outlinewidth": 0,
              "ticks": ""
             }
            },
            "type": "scatter3d"
           }
          ],
          "scattercarpet": [
           {
            "marker": {
             "colorbar": {
              "outlinewidth": 0,
              "ticks": ""
             }
            },
            "type": "scattercarpet"
           }
          ],
          "scattergeo": [
           {
            "marker": {
             "colorbar": {
              "outlinewidth": 0,
              "ticks": ""
             }
            },
            "type": "scattergeo"
           }
          ],
          "scattergl": [
           {
            "marker": {
             "colorbar": {
              "outlinewidth": 0,
              "ticks": ""
             }
            },
            "type": "scattergl"
           }
          ],
          "scattermapbox": [
           {
            "marker": {
             "colorbar": {
              "outlinewidth": 0,
              "ticks": ""
             }
            },
            "type": "scattermapbox"
           }
          ],
          "scatterpolar": [
           {
            "marker": {
             "colorbar": {
              "outlinewidth": 0,
              "ticks": ""
             }
            },
            "type": "scatterpolar"
           }
          ],
          "scatterpolargl": [
           {
            "marker": {
             "colorbar": {
              "outlinewidth": 0,
              "ticks": ""
             }
            },
            "type": "scatterpolargl"
           }
          ],
          "scatterternary": [
           {
            "marker": {
             "colorbar": {
              "outlinewidth": 0,
              "ticks": ""
             }
            },
            "type": "scatterternary"
           }
          ],
          "surface": [
           {
            "colorbar": {
             "outlinewidth": 0,
             "ticks": ""
            },
            "colorscale": [
             [
              0,
              "#0d0887"
             ],
             [
              0.1111111111111111,
              "#46039f"
             ],
             [
              0.2222222222222222,
              "#7201a8"
             ],
             [
              0.3333333333333333,
              "#9c179e"
             ],
             [
              0.4444444444444444,
              "#bd3786"
             ],
             [
              0.5555555555555556,
              "#d8576b"
             ],
             [
              0.6666666666666666,
              "#ed7953"
             ],
             [
              0.7777777777777778,
              "#fb9f3a"
             ],
             [
              0.8888888888888888,
              "#fdca26"
             ],
             [
              1,
              "#f0f921"
             ]
            ],
            "type": "surface"
           }
          ],
          "table": [
           {
            "cells": {
             "fill": {
              "color": "#EBF0F8"
             },
             "line": {
              "color": "white"
             }
            },
            "header": {
             "fill": {
              "color": "#C8D4E3"
             },
             "line": {
              "color": "white"
             }
            },
            "type": "table"
           }
          ]
         },
         "layout": {
          "annotationdefaults": {
           "arrowcolor": "#2a3f5f",
           "arrowhead": 0,
           "arrowwidth": 1
          },
          "autotypenumbers": "strict",
          "coloraxis": {
           "colorbar": {
            "outlinewidth": 0,
            "ticks": ""
           }
          },
          "colorscale": {
           "diverging": [
            [
             0,
             "#8e0152"
            ],
            [
             0.1,
             "#c51b7d"
            ],
            [
             0.2,
             "#de77ae"
            ],
            [
             0.3,
             "#f1b6da"
            ],
            [
             0.4,
             "#fde0ef"
            ],
            [
             0.5,
             "#f7f7f7"
            ],
            [
             0.6,
             "#e6f5d0"
            ],
            [
             0.7,
             "#b8e186"
            ],
            [
             0.8,
             "#7fbc41"
            ],
            [
             0.9,
             "#4d9221"
            ],
            [
             1,
             "#276419"
            ]
           ],
           "sequential": [
            [
             0,
             "#0d0887"
            ],
            [
             0.1111111111111111,
             "#46039f"
            ],
            [
             0.2222222222222222,
             "#7201a8"
            ],
            [
             0.3333333333333333,
             "#9c179e"
            ],
            [
             0.4444444444444444,
             "#bd3786"
            ],
            [
             0.5555555555555556,
             "#d8576b"
            ],
            [
             0.6666666666666666,
             "#ed7953"
            ],
            [
             0.7777777777777778,
             "#fb9f3a"
            ],
            [
             0.8888888888888888,
             "#fdca26"
            ],
            [
             1,
             "#f0f921"
            ]
           ],
           "sequentialminus": [
            [
             0,
             "#0d0887"
            ],
            [
             0.1111111111111111,
             "#46039f"
            ],
            [
             0.2222222222222222,
             "#7201a8"
            ],
            [
             0.3333333333333333,
             "#9c179e"
            ],
            [
             0.4444444444444444,
             "#bd3786"
            ],
            [
             0.5555555555555556,
             "#d8576b"
            ],
            [
             0.6666666666666666,
             "#ed7953"
            ],
            [
             0.7777777777777778,
             "#fb9f3a"
            ],
            [
             0.8888888888888888,
             "#fdca26"
            ],
            [
             1,
             "#f0f921"
            ]
           ]
          },
          "colorway": [
           "#636efa",
           "#EF553B",
           "#00cc96",
           "#ab63fa",
           "#FFA15A",
           "#19d3f3",
           "#FF6692",
           "#B6E880",
           "#FF97FF",
           "#FECB52"
          ],
          "font": {
           "color": "#2a3f5f"
          },
          "geo": {
           "bgcolor": "white",
           "lakecolor": "white",
           "landcolor": "#E5ECF6",
           "showlakes": true,
           "showland": true,
           "subunitcolor": "white"
          },
          "hoverlabel": {
           "align": "left"
          },
          "hovermode": "closest",
          "mapbox": {
           "style": "light"
          },
          "paper_bgcolor": "white",
          "plot_bgcolor": "#E5ECF6",
          "polar": {
           "angularaxis": {
            "gridcolor": "white",
            "linecolor": "white",
            "ticks": ""
           },
           "bgcolor": "#E5ECF6",
           "radialaxis": {
            "gridcolor": "white",
            "linecolor": "white",
            "ticks": ""
           }
          },
          "scene": {
           "xaxis": {
            "backgroundcolor": "#E5ECF6",
            "gridcolor": "white",
            "gridwidth": 2,
            "linecolor": "white",
            "showbackground": true,
            "ticks": "",
            "zerolinecolor": "white"
           },
           "yaxis": {
            "backgroundcolor": "#E5ECF6",
            "gridcolor": "white",
            "gridwidth": 2,
            "linecolor": "white",
            "showbackground": true,
            "ticks": "",
            "zerolinecolor": "white"
           },
           "zaxis": {
            "backgroundcolor": "#E5ECF6",
            "gridcolor": "white",
            "gridwidth": 2,
            "linecolor": "white",
            "showbackground": true,
            "ticks": "",
            "zerolinecolor": "white"
           }
          },
          "shapedefaults": {
           "line": {
            "color": "#2a3f5f"
           }
          },
          "ternary": {
           "aaxis": {
            "gridcolor": "white",
            "linecolor": "white",
            "ticks": ""
           },
           "baxis": {
            "gridcolor": "white",
            "linecolor": "white",
            "ticks": ""
           },
           "bgcolor": "#E5ECF6",
           "caxis": {
            "gridcolor": "white",
            "linecolor": "white",
            "ticks": ""
           }
          },
          "title": {
           "x": 0.05
          },
          "xaxis": {
           "automargin": true,
           "gridcolor": "white",
           "linecolor": "white",
           "ticks": "",
           "title": {
            "standoff": 15
           },
           "zerolinecolor": "white",
           "zerolinewidth": 2
          },
          "yaxis": {
           "automargin": true,
           "gridcolor": "white",
           "linecolor": "white",
           "ticks": "",
           "title": {
            "standoff": 15
           },
           "zerolinecolor": "white",
           "zerolinewidth": 2
          }
         }
        },
        "title": {
         "text": "K-Means Clustering"
        },
        "xaxis": {
         "anchor": "y",
         "domain": [
          0,
          1
         ],
         "title": {
          "text": "PC1"
         }
        },
        "yaxis": {
         "anchor": "x",
         "domain": [
          0,
          1
         ],
         "title": {
          "text": "PC2"
         }
        }
       }
      }
     },
     "metadata": {},
     "output_type": "display_data"
    }
   ],
   "source": [
    "kmeans = clf.best_estimator_.fit(reduced)\n",
    "fig = px.scatter(reduced, x=0, y=1, color=kmeans.labels_, title='K-Means Clustering')\n",
    "fig.update_layout(\n",
    "    xaxis_title=\"PC1\",\n",
    "    yaxis_title=\"PC2\"\n",
    ")\n",
    "fig.show()"
   ]
  },
  {
   "cell_type": "markdown",
   "metadata": {},
   "source": [
    "The model found two clusters which seems to be based on the activity. On the right side we have the vectors which represent higher levels of activity such as minutes active, deep sleep, floors, etc. while on the left side we find inactivity vectors, mostly inactive minutes throughout the day.\n",
    "\n",
    "The model found these two clusters but what about our previous PCA where we saw other clusters regarding sleeping more than 7 hours? My hypothesis is that if I add those two additional clusters we might see them again in this k means algorithm so lets add up those clusters we know are there to see what the model predicts."
   ]
  },
  {
   "cell_type": "code",
   "execution_count": 470,
   "metadata": {},
   "outputs": [
    {
     "data": {
      "application/vnd.plotly.v1+json": {
       "config": {
        "plotlyServerURL": "https://plot.ly"
       },
       "data": [
        {
         "hovertemplate": "0=%{x}<br>1=%{y}<br>color=%{marker.color}<extra></extra>",
         "legendgroup": "",
         "marker": {
          "color": [
           2,
           0,
           0,
           3,
           2,
           0,
           1,
           0,
           0,
           0,
           3,
           0,
           3,
           0,
           3,
           1,
           3,
           0,
           0,
           1,
           1,
           3,
           2,
           3,
           0,
           2,
           1,
           1,
           2,
           1,
           2,
           3,
           2,
           0,
           3,
           0,
           0,
           2,
           3,
           2,
           1,
           3,
           2,
           0,
           2,
           0,
           1,
           0,
           0,
           1,
           0,
           3,
           1,
           3,
           2,
           2,
           0,
           2,
           0,
           3,
           0,
           0,
           2,
           1,
           2,
           1,
           1,
           2,
           3,
           2,
           0,
           1,
           3,
           3,
           0,
           0,
           0,
           0,
           0,
           0,
           0,
           1,
           1,
           2,
           0,
           0,
           0,
           0,
           2,
           1,
           1,
           2,
           1,
           1,
           2,
           1,
           2,
           0,
           3,
           0,
           1,
           1,
           2,
           0,
           1,
           2,
           0,
           1,
           3,
           0,
           2,
           2,
           1,
           0,
           3,
           2,
           0,
           1,
           3,
           2,
           1,
           1,
           3,
           3,
           0,
           0,
           2,
           0,
           2,
           2,
           1,
           0,
           1,
           1,
           2,
           2,
           0,
           1,
           3,
           2,
           1,
           1,
           0,
           2,
           2,
           1,
           3,
           1,
           0,
           2,
           2,
           1,
           1,
           0,
           2,
           0,
           1,
           2,
           1,
           1,
           0,
           0,
           1,
           1,
           2,
           2,
           1,
           1,
           1,
           2,
           0,
           3,
           2,
           1,
           3,
           1,
           0,
           3,
           2,
           1,
           2,
           3,
           1,
           0,
           2,
           3,
           2,
           1,
           1,
           3,
           3,
           3,
           1,
           0,
           1,
           0,
           1,
           3,
           3,
           2,
           0,
           2,
           2,
           3,
           2,
           0,
           3,
           3,
           3,
           2,
           3,
           1,
           3,
           3,
           0,
           0,
           2,
           3,
           2,
           2,
           1,
           2,
           0,
           3,
           1,
           1,
           0,
           1,
           3,
           3,
           2,
           1,
           2,
           0,
           0,
           3,
           2,
           1,
           2,
           2,
           0,
           1
          ],
          "coloraxis": "coloraxis",
          "symbol": "circle"
         },
         "mode": "markers",
         "name": "",
         "orientation": "v",
         "showlegend": false,
         "type": "scatter",
         "x": [
          -0.4035197110792526,
          -0.8610515146664975,
          -2.0962651048872485,
          1.9997408677594608,
          -1.6519878430792225,
          -1.9545691494784059,
          2.1309370750796734,
          -1.0219610019042458,
          -1.1266573484388636,
          0.3303300968961071,
          5.184941055357711,
          -0.9646024401340689,
          0.4180429273308522,
          -2.0547190652829044,
          0.4186387795079518,
          0.44286046991893185,
          1.617050069378218,
          -1.050564896130068,
          -3.017774182560766,
          2.6415453580823587,
          0.5754902071177007,
          3.5026348848062794,
          -0.9146681686169227,
          3.0797102480447416,
          -0.9070459274708026,
          -0.6001033773819927,
          0.30446381238842823,
          0.619450990131671,
          -1.5716307244322039,
          0.5764109345137161,
          -0.5325451989218966,
          2.031667992638542,
          -1.101307577072503,
          -2.0677209814107287,
          -0.0885549857246776,
          -1.9191675726349444,
          -1.350967222827509,
          -1.4140328627000156,
          2.2225116936290763,
          -1.6621637616813998,
          -0.06880783692661303,
          0.6058913169149487,
          -0.5869993496633087,
          -1.6817765851080368,
          -2.9622362705336873,
          -2.47397408000138,
          0.5558142062705888,
          -2.977105529357065,
          -2.777813803625116,
          2.271547008533007,
          -2.2343114018246406,
          0.5509572184992872,
          2.165529164937689,
          0.1511905787965026,
          -0.2760423702983569,
          -1.4432592219352773,
          -1.0598625857868145,
          -1.036528272133523,
          -1.2207358813266007,
          3.030026411132474,
          -1.0668163286712324,
          -2.2095258715399626,
          -0.5596420657114873,
          1.5509939084821236,
          -2.8913146424392804,
          1.3774361445420469,
          0.19345467543190686,
          -2.7756621827738024,
          5.436734458651105,
          -1.1220006824541686,
          -1.8307468984381903,
          1.1603671096261294,
          0.9592393129920683,
          0.22447451254388912,
          -1.4973160432082464,
          -3.0749765595194263,
          -0.5717260220314153,
          -0.7320358870411411,
          -3.460183342911067,
          -2.2044824005737613,
          -2.670923999652477,
          0.13225088779613617,
          0.31325281606744554,
          -0.3844406995658939,
          -2.1945747038840135,
          -1.0567359503970646,
          -1.0685260544234267,
          -0.9284655581451182,
          -2.0316323933218157,
          2.579985718214705,
          -0.11960214515971822,
          -0.6020927058655487,
          -0.3154901302704853,
          1.1013345844751203,
          0.4897205348607495,
          1.9176247072610464,
          -0.6087566719302001,
          -1.4237789731451136,
          2.166297881077211,
          -0.528892344113953,
          -0.013878585588584704,
          -0.3042820589603681,
          -1.6341946427294676,
          -1.3042616081060465,
          0.801377187318106,
          -1.2334781919092608,
          -1.1493338443293606,
          1.4064326781998573,
          3.0354771982866993,
          -1.2622108986334197,
          -0.444901489962224,
          -1.0697795420919105,
          4.157624339056384,
          -1.451866188381867,
          1.5746212578628633,
          -0.23885777717292,
          -0.42227923064208017,
          0.18387267074551383,
          5.948929398821794,
          -0.3440531805052412,
          0.28023997821793,
          -0.3009181665762277,
          2.15652347927129,
          1.8348348159425507,
          -2.169061717246106,
          -1.4933758420957064,
          0.7576772886658717,
          -1.1484077888713446,
          1.801070092378493,
          -0.13638113807395602,
          -0.084173066537126,
          -1.5267759251112893,
          0.2984541989402523,
          0.40735359351961115,
          -0.9636305070510612,
          -0.7425393210147798,
          -1.1291549681703583,
          2.092305403607786,
          2.4413949740371246,
          -0.6510202546239706,
          1.7017759654058158,
          1.3140373550226863,
          -1.3558400560693007,
          -1.0280772497160888,
          -0.08736110964352146,
          1.7008145679440203,
          2.943456613266617,
          0.9177163090006825,
          -1.9410968263340092,
          -0.7494124335872446,
          -1.9955691275585012,
          0.7020667931753309,
          0.8809708282658317,
          -2.2094326916993623,
          -1.7628624656352154,
          -1.586814661592693,
          0.8878888239529911,
          -1.009394606172429,
          0.4237999941471293,
          -0.17959807661713403,
          -1.828794963674512,
          -0.9685703256028358,
          -0.44378980360505316,
          -0.14469631050389184,
          -1.7425718873239973,
          0.6962004081314801,
          1.512274461628085,
          -0.41983847996178064,
          0.18147734081408445,
          -1.04119478185248,
          -1.2717057349419516,
          2.09658654005686,
          -0.535671496256606,
          -0.21931785328009817,
          0.6507370498222977,
          1.9791036171752519,
          -1.3531741210669,
          0.3777701197528586,
          -1.2752851437362749,
          1.0148640866371073,
          0.16235240569595527,
          2.658402209341985,
          0.011151209940870037,
          -2.4188321199528056,
          -0.12943436460043412,
          1.7665171398461061,
          -0.5215580419181086,
          0.06212438528985614,
          1.1712468514794927,
          5.718400350610163,
          0.8311441909238094,
          1.1568813453002862,
          1.996270889668836,
          -2.177063224652023,
          1.065425429847666,
          -0.07754500248140009,
          -0.7025002496383365,
          0.8378650482891334,
          1.8308596028762656,
          -0.22933316007175825,
          -1.7653904778971512,
          -0.5302521665473374,
          0.10448936602332277,
          0.08218742791440924,
          -1.4562853594331353,
          -1.7579909134495175,
          3.461938546915636,
          1.9730388826813778,
          0.3558270730768094,
          0.7334094572319403,
          1.4077622042053966,
          -0.17803972652063185,
          1.3661850951349523,
          1.5869859075860309,
          -0.10787300607826283,
          -2.80575641295205,
          0.038686922715916755,
          4.178026072822426,
          -0.9565288874664887,
          0.7944743959064389,
          2.1447378779035846,
          -0.2972599525695758,
          -0.6113841306347192,
          0.7999884464357827,
          0.23448460769006246,
          1.7427102536678671,
          -0.3577551411398742,
          0.594122451570228,
          0.8230278699191221,
          3.6726781908995974,
          0.24884376787046605,
          1.7030359256270897,
          -1.5579942795284965,
          -0.27196000299647616,
          -1.3720427032250662,
          2.8527214543588926,
          -1.0943440009679912,
          1.9171347227852544,
          -0.446383218959924,
          -1.5768822518219374,
          -0.539078957404231,
          1.096310929137974
         ],
         "xaxis": "x",
         "y": [
          -0.9936292529370561,
          -0.6575551844879168,
          -0.9495584624669886,
          2.063689141027822,
          -1.6013327668680508,
          -0.24559923138969428,
          -0.3984803643781718,
          -0.6042680737305525,
          0.5645126814062454,
          -2.207979683106503,
          -3.5721706071978847,
          0.2515876329671503,
          0.4631073034497998,
          0.5448914800281519,
          1.8979435487485794,
          -0.6816175860800743,
          0.15200833915482684,
          3.6010311572647375,
          0.9706089687665564,
          0.8473738203220096,
          -1.296526277844481,
          -0.6828539838058464,
          -1.1980195543403578,
          -1.6011306914882706,
          1.1934354145910253,
          -0.09199143761440913,
          0.9537662172236057,
          0.9247057320182789,
          -0.4973715377916448,
          0.5379878588982868,
          -2.3198930797946065,
          1.8647874329240877,
          -1.9854942764313437,
          0.25892816888610554,
          0.3281921475178356,
          0.9252355924730559,
          1.0594827034529768,
          0.34162874225936446,
          -0.2299815764879254,
          -0.6762096811507635,
          1.2395114506204485,
          0.9085540264927877,
          -0.971585396165468,
          1.152789404215914,
          -3.9110178685306827,
          0.6868712302914161,
          -0.4520116148543725,
          3.103761737731746,
          -0.5657317158801219,
          -0.30691098596212596,
          -0.37691992238091176,
          -0.05431092605839779,
          0.9706975772183606,
          1.123328803172692,
          -2.73221727076886,
          -0.5896310661943254,
          0.5624622673678766,
          -0.6882382689609823,
          -2.3096881417235,
          1.592581190699403,
          1.0310792307756484,
          -0.4449364824702547,
          -0.024744123696018104,
          4.8670960152348535,
          -1.8202327751960086,
          -0.48451622110674203,
          3.546884349468825,
          -0.7494220689505959,
          -0.4644766791960539,
          -0.4207554648415225,
          1.334299482142079,
          -0.6778528911552743,
          0.15641769305867206,
          -0.270373624336474,
          3.257900594327708,
          -0.1492871723354133,
          1.4522328786796705,
          0.46092786450845824,
          -0.27088874001765983,
          0.45628717190661505,
          -1.6535493900463567,
          -0.5505756919284204,
          0.6196166104632398,
          -0.8399902279849096,
          -1.0998998239218232,
          0.2685433367519346,
          -0.218158557316712,
          -0.24886668722348473,
          -1.7886334681744254,
          0.8760293380901341,
          0.3473073785213635,
          -0.6683741543966747,
          1.7900095783490377,
          0.31026118236292166,
          -2.5910397260184705,
          0.24762221211162683,
          -0.4260836224228456,
          0.7545936212994483,
          -3.3382889476354074,
          2.4707996663521956,
          2.5937620300289175,
          0.4607065997401307,
          -0.6928439018073835,
          1.1998223089495712,
          0.9116634022915822,
          -0.7189529275755652,
          0.151337106688453,
          -0.6771465037088022,
          -0.9571237244351616,
          0.16824209695467376,
          -0.5006158252135177,
          -0.920677086275904,
          1.0801904004597056,
          2.9333224919394656,
          -0.3034556940710838,
          -3.0387736501173728,
          -0.03760108052664871,
          0.14429423166580826,
          -0.9488829851312987,
          -1.2860730698364704,
          -0.5550160736446519,
          0.7817117715472669,
          -2.753865879677905,
          1.4260514181914488,
          1.0534714063503097,
          0.8415459069753632,
          -1.004788998070873,
          0.48089839003796125,
          -3.06400661652335,
          -1.8269415646889824,
          1.2111136615253284,
          0.6282743226577976,
          -0.7140189189759318,
          -0.23596264151865956,
          -0.492139429019139,
          -0.9061736192221951,
          0.13652846583941908,
          -1.858833595289075,
          1.704454356886161,
          -0.5651931416995297,
          0.06401130066375586,
          2.2524244437614223,
          -1.173846404898146,
          -0.7175458945303117,
          -0.5156304895691658,
          1.0104760035357623,
          0.5857824430558851,
          1.6895466186015813,
          0.9177811398366712,
          -1.141165996971193,
          -0.5478778551970743,
          0.2571136476036755,
          0.3526484332396007,
          0.24766003295747419,
          -1.2568796772123807,
          1.7712257110155187,
          0.7605996592586014,
          -2.830527159429926,
          0.20503558436545444,
          1.3908625922313314,
          -0.00997911270592149,
          0.5069732035184916,
          0.7378004270503401,
          0.8903630433795523,
          -2.412551040304593,
          -1.3342981146502997,
          -0.2800072545769341,
          1.1324937995922038,
          0.5426674016240198,
          -1.1886772692483791,
          0.2681500951944594,
          -1.6273400547139019,
          -2.1137472960205477,
          1.2547044505608047,
          1.2696853827071595,
          0.08754561604208025,
          1.7666295469506956,
          -1.1277119492932395,
          -0.5398969146493379,
          0.5479435781401872,
          -1.055137312887316,
          -1.1455017585055103,
          2.1415789542278088,
          1.1268739689432494,
          -1.1006427215198342,
          2.98383979137824,
          -0.6325636361880836,
          1.3327191740226854,
          -0.5538825217446468,
          -1.7733301111726607,
          1.778533620126946,
          -1.8716591462027254,
          2.161452153529318,
          0.8655260097672361,
          0.9040286982156498,
          1.228260339190104,
          0.776641806121113,
          -0.12165011767061693,
          0.6786262146077268,
          -1.4144071514330963,
          2.4169483506911273,
          -1.0809051336717166,
          -1.375948837024219,
          0.4225083767730204,
          -1.351271269351763,
          -0.6233965309436381,
          -2.36671062565624,
          2.190666218554216,
          -0.15102430690637486,
          -3.04620828143891,
          1.9665704509708157,
          -0.02287844433129144,
          -0.10068918825049783,
          -0.963812008882861,
          0.38441392006689296,
          0.11195906586708372,
          -0.4933859809016778,
          -0.30915690283014596,
          -2.1604380480561907,
          -3.24147129395807,
          0.7231805150926863,
          -1.125242988540701,
          1.5027821085622037,
          1.211292276028239,
          -0.08035825785783399,
          -1.1687658131114393,
          1.6658747919936456,
          0.3911105220712494,
          -0.048612174872637616,
          1.0079750984555298,
          -2.2398071979870173,
          1.55634222461599,
          -1.7437455254940852,
          1.706963825674601,
          0.1779797180954671,
          2.142929526686365,
          0.25391529863574985,
          3.2062729520721707,
          -0.9716780374636994,
          -0.681071523885421,
          0.2355195015200854,
          -0.4611746847832807
         ],
         "yaxis": "y"
        }
       ],
       "layout": {
        "coloraxis": {
         "colorbar": {
          "title": {
           "text": "color"
          }
         },
         "colorscale": [
          [
           0,
           "#0d0887"
          ],
          [
           0.1111111111111111,
           "#46039f"
          ],
          [
           0.2222222222222222,
           "#7201a8"
          ],
          [
           0.3333333333333333,
           "#9c179e"
          ],
          [
           0.4444444444444444,
           "#bd3786"
          ],
          [
           0.5555555555555556,
           "#d8576b"
          ],
          [
           0.6666666666666666,
           "#ed7953"
          ],
          [
           0.7777777777777778,
           "#fb9f3a"
          ],
          [
           0.8888888888888888,
           "#fdca26"
          ],
          [
           1,
           "#f0f921"
          ]
         ]
        },
        "legend": {
         "tracegroupgap": 0
        },
        "template": {
         "data": {
          "bar": [
           {
            "error_x": {
             "color": "#2a3f5f"
            },
            "error_y": {
             "color": "#2a3f5f"
            },
            "marker": {
             "line": {
              "color": "#E5ECF6",
              "width": 0.5
             },
             "pattern": {
              "fillmode": "overlay",
              "size": 10,
              "solidity": 0.2
             }
            },
            "type": "bar"
           }
          ],
          "barpolar": [
           {
            "marker": {
             "line": {
              "color": "#E5ECF6",
              "width": 0.5
             },
             "pattern": {
              "fillmode": "overlay",
              "size": 10,
              "solidity": 0.2
             }
            },
            "type": "barpolar"
           }
          ],
          "carpet": [
           {
            "aaxis": {
             "endlinecolor": "#2a3f5f",
             "gridcolor": "white",
             "linecolor": "white",
             "minorgridcolor": "white",
             "startlinecolor": "#2a3f5f"
            },
            "baxis": {
             "endlinecolor": "#2a3f5f",
             "gridcolor": "white",
             "linecolor": "white",
             "minorgridcolor": "white",
             "startlinecolor": "#2a3f5f"
            },
            "type": "carpet"
           }
          ],
          "choropleth": [
           {
            "colorbar": {
             "outlinewidth": 0,
             "ticks": ""
            },
            "type": "choropleth"
           }
          ],
          "contour": [
           {
            "colorbar": {
             "outlinewidth": 0,
             "ticks": ""
            },
            "colorscale": [
             [
              0,
              "#0d0887"
             ],
             [
              0.1111111111111111,
              "#46039f"
             ],
             [
              0.2222222222222222,
              "#7201a8"
             ],
             [
              0.3333333333333333,
              "#9c179e"
             ],
             [
              0.4444444444444444,
              "#bd3786"
             ],
             [
              0.5555555555555556,
              "#d8576b"
             ],
             [
              0.6666666666666666,
              "#ed7953"
             ],
             [
              0.7777777777777778,
              "#fb9f3a"
             ],
             [
              0.8888888888888888,
              "#fdca26"
             ],
             [
              1,
              "#f0f921"
             ]
            ],
            "type": "contour"
           }
          ],
          "contourcarpet": [
           {
            "colorbar": {
             "outlinewidth": 0,
             "ticks": ""
            },
            "type": "contourcarpet"
           }
          ],
          "heatmap": [
           {
            "colorbar": {
             "outlinewidth": 0,
             "ticks": ""
            },
            "colorscale": [
             [
              0,
              "#0d0887"
             ],
             [
              0.1111111111111111,
              "#46039f"
             ],
             [
              0.2222222222222222,
              "#7201a8"
             ],
             [
              0.3333333333333333,
              "#9c179e"
             ],
             [
              0.4444444444444444,
              "#bd3786"
             ],
             [
              0.5555555555555556,
              "#d8576b"
             ],
             [
              0.6666666666666666,
              "#ed7953"
             ],
             [
              0.7777777777777778,
              "#fb9f3a"
             ],
             [
              0.8888888888888888,
              "#fdca26"
             ],
             [
              1,
              "#f0f921"
             ]
            ],
            "type": "heatmap"
           }
          ],
          "heatmapgl": [
           {
            "colorbar": {
             "outlinewidth": 0,
             "ticks": ""
            },
            "colorscale": [
             [
              0,
              "#0d0887"
             ],
             [
              0.1111111111111111,
              "#46039f"
             ],
             [
              0.2222222222222222,
              "#7201a8"
             ],
             [
              0.3333333333333333,
              "#9c179e"
             ],
             [
              0.4444444444444444,
              "#bd3786"
             ],
             [
              0.5555555555555556,
              "#d8576b"
             ],
             [
              0.6666666666666666,
              "#ed7953"
             ],
             [
              0.7777777777777778,
              "#fb9f3a"
             ],
             [
              0.8888888888888888,
              "#fdca26"
             ],
             [
              1,
              "#f0f921"
             ]
            ],
            "type": "heatmapgl"
           }
          ],
          "histogram": [
           {
            "marker": {
             "pattern": {
              "fillmode": "overlay",
              "size": 10,
              "solidity": 0.2
             }
            },
            "type": "histogram"
           }
          ],
          "histogram2d": [
           {
            "colorbar": {
             "outlinewidth": 0,
             "ticks": ""
            },
            "colorscale": [
             [
              0,
              "#0d0887"
             ],
             [
              0.1111111111111111,
              "#46039f"
             ],
             [
              0.2222222222222222,
              "#7201a8"
             ],
             [
              0.3333333333333333,
              "#9c179e"
             ],
             [
              0.4444444444444444,
              "#bd3786"
             ],
             [
              0.5555555555555556,
              "#d8576b"
             ],
             [
              0.6666666666666666,
              "#ed7953"
             ],
             [
              0.7777777777777778,
              "#fb9f3a"
             ],
             [
              0.8888888888888888,
              "#fdca26"
             ],
             [
              1,
              "#f0f921"
             ]
            ],
            "type": "histogram2d"
           }
          ],
          "histogram2dcontour": [
           {
            "colorbar": {
             "outlinewidth": 0,
             "ticks": ""
            },
            "colorscale": [
             [
              0,
              "#0d0887"
             ],
             [
              0.1111111111111111,
              "#46039f"
             ],
             [
              0.2222222222222222,
              "#7201a8"
             ],
             [
              0.3333333333333333,
              "#9c179e"
             ],
             [
              0.4444444444444444,
              "#bd3786"
             ],
             [
              0.5555555555555556,
              "#d8576b"
             ],
             [
              0.6666666666666666,
              "#ed7953"
             ],
             [
              0.7777777777777778,
              "#fb9f3a"
             ],
             [
              0.8888888888888888,
              "#fdca26"
             ],
             [
              1,
              "#f0f921"
             ]
            ],
            "type": "histogram2dcontour"
           }
          ],
          "mesh3d": [
           {
            "colorbar": {
             "outlinewidth": 0,
             "ticks": ""
            },
            "type": "mesh3d"
           }
          ],
          "parcoords": [
           {
            "line": {
             "colorbar": {
              "outlinewidth": 0,
              "ticks": ""
             }
            },
            "type": "parcoords"
           }
          ],
          "pie": [
           {
            "automargin": true,
            "type": "pie"
           }
          ],
          "scatter": [
           {
            "fillpattern": {
             "fillmode": "overlay",
             "size": 10,
             "solidity": 0.2
            },
            "type": "scatter"
           }
          ],
          "scatter3d": [
           {
            "line": {
             "colorbar": {
              "outlinewidth": 0,
              "ticks": ""
             }
            },
            "marker": {
             "colorbar": {
              "outlinewidth": 0,
              "ticks": ""
             }
            },
            "type": "scatter3d"
           }
          ],
          "scattercarpet": [
           {
            "marker": {
             "colorbar": {
              "outlinewidth": 0,
              "ticks": ""
             }
            },
            "type": "scattercarpet"
           }
          ],
          "scattergeo": [
           {
            "marker": {
             "colorbar": {
              "outlinewidth": 0,
              "ticks": ""
             }
            },
            "type": "scattergeo"
           }
          ],
          "scattergl": [
           {
            "marker": {
             "colorbar": {
              "outlinewidth": 0,
              "ticks": ""
             }
            },
            "type": "scattergl"
           }
          ],
          "scattermapbox": [
           {
            "marker": {
             "colorbar": {
              "outlinewidth": 0,
              "ticks": ""
             }
            },
            "type": "scattermapbox"
           }
          ],
          "scatterpolar": [
           {
            "marker": {
             "colorbar": {
              "outlinewidth": 0,
              "ticks": ""
             }
            },
            "type": "scatterpolar"
           }
          ],
          "scatterpolargl": [
           {
            "marker": {
             "colorbar": {
              "outlinewidth": 0,
              "ticks": ""
             }
            },
            "type": "scatterpolargl"
           }
          ],
          "scatterternary": [
           {
            "marker": {
             "colorbar": {
              "outlinewidth": 0,
              "ticks": ""
             }
            },
            "type": "scatterternary"
           }
          ],
          "surface": [
           {
            "colorbar": {
             "outlinewidth": 0,
             "ticks": ""
            },
            "colorscale": [
             [
              0,
              "#0d0887"
             ],
             [
              0.1111111111111111,
              "#46039f"
             ],
             [
              0.2222222222222222,
              "#7201a8"
             ],
             [
              0.3333333333333333,
              "#9c179e"
             ],
             [
              0.4444444444444444,
              "#bd3786"
             ],
             [
              0.5555555555555556,
              "#d8576b"
             ],
             [
              0.6666666666666666,
              "#ed7953"
             ],
             [
              0.7777777777777778,
              "#fb9f3a"
             ],
             [
              0.8888888888888888,
              "#fdca26"
             ],
             [
              1,
              "#f0f921"
             ]
            ],
            "type": "surface"
           }
          ],
          "table": [
           {
            "cells": {
             "fill": {
              "color": "#EBF0F8"
             },
             "line": {
              "color": "white"
             }
            },
            "header": {
             "fill": {
              "color": "#C8D4E3"
             },
             "line": {
              "color": "white"
             }
            },
            "type": "table"
           }
          ]
         },
         "layout": {
          "annotationdefaults": {
           "arrowcolor": "#2a3f5f",
           "arrowhead": 0,
           "arrowwidth": 1
          },
          "autotypenumbers": "strict",
          "coloraxis": {
           "colorbar": {
            "outlinewidth": 0,
            "ticks": ""
           }
          },
          "colorscale": {
           "diverging": [
            [
             0,
             "#8e0152"
            ],
            [
             0.1,
             "#c51b7d"
            ],
            [
             0.2,
             "#de77ae"
            ],
            [
             0.3,
             "#f1b6da"
            ],
            [
             0.4,
             "#fde0ef"
            ],
            [
             0.5,
             "#f7f7f7"
            ],
            [
             0.6,
             "#e6f5d0"
            ],
            [
             0.7,
             "#b8e186"
            ],
            [
             0.8,
             "#7fbc41"
            ],
            [
             0.9,
             "#4d9221"
            ],
            [
             1,
             "#276419"
            ]
           ],
           "sequential": [
            [
             0,
             "#0d0887"
            ],
            [
             0.1111111111111111,
             "#46039f"
            ],
            [
             0.2222222222222222,
             "#7201a8"
            ],
            [
             0.3333333333333333,
             "#9c179e"
            ],
            [
             0.4444444444444444,
             "#bd3786"
            ],
            [
             0.5555555555555556,
             "#d8576b"
            ],
            [
             0.6666666666666666,
             "#ed7953"
            ],
            [
             0.7777777777777778,
             "#fb9f3a"
            ],
            [
             0.8888888888888888,
             "#fdca26"
            ],
            [
             1,
             "#f0f921"
            ]
           ],
           "sequentialminus": [
            [
             0,
             "#0d0887"
            ],
            [
             0.1111111111111111,
             "#46039f"
            ],
            [
             0.2222222222222222,
             "#7201a8"
            ],
            [
             0.3333333333333333,
             "#9c179e"
            ],
            [
             0.4444444444444444,
             "#bd3786"
            ],
            [
             0.5555555555555556,
             "#d8576b"
            ],
            [
             0.6666666666666666,
             "#ed7953"
            ],
            [
             0.7777777777777778,
             "#fb9f3a"
            ],
            [
             0.8888888888888888,
             "#fdca26"
            ],
            [
             1,
             "#f0f921"
            ]
           ]
          },
          "colorway": [
           "#636efa",
           "#EF553B",
           "#00cc96",
           "#ab63fa",
           "#FFA15A",
           "#19d3f3",
           "#FF6692",
           "#B6E880",
           "#FF97FF",
           "#FECB52"
          ],
          "font": {
           "color": "#2a3f5f"
          },
          "geo": {
           "bgcolor": "white",
           "lakecolor": "white",
           "landcolor": "#E5ECF6",
           "showlakes": true,
           "showland": true,
           "subunitcolor": "white"
          },
          "hoverlabel": {
           "align": "left"
          },
          "hovermode": "closest",
          "mapbox": {
           "style": "light"
          },
          "paper_bgcolor": "white",
          "plot_bgcolor": "#E5ECF6",
          "polar": {
           "angularaxis": {
            "gridcolor": "white",
            "linecolor": "white",
            "ticks": ""
           },
           "bgcolor": "#E5ECF6",
           "radialaxis": {
            "gridcolor": "white",
            "linecolor": "white",
            "ticks": ""
           }
          },
          "scene": {
           "xaxis": {
            "backgroundcolor": "#E5ECF6",
            "gridcolor": "white",
            "gridwidth": 2,
            "linecolor": "white",
            "showbackground": true,
            "ticks": "",
            "zerolinecolor": "white"
           },
           "yaxis": {
            "backgroundcolor": "#E5ECF6",
            "gridcolor": "white",
            "gridwidth": 2,
            "linecolor": "white",
            "showbackground": true,
            "ticks": "",
            "zerolinecolor": "white"
           },
           "zaxis": {
            "backgroundcolor": "#E5ECF6",
            "gridcolor": "white",
            "gridwidth": 2,
            "linecolor": "white",
            "showbackground": true,
            "ticks": "",
            "zerolinecolor": "white"
           }
          },
          "shapedefaults": {
           "line": {
            "color": "#2a3f5f"
           }
          },
          "ternary": {
           "aaxis": {
            "gridcolor": "white",
            "linecolor": "white",
            "ticks": ""
           },
           "baxis": {
            "gridcolor": "white",
            "linecolor": "white",
            "ticks": ""
           },
           "bgcolor": "#E5ECF6",
           "caxis": {
            "gridcolor": "white",
            "linecolor": "white",
            "ticks": ""
           }
          },
          "title": {
           "x": 0.05
          },
          "xaxis": {
           "automargin": true,
           "gridcolor": "white",
           "linecolor": "white",
           "ticks": "",
           "title": {
            "standoff": 15
           },
           "zerolinecolor": "white",
           "zerolinewidth": 2
          },
          "yaxis": {
           "automargin": true,
           "gridcolor": "white",
           "linecolor": "white",
           "ticks": "",
           "title": {
            "standoff": 15
           },
           "zerolinecolor": "white",
           "zerolinewidth": 2
          }
         }
        },
        "title": {
         "text": "K-Means Clustering"
        },
        "xaxis": {
         "anchor": "y",
         "domain": [
          0,
          1
         ],
         "title": {
          "text": "PC1"
         }
        },
        "yaxis": {
         "anchor": "x",
         "domain": [
          0,
          1
         ],
         "title": {
          "text": "PC2"
         }
        }
       }
      }
     },
     "metadata": {},
     "output_type": "display_data"
    }
   ],
   "source": [
    "kmeans = KMeans(n_clusters=4, n_init=16, algorithm='lloyd').fit(reduced)\n",
    "fig = px.scatter(reduced, x=0, y=1, color=kmeans.labels_, title='K-Means Clustering')\n",
    "fig.update_layout(\n",
    "    xaxis_title=\"PC1\",\n",
    "    yaxis_title=\"PC2\"\n",
    ")\n",
    "fig.show()"
   ]
  },
  {
   "cell_type": "code",
   "execution_count": 471,
   "metadata": {},
   "outputs": [
    {
     "data": {
      "application/vnd.plotly.v1+json": {
       "config": {
        "plotlyServerURL": "https://plot.ly"
       },
       "data": [
        {
         "hovertemplate": "PC 1=%{x}<br>PC 2=%{y}<br>PC 3=%{z}<br>color=%{marker.color}<extra></extra>",
         "legendgroup": "",
         "marker": {
          "color": [
           2,
           0,
           0,
           3,
           2,
           0,
           1,
           0,
           0,
           0,
           3,
           0,
           3,
           0,
           3,
           1,
           3,
           0,
           0,
           1,
           1,
           3,
           2,
           3,
           0,
           2,
           1,
           1,
           2,
           1,
           2,
           3,
           2,
           0,
           3,
           0,
           0,
           2,
           3,
           2,
           1,
           3,
           2,
           0,
           2,
           0,
           1,
           0,
           0,
           1,
           0,
           3,
           1,
           3,
           2,
           2,
           0,
           2,
           0,
           3,
           0,
           0,
           2,
           1,
           2,
           1,
           1,
           2,
           3,
           2,
           0,
           1,
           3,
           3,
           0,
           0,
           0,
           0,
           0,
           0,
           0,
           1,
           1,
           2,
           0,
           0,
           0,
           0,
           2,
           1,
           1,
           2,
           1,
           1,
           2,
           1,
           2,
           0,
           3,
           0,
           1,
           1,
           2,
           0,
           1,
           2,
           0,
           1,
           3,
           0,
           2,
           2,
           1,
           0,
           3,
           2,
           0,
           1,
           3,
           2,
           1,
           1,
           3,
           3,
           0,
           0,
           2,
           0,
           2,
           2,
           1,
           0,
           1,
           1,
           2,
           2,
           0,
           1,
           3,
           2,
           1,
           1,
           0,
           2,
           2,
           1,
           3,
           1,
           0,
           2,
           2,
           1,
           1,
           0,
           2,
           0,
           1,
           2,
           1,
           1,
           0,
           0,
           1,
           1,
           2,
           2,
           1,
           1,
           1,
           2,
           0,
           3,
           2,
           1,
           3,
           1,
           0,
           3,
           2,
           1,
           2,
           3,
           1,
           0,
           2,
           3,
           2,
           1,
           1,
           3,
           3,
           3,
           1,
           0,
           1,
           0,
           1,
           3,
           3,
           2,
           0,
           2,
           2,
           3,
           2,
           0,
           3,
           3,
           3,
           2,
           3,
           1,
           3,
           3,
           0,
           0,
           2,
           3,
           2,
           2,
           1,
           2,
           0,
           3,
           1,
           1,
           0,
           1,
           3,
           3,
           2,
           1,
           2,
           0,
           0,
           3,
           2,
           1,
           2,
           2,
           0,
           1
          ],
          "coloraxis": "coloraxis",
          "symbol": "circle"
         },
         "mode": "markers",
         "name": "",
         "scene": "scene",
         "showlegend": false,
         "type": "scatter3d",
         "x": [
          -0.4035197110792526,
          -0.8610515146664975,
          -2.0962651048872485,
          1.9997408677594608,
          -1.6519878430792225,
          -1.9545691494784059,
          2.1309370750796734,
          -1.0219610019042458,
          -1.1266573484388636,
          0.3303300968961071,
          5.184941055357711,
          -0.9646024401340689,
          0.4180429273308522,
          -2.0547190652829044,
          0.4186387795079518,
          0.44286046991893185,
          1.617050069378218,
          -1.050564896130068,
          -3.017774182560766,
          2.6415453580823587,
          0.5754902071177007,
          3.5026348848062794,
          -0.9146681686169227,
          3.0797102480447416,
          -0.9070459274708026,
          -0.6001033773819927,
          0.30446381238842823,
          0.619450990131671,
          -1.5716307244322039,
          0.5764109345137161,
          -0.5325451989218966,
          2.031667992638542,
          -1.101307577072503,
          -2.0677209814107287,
          -0.0885549857246776,
          -1.9191675726349444,
          -1.350967222827509,
          -1.4140328627000156,
          2.2225116936290763,
          -1.6621637616813998,
          -0.06880783692661303,
          0.6058913169149487,
          -0.5869993496633087,
          -1.6817765851080368,
          -2.9622362705336873,
          -2.47397408000138,
          0.5558142062705888,
          -2.977105529357065,
          -2.777813803625116,
          2.271547008533007,
          -2.2343114018246406,
          0.5509572184992872,
          2.165529164937689,
          0.1511905787965026,
          -0.2760423702983569,
          -1.4432592219352773,
          -1.0598625857868145,
          -1.036528272133523,
          -1.2207358813266007,
          3.030026411132474,
          -1.0668163286712324,
          -2.2095258715399626,
          -0.5596420657114873,
          1.5509939084821236,
          -2.8913146424392804,
          1.3774361445420469,
          0.19345467543190686,
          -2.7756621827738024,
          5.436734458651105,
          -1.1220006824541686,
          -1.8307468984381903,
          1.1603671096261294,
          0.9592393129920683,
          0.22447451254388912,
          -1.4973160432082464,
          -3.0749765595194263,
          -0.5717260220314153,
          -0.7320358870411411,
          -3.460183342911067,
          -2.2044824005737613,
          -2.670923999652477,
          0.13225088779613617,
          0.31325281606744554,
          -0.3844406995658939,
          -2.1945747038840135,
          -1.0567359503970646,
          -1.0685260544234267,
          -0.9284655581451182,
          -2.0316323933218157,
          2.579985718214705,
          -0.11960214515971822,
          -0.6020927058655487,
          -0.3154901302704853,
          1.1013345844751203,
          0.4897205348607495,
          1.9176247072610464,
          -0.6087566719302001,
          -1.4237789731451136,
          2.166297881077211,
          -0.528892344113953,
          -0.013878585588584704,
          -0.3042820589603681,
          -1.6341946427294676,
          -1.3042616081060465,
          0.801377187318106,
          -1.2334781919092608,
          -1.1493338443293606,
          1.4064326781998573,
          3.0354771982866993,
          -1.2622108986334197,
          -0.444901489962224,
          -1.0697795420919105,
          4.157624339056384,
          -1.451866188381867,
          1.5746212578628633,
          -0.23885777717292,
          -0.42227923064208017,
          0.18387267074551383,
          5.948929398821794,
          -0.3440531805052412,
          0.28023997821793,
          -0.3009181665762277,
          2.15652347927129,
          1.8348348159425507,
          -2.169061717246106,
          -1.4933758420957064,
          0.7576772886658717,
          -1.1484077888713446,
          1.801070092378493,
          -0.13638113807395602,
          -0.084173066537126,
          -1.5267759251112893,
          0.2984541989402523,
          0.40735359351961115,
          -0.9636305070510612,
          -0.7425393210147798,
          -1.1291549681703583,
          2.092305403607786,
          2.4413949740371246,
          -0.6510202546239706,
          1.7017759654058158,
          1.3140373550226863,
          -1.3558400560693007,
          -1.0280772497160888,
          -0.08736110964352146,
          1.7008145679440203,
          2.943456613266617,
          0.9177163090006825,
          -1.9410968263340092,
          -0.7494124335872446,
          -1.9955691275585012,
          0.7020667931753309,
          0.8809708282658317,
          -2.2094326916993623,
          -1.7628624656352154,
          -1.586814661592693,
          0.8878888239529911,
          -1.009394606172429,
          0.4237999941471293,
          -0.17959807661713403,
          -1.828794963674512,
          -0.9685703256028358,
          -0.44378980360505316,
          -0.14469631050389184,
          -1.7425718873239973,
          0.6962004081314801,
          1.512274461628085,
          -0.41983847996178064,
          0.18147734081408445,
          -1.04119478185248,
          -1.2717057349419516,
          2.09658654005686,
          -0.535671496256606,
          -0.21931785328009817,
          0.6507370498222977,
          1.9791036171752519,
          -1.3531741210669,
          0.3777701197528586,
          -1.2752851437362749,
          1.0148640866371073,
          0.16235240569595527,
          2.658402209341985,
          0.011151209940870037,
          -2.4188321199528056,
          -0.12943436460043412,
          1.7665171398461061,
          -0.5215580419181086,
          0.06212438528985614,
          1.1712468514794927,
          5.718400350610163,
          0.8311441909238094,
          1.1568813453002862,
          1.996270889668836,
          -2.177063224652023,
          1.065425429847666,
          -0.07754500248140009,
          -0.7025002496383365,
          0.8378650482891334,
          1.8308596028762656,
          -0.22933316007175825,
          -1.7653904778971512,
          -0.5302521665473374,
          0.10448936602332277,
          0.08218742791440924,
          -1.4562853594331353,
          -1.7579909134495175,
          3.461938546915636,
          1.9730388826813778,
          0.3558270730768094,
          0.7334094572319403,
          1.4077622042053966,
          -0.17803972652063185,
          1.3661850951349523,
          1.5869859075860309,
          -0.10787300607826283,
          -2.80575641295205,
          0.038686922715916755,
          4.178026072822426,
          -0.9565288874664887,
          0.7944743959064389,
          2.1447378779035846,
          -0.2972599525695758,
          -0.6113841306347192,
          0.7999884464357827,
          0.23448460769006246,
          1.7427102536678671,
          -0.3577551411398742,
          0.594122451570228,
          0.8230278699191221,
          3.6726781908995974,
          0.24884376787046605,
          1.7030359256270897,
          -1.5579942795284965,
          -0.27196000299647616,
          -1.3720427032250662,
          2.8527214543588926,
          -1.0943440009679912,
          1.9171347227852544,
          -0.446383218959924,
          -1.5768822518219374,
          -0.539078957404231,
          1.096310929137974
         ],
         "y": [
          -0.9936292529370561,
          -0.6575551844879168,
          -0.9495584624669886,
          2.063689141027822,
          -1.6013327668680508,
          -0.24559923138969428,
          -0.3984803643781718,
          -0.6042680737305525,
          0.5645126814062454,
          -2.207979683106503,
          -3.5721706071978847,
          0.2515876329671503,
          0.4631073034497998,
          0.5448914800281519,
          1.8979435487485794,
          -0.6816175860800743,
          0.15200833915482684,
          3.6010311572647375,
          0.9706089687665564,
          0.8473738203220096,
          -1.296526277844481,
          -0.6828539838058464,
          -1.1980195543403578,
          -1.6011306914882706,
          1.1934354145910253,
          -0.09199143761440913,
          0.9537662172236057,
          0.9247057320182789,
          -0.4973715377916448,
          0.5379878588982868,
          -2.3198930797946065,
          1.8647874329240877,
          -1.9854942764313437,
          0.25892816888610554,
          0.3281921475178356,
          0.9252355924730559,
          1.0594827034529768,
          0.34162874225936446,
          -0.2299815764879254,
          -0.6762096811507635,
          1.2395114506204485,
          0.9085540264927877,
          -0.971585396165468,
          1.152789404215914,
          -3.9110178685306827,
          0.6868712302914161,
          -0.4520116148543725,
          3.103761737731746,
          -0.5657317158801219,
          -0.30691098596212596,
          -0.37691992238091176,
          -0.05431092605839779,
          0.9706975772183606,
          1.123328803172692,
          -2.73221727076886,
          -0.5896310661943254,
          0.5624622673678766,
          -0.6882382689609823,
          -2.3096881417235,
          1.592581190699403,
          1.0310792307756484,
          -0.4449364824702547,
          -0.024744123696018104,
          4.8670960152348535,
          -1.8202327751960086,
          -0.48451622110674203,
          3.546884349468825,
          -0.7494220689505959,
          -0.4644766791960539,
          -0.4207554648415225,
          1.334299482142079,
          -0.6778528911552743,
          0.15641769305867206,
          -0.270373624336474,
          3.257900594327708,
          -0.1492871723354133,
          1.4522328786796705,
          0.46092786450845824,
          -0.27088874001765983,
          0.45628717190661505,
          -1.6535493900463567,
          -0.5505756919284204,
          0.6196166104632398,
          -0.8399902279849096,
          -1.0998998239218232,
          0.2685433367519346,
          -0.218158557316712,
          -0.24886668722348473,
          -1.7886334681744254,
          0.8760293380901341,
          0.3473073785213635,
          -0.6683741543966747,
          1.7900095783490377,
          0.31026118236292166,
          -2.5910397260184705,
          0.24762221211162683,
          -0.4260836224228456,
          0.7545936212994483,
          -3.3382889476354074,
          2.4707996663521956,
          2.5937620300289175,
          0.4607065997401307,
          -0.6928439018073835,
          1.1998223089495712,
          0.9116634022915822,
          -0.7189529275755652,
          0.151337106688453,
          -0.6771465037088022,
          -0.9571237244351616,
          0.16824209695467376,
          -0.5006158252135177,
          -0.920677086275904,
          1.0801904004597056,
          2.9333224919394656,
          -0.3034556940710838,
          -3.0387736501173728,
          -0.03760108052664871,
          0.14429423166580826,
          -0.9488829851312987,
          -1.2860730698364704,
          -0.5550160736446519,
          0.7817117715472669,
          -2.753865879677905,
          1.4260514181914488,
          1.0534714063503097,
          0.8415459069753632,
          -1.004788998070873,
          0.48089839003796125,
          -3.06400661652335,
          -1.8269415646889824,
          1.2111136615253284,
          0.6282743226577976,
          -0.7140189189759318,
          -0.23596264151865956,
          -0.492139429019139,
          -0.9061736192221951,
          0.13652846583941908,
          -1.858833595289075,
          1.704454356886161,
          -0.5651931416995297,
          0.06401130066375586,
          2.2524244437614223,
          -1.173846404898146,
          -0.7175458945303117,
          -0.5156304895691658,
          1.0104760035357623,
          0.5857824430558851,
          1.6895466186015813,
          0.9177811398366712,
          -1.141165996971193,
          -0.5478778551970743,
          0.2571136476036755,
          0.3526484332396007,
          0.24766003295747419,
          -1.2568796772123807,
          1.7712257110155187,
          0.7605996592586014,
          -2.830527159429926,
          0.20503558436545444,
          1.3908625922313314,
          -0.00997911270592149,
          0.5069732035184916,
          0.7378004270503401,
          0.8903630433795523,
          -2.412551040304593,
          -1.3342981146502997,
          -0.2800072545769341,
          1.1324937995922038,
          0.5426674016240198,
          -1.1886772692483791,
          0.2681500951944594,
          -1.6273400547139019,
          -2.1137472960205477,
          1.2547044505608047,
          1.2696853827071595,
          0.08754561604208025,
          1.7666295469506956,
          -1.1277119492932395,
          -0.5398969146493379,
          0.5479435781401872,
          -1.055137312887316,
          -1.1455017585055103,
          2.1415789542278088,
          1.1268739689432494,
          -1.1006427215198342,
          2.98383979137824,
          -0.6325636361880836,
          1.3327191740226854,
          -0.5538825217446468,
          -1.7733301111726607,
          1.778533620126946,
          -1.8716591462027254,
          2.161452153529318,
          0.8655260097672361,
          0.9040286982156498,
          1.228260339190104,
          0.776641806121113,
          -0.12165011767061693,
          0.6786262146077268,
          -1.4144071514330963,
          2.4169483506911273,
          -1.0809051336717166,
          -1.375948837024219,
          0.4225083767730204,
          -1.351271269351763,
          -0.6233965309436381,
          -2.36671062565624,
          2.190666218554216,
          -0.15102430690637486,
          -3.04620828143891,
          1.9665704509708157,
          -0.02287844433129144,
          -0.10068918825049783,
          -0.963812008882861,
          0.38441392006689296,
          0.11195906586708372,
          -0.4933859809016778,
          -0.30915690283014596,
          -2.1604380480561907,
          -3.24147129395807,
          0.7231805150926863,
          -1.125242988540701,
          1.5027821085622037,
          1.211292276028239,
          -0.08035825785783399,
          -1.1687658131114393,
          1.6658747919936456,
          0.3911105220712494,
          -0.048612174872637616,
          1.0079750984555298,
          -2.2398071979870173,
          1.55634222461599,
          -1.7437455254940852,
          1.706963825674601,
          0.1779797180954671,
          2.142929526686365,
          0.25391529863574985,
          3.2062729520721707,
          -0.9716780374636994,
          -0.681071523885421,
          0.2355195015200854,
          -0.4611746847832807
         ],
         "z": [
          -0.5187325126328683,
          0.9091179834666796,
          0.7117230967584371,
          0.9170873208203233,
          -0.6934504983428048,
          0.1725721220008174,
          -0.9676453583327552,
          2.4485755813133805,
          -0.28701137637154034,
          4.339600661466578,
          0.3704259042013798,
          0.7176861637100875,
          -0.8980412712037449,
          -0.5055850604679712,
          0.39772247899340096,
          -0.005360635673488335,
          0.6381162482529077,
          0.4772653252979984,
          0.7143983005927612,
          -1.3963431769863097,
          -1.5760497480909774,
          0.5068546008935687,
          0.39606257845824716,
          -0.35391632169078285,
          0.039771657079488335,
          -1.1508379899089023,
          -0.6837875794876701,
          -2.05225716407029,
          -1.6017228962810057,
          -1.1579049822393983,
          -2.163463228802279,
          -1.7294668555292825,
          0.6444939502960079,
          -0.06679030562067016,
          0.24550101719291698,
          3.406527367100358,
          0.06456818376927013,
          -1.5014613236216174,
          0.2248928331904884,
          -0.8383445759496596,
          -0.08465054376006718,
          1.021334540213088,
          -0.3094703219553193,
          0.058642563091314256,
          0.5318187121997667,
          0.6407560918967576,
          0.152657716175812,
          -0.7280022616345,
          1.049339882591873,
          -2.221481883747731,
          0.4862845802224963,
          2.5818662763790576,
          -1.5859582986095973,
          0.518421064783613,
          -0.05219626140114379,
          0.1720250575465968,
          0.7557814033192523,
          -0.10030903427205387,
          3.5040775110047715,
          0.5180544747099741,
          0.2301149569874836,
          0.9424566826430284,
          -0.18851027701309522,
          0.33400534258423736,
          -0.3032023725106067,
          -0.000022951415830564068,
          -1.0014332388376534,
          -1.1306330637561484,
          1.7336395905518407,
          -1.7282826176910036,
          0.8429821288166695,
          0.6611522243119369,
          2.229685352793971,
          1.9202511544839542,
          0.3081626065172246,
          2.5671815127807243,
          2.1046819349399373,
          0.2249626284745767,
          2.4473130129000387,
          1.4958608011657462,
          1.1877669734074503,
          0.7975803511989189,
          -0.09201911012398269,
          -1.8635333189895,
          1.695505323588735,
          -0.3097573898764428,
          2.0979110530035605,
          0.4618193295095946,
          0.7542098279277448,
          -0.6002609911811942,
          -0.44610576647530825,
          -0.6703009804644868,
          -0.9292319799523264,
          0.011115457644796371,
          0.02508135085319006,
          -0.6978214008772503,
          -0.5739705794687116,
          -0.2381109065198907,
          2.4260639675036555,
          0.8494972472431125,
          -2.0381621078836862,
          -0.08266054398782428,
          -1.6951045306464125,
          -0.41221451592222597,
          -1.261565792339511,
          -1.382213863780479,
          1.0480332964798356,
          -0.6559381194178042,
          -0.16333831301130555,
          0.12030500894265976,
          -0.9628243240410947,
          -0.19221896803751448,
          1.1465712226404896,
          -0.7932179616267317,
          -0.8505956726975379,
          1.28223588112397,
          1.4316312351767406,
          0.18964467633038057,
          1.8492292832899149,
          -1.7953739583289423,
          -0.10977896562067103,
          -1.0331546494330968,
          0.007439173058542426,
          1.2108820389188817,
          -1.3917099703210085,
          0.6087941504794683,
          -0.7069045860504635,
          -0.8013193391028988,
          -1.54123538467984,
          0.3265550649708231,
          -0.7419760535050784,
          -0.8071419931523139,
          -1.6149106486104352,
          -0.48154567283410477,
          -0.04548469971325557,
          -0.09001310091463259,
          0.3104606002446969,
          -0.47616243415486537,
          0.19853783942531947,
          0.2977143915864261,
          -1.855739102293838,
          -1.5271594174323895,
          0.9240755611827767,
          -0.46865251259783175,
          -1.8163092453235228,
          -0.15067934561541563,
          -1.0727506320916296,
          -1.5654255684181315,
          -0.34207213481406545,
          -0.6872516516498743,
          -1.0508197434349515,
          -0.9780607974670134,
          -0.18898484327158133,
          -0.039136234036710044,
          -1.8628539460682927,
          -0.30057112230623806,
          0.3899872142257917,
          1.3263612429223863,
          -0.6964511719422645,
          -0.5939936437154617,
          0.0903522943658099,
          0.07313297205322962,
          -2.151088823078587,
          -1.0401634969002764,
          -0.8603926733532828,
          -0.6881122828925521,
          0.6896226103741924,
          -1.5544366021591884,
          1.0477898926043308,
          -1.0561956030166726,
          2.539213554154586,
          -0.465994066682114,
          -0.9670381137133083,
          -0.4972657008575012,
          0.5784089436939158,
          0.010498788076228699,
          0.7262602671326447,
          1.2172298208742065,
          -1.60247555904266,
          0.5247299774742716,
          -0.4885362098309171,
          -0.6131388231037387,
          0.1802018180722031,
          0.4196196952105734,
          -1.2768260786952084,
          0.8887046884283774,
          -2.1822576997033347,
          -0.42829872813287434,
          -0.9872993590158932,
          2.295273302975575,
          -0.09098096064988656,
          -0.9478298959357384,
          0.48921621980078556,
          0.3262043587401029,
          -0.3898662625659327,
          0.09651596127270934,
          -1.0552181211276468,
          0.369488796479088,
          0.02046408590172432,
          -0.3879178362630592,
          -0.003432685231879324,
          -0.9774206063142575,
          -2.7099452167000377,
          1.6208799163771643,
          -1.1004514362200706,
          1.6683747805218783,
          -0.029135800385993105,
          0.2504456136184933,
          0.5647969912492561,
          -1.7711136431609815,
          -0.1382815350001969,
          -1.293865182415434,
          0.9041569191639804,
          1.5977495168119773,
          2.42200438322949,
          0.1836099089609865,
          -0.48375545501322964,
          -0.10236885979584111,
          0.618129573336138,
          1.1471885422000987,
          -0.15958485382422855,
          0.6237452968883056,
          0.5960253075234013,
          0.1448754078320027,
          0.3085228778444357,
          -1.2132681466875959,
          3.3745900173680576,
          -2.340937465647977,
          2.1976593499606416,
          1.2587398644734884,
          -0.700771437451116,
          1.7181274929815347,
          -1.248867266454019,
          1.5087281010307605,
          1.670709550736754,
          0.7899682569842528,
          -1.636783112421094,
          0.18397592610762326,
          0.15947424563613996,
          -0.301052599672421,
          -0.07960209536309082,
          -0.09780184173146927
         ]
        }
       ],
       "layout": {
        "coloraxis": {
         "colorbar": {
          "title": {
           "text": "color"
          }
         },
         "colorscale": [
          [
           0,
           "#0d0887"
          ],
          [
           0.1111111111111111,
           "#46039f"
          ],
          [
           0.2222222222222222,
           "#7201a8"
          ],
          [
           0.3333333333333333,
           "#9c179e"
          ],
          [
           0.4444444444444444,
           "#bd3786"
          ],
          [
           0.5555555555555556,
           "#d8576b"
          ],
          [
           0.6666666666666666,
           "#ed7953"
          ],
          [
           0.7777777777777778,
           "#fb9f3a"
          ],
          [
           0.8888888888888888,
           "#fdca26"
          ],
          [
           1,
           "#f0f921"
          ]
         ]
        },
        "legend": {
         "tracegroupgap": 0
        },
        "scene": {
         "domain": {
          "x": [
           0,
           1
          ],
          "y": [
           0,
           1
          ]
         },
         "xaxis": {
          "title": {
           "text": "PC 1"
          }
         },
         "yaxis": {
          "title": {
           "text": "PC 2"
          }
         },
         "zaxis": {
          "title": {
           "text": "PC 3"
          }
         }
        },
        "template": {
         "data": {
          "bar": [
           {
            "error_x": {
             "color": "#2a3f5f"
            },
            "error_y": {
             "color": "#2a3f5f"
            },
            "marker": {
             "line": {
              "color": "#E5ECF6",
              "width": 0.5
             },
             "pattern": {
              "fillmode": "overlay",
              "size": 10,
              "solidity": 0.2
             }
            },
            "type": "bar"
           }
          ],
          "barpolar": [
           {
            "marker": {
             "line": {
              "color": "#E5ECF6",
              "width": 0.5
             },
             "pattern": {
              "fillmode": "overlay",
              "size": 10,
              "solidity": 0.2
             }
            },
            "type": "barpolar"
           }
          ],
          "carpet": [
           {
            "aaxis": {
             "endlinecolor": "#2a3f5f",
             "gridcolor": "white",
             "linecolor": "white",
             "minorgridcolor": "white",
             "startlinecolor": "#2a3f5f"
            },
            "baxis": {
             "endlinecolor": "#2a3f5f",
             "gridcolor": "white",
             "linecolor": "white",
             "minorgridcolor": "white",
             "startlinecolor": "#2a3f5f"
            },
            "type": "carpet"
           }
          ],
          "choropleth": [
           {
            "colorbar": {
             "outlinewidth": 0,
             "ticks": ""
            },
            "type": "choropleth"
           }
          ],
          "contour": [
           {
            "colorbar": {
             "outlinewidth": 0,
             "ticks": ""
            },
            "colorscale": [
             [
              0,
              "#0d0887"
             ],
             [
              0.1111111111111111,
              "#46039f"
             ],
             [
              0.2222222222222222,
              "#7201a8"
             ],
             [
              0.3333333333333333,
              "#9c179e"
             ],
             [
              0.4444444444444444,
              "#bd3786"
             ],
             [
              0.5555555555555556,
              "#d8576b"
             ],
             [
              0.6666666666666666,
              "#ed7953"
             ],
             [
              0.7777777777777778,
              "#fb9f3a"
             ],
             [
              0.8888888888888888,
              "#fdca26"
             ],
             [
              1,
              "#f0f921"
             ]
            ],
            "type": "contour"
           }
          ],
          "contourcarpet": [
           {
            "colorbar": {
             "outlinewidth": 0,
             "ticks": ""
            },
            "type": "contourcarpet"
           }
          ],
          "heatmap": [
           {
            "colorbar": {
             "outlinewidth": 0,
             "ticks": ""
            },
            "colorscale": [
             [
              0,
              "#0d0887"
             ],
             [
              0.1111111111111111,
              "#46039f"
             ],
             [
              0.2222222222222222,
              "#7201a8"
             ],
             [
              0.3333333333333333,
              "#9c179e"
             ],
             [
              0.4444444444444444,
              "#bd3786"
             ],
             [
              0.5555555555555556,
              "#d8576b"
             ],
             [
              0.6666666666666666,
              "#ed7953"
             ],
             [
              0.7777777777777778,
              "#fb9f3a"
             ],
             [
              0.8888888888888888,
              "#fdca26"
             ],
             [
              1,
              "#f0f921"
             ]
            ],
            "type": "heatmap"
           }
          ],
          "heatmapgl": [
           {
            "colorbar": {
             "outlinewidth": 0,
             "ticks": ""
            },
            "colorscale": [
             [
              0,
              "#0d0887"
             ],
             [
              0.1111111111111111,
              "#46039f"
             ],
             [
              0.2222222222222222,
              "#7201a8"
             ],
             [
              0.3333333333333333,
              "#9c179e"
             ],
             [
              0.4444444444444444,
              "#bd3786"
             ],
             [
              0.5555555555555556,
              "#d8576b"
             ],
             [
              0.6666666666666666,
              "#ed7953"
             ],
             [
              0.7777777777777778,
              "#fb9f3a"
             ],
             [
              0.8888888888888888,
              "#fdca26"
             ],
             [
              1,
              "#f0f921"
             ]
            ],
            "type": "heatmapgl"
           }
          ],
          "histogram": [
           {
            "marker": {
             "pattern": {
              "fillmode": "overlay",
              "size": 10,
              "solidity": 0.2
             }
            },
            "type": "histogram"
           }
          ],
          "histogram2d": [
           {
            "colorbar": {
             "outlinewidth": 0,
             "ticks": ""
            },
            "colorscale": [
             [
              0,
              "#0d0887"
             ],
             [
              0.1111111111111111,
              "#46039f"
             ],
             [
              0.2222222222222222,
              "#7201a8"
             ],
             [
              0.3333333333333333,
              "#9c179e"
             ],
             [
              0.4444444444444444,
              "#bd3786"
             ],
             [
              0.5555555555555556,
              "#d8576b"
             ],
             [
              0.6666666666666666,
              "#ed7953"
             ],
             [
              0.7777777777777778,
              "#fb9f3a"
             ],
             [
              0.8888888888888888,
              "#fdca26"
             ],
             [
              1,
              "#f0f921"
             ]
            ],
            "type": "histogram2d"
           }
          ],
          "histogram2dcontour": [
           {
            "colorbar": {
             "outlinewidth": 0,
             "ticks": ""
            },
            "colorscale": [
             [
              0,
              "#0d0887"
             ],
             [
              0.1111111111111111,
              "#46039f"
             ],
             [
              0.2222222222222222,
              "#7201a8"
             ],
             [
              0.3333333333333333,
              "#9c179e"
             ],
             [
              0.4444444444444444,
              "#bd3786"
             ],
             [
              0.5555555555555556,
              "#d8576b"
             ],
             [
              0.6666666666666666,
              "#ed7953"
             ],
             [
              0.7777777777777778,
              "#fb9f3a"
             ],
             [
              0.8888888888888888,
              "#fdca26"
             ],
             [
              1,
              "#f0f921"
             ]
            ],
            "type": "histogram2dcontour"
           }
          ],
          "mesh3d": [
           {
            "colorbar": {
             "outlinewidth": 0,
             "ticks": ""
            },
            "type": "mesh3d"
           }
          ],
          "parcoords": [
           {
            "line": {
             "colorbar": {
              "outlinewidth": 0,
              "ticks": ""
             }
            },
            "type": "parcoords"
           }
          ],
          "pie": [
           {
            "automargin": true,
            "type": "pie"
           }
          ],
          "scatter": [
           {
            "fillpattern": {
             "fillmode": "overlay",
             "size": 10,
             "solidity": 0.2
            },
            "type": "scatter"
           }
          ],
          "scatter3d": [
           {
            "line": {
             "colorbar": {
              "outlinewidth": 0,
              "ticks": ""
             }
            },
            "marker": {
             "colorbar": {
              "outlinewidth": 0,
              "ticks": ""
             }
            },
            "type": "scatter3d"
           }
          ],
          "scattercarpet": [
           {
            "marker": {
             "colorbar": {
              "outlinewidth": 0,
              "ticks": ""
             }
            },
            "type": "scattercarpet"
           }
          ],
          "scattergeo": [
           {
            "marker": {
             "colorbar": {
              "outlinewidth": 0,
              "ticks": ""
             }
            },
            "type": "scattergeo"
           }
          ],
          "scattergl": [
           {
            "marker": {
             "colorbar": {
              "outlinewidth": 0,
              "ticks": ""
             }
            },
            "type": "scattergl"
           }
          ],
          "scattermapbox": [
           {
            "marker": {
             "colorbar": {
              "outlinewidth": 0,
              "ticks": ""
             }
            },
            "type": "scattermapbox"
           }
          ],
          "scatterpolar": [
           {
            "marker": {
             "colorbar": {
              "outlinewidth": 0,
              "ticks": ""
             }
            },
            "type": "scatterpolar"
           }
          ],
          "scatterpolargl": [
           {
            "marker": {
             "colorbar": {
              "outlinewidth": 0,
              "ticks": ""
             }
            },
            "type": "scatterpolargl"
           }
          ],
          "scatterternary": [
           {
            "marker": {
             "colorbar": {
              "outlinewidth": 0,
              "ticks": ""
             }
            },
            "type": "scatterternary"
           }
          ],
          "surface": [
           {
            "colorbar": {
             "outlinewidth": 0,
             "ticks": ""
            },
            "colorscale": [
             [
              0,
              "#0d0887"
             ],
             [
              0.1111111111111111,
              "#46039f"
             ],
             [
              0.2222222222222222,
              "#7201a8"
             ],
             [
              0.3333333333333333,
              "#9c179e"
             ],
             [
              0.4444444444444444,
              "#bd3786"
             ],
             [
              0.5555555555555556,
              "#d8576b"
             ],
             [
              0.6666666666666666,
              "#ed7953"
             ],
             [
              0.7777777777777778,
              "#fb9f3a"
             ],
             [
              0.8888888888888888,
              "#fdca26"
             ],
             [
              1,
              "#f0f921"
             ]
            ],
            "type": "surface"
           }
          ],
          "table": [
           {
            "cells": {
             "fill": {
              "color": "#EBF0F8"
             },
             "line": {
              "color": "white"
             }
            },
            "header": {
             "fill": {
              "color": "#C8D4E3"
             },
             "line": {
              "color": "white"
             }
            },
            "type": "table"
           }
          ]
         },
         "layout": {
          "annotationdefaults": {
           "arrowcolor": "#2a3f5f",
           "arrowhead": 0,
           "arrowwidth": 1
          },
          "autotypenumbers": "strict",
          "coloraxis": {
           "colorbar": {
            "outlinewidth": 0,
            "ticks": ""
           }
          },
          "colorscale": {
           "diverging": [
            [
             0,
             "#8e0152"
            ],
            [
             0.1,
             "#c51b7d"
            ],
            [
             0.2,
             "#de77ae"
            ],
            [
             0.3,
             "#f1b6da"
            ],
            [
             0.4,
             "#fde0ef"
            ],
            [
             0.5,
             "#f7f7f7"
            ],
            [
             0.6,
             "#e6f5d0"
            ],
            [
             0.7,
             "#b8e186"
            ],
            [
             0.8,
             "#7fbc41"
            ],
            [
             0.9,
             "#4d9221"
            ],
            [
             1,
             "#276419"
            ]
           ],
           "sequential": [
            [
             0,
             "#0d0887"
            ],
            [
             0.1111111111111111,
             "#46039f"
            ],
            [
             0.2222222222222222,
             "#7201a8"
            ],
            [
             0.3333333333333333,
             "#9c179e"
            ],
            [
             0.4444444444444444,
             "#bd3786"
            ],
            [
             0.5555555555555556,
             "#d8576b"
            ],
            [
             0.6666666666666666,
             "#ed7953"
            ],
            [
             0.7777777777777778,
             "#fb9f3a"
            ],
            [
             0.8888888888888888,
             "#fdca26"
            ],
            [
             1,
             "#f0f921"
            ]
           ],
           "sequentialminus": [
            [
             0,
             "#0d0887"
            ],
            [
             0.1111111111111111,
             "#46039f"
            ],
            [
             0.2222222222222222,
             "#7201a8"
            ],
            [
             0.3333333333333333,
             "#9c179e"
            ],
            [
             0.4444444444444444,
             "#bd3786"
            ],
            [
             0.5555555555555556,
             "#d8576b"
            ],
            [
             0.6666666666666666,
             "#ed7953"
            ],
            [
             0.7777777777777778,
             "#fb9f3a"
            ],
            [
             0.8888888888888888,
             "#fdca26"
            ],
            [
             1,
             "#f0f921"
            ]
           ]
          },
          "colorway": [
           "#636efa",
           "#EF553B",
           "#00cc96",
           "#ab63fa",
           "#FFA15A",
           "#19d3f3",
           "#FF6692",
           "#B6E880",
           "#FF97FF",
           "#FECB52"
          ],
          "font": {
           "color": "#2a3f5f"
          },
          "geo": {
           "bgcolor": "white",
           "lakecolor": "white",
           "landcolor": "#E5ECF6",
           "showlakes": true,
           "showland": true,
           "subunitcolor": "white"
          },
          "hoverlabel": {
           "align": "left"
          },
          "hovermode": "closest",
          "mapbox": {
           "style": "light"
          },
          "paper_bgcolor": "white",
          "plot_bgcolor": "#E5ECF6",
          "polar": {
           "angularaxis": {
            "gridcolor": "white",
            "linecolor": "white",
            "ticks": ""
           },
           "bgcolor": "#E5ECF6",
           "radialaxis": {
            "gridcolor": "white",
            "linecolor": "white",
            "ticks": ""
           }
          },
          "scene": {
           "xaxis": {
            "backgroundcolor": "#E5ECF6",
            "gridcolor": "white",
            "gridwidth": 2,
            "linecolor": "white",
            "showbackground": true,
            "ticks": "",
            "zerolinecolor": "white"
           },
           "yaxis": {
            "backgroundcolor": "#E5ECF6",
            "gridcolor": "white",
            "gridwidth": 2,
            "linecolor": "white",
            "showbackground": true,
            "ticks": "",
            "zerolinecolor": "white"
           },
           "zaxis": {
            "backgroundcolor": "#E5ECF6",
            "gridcolor": "white",
            "gridwidth": 2,
            "linecolor": "white",
            "showbackground": true,
            "ticks": "",
            "zerolinecolor": "white"
           }
          },
          "shapedefaults": {
           "line": {
            "color": "#2a3f5f"
           }
          },
          "ternary": {
           "aaxis": {
            "gridcolor": "white",
            "linecolor": "white",
            "ticks": ""
           },
           "baxis": {
            "gridcolor": "white",
            "linecolor": "white",
            "ticks": ""
           },
           "bgcolor": "#E5ECF6",
           "caxis": {
            "gridcolor": "white",
            "linecolor": "white",
            "ticks": ""
           }
          },
          "title": {
           "x": 0.05
          },
          "xaxis": {
           "automargin": true,
           "gridcolor": "white",
           "linecolor": "white",
           "ticks": "",
           "title": {
            "standoff": 15
           },
           "zerolinecolor": "white",
           "zerolinewidth": 2
          },
          "yaxis": {
           "automargin": true,
           "gridcolor": "white",
           "linecolor": "white",
           "ticks": "",
           "title": {
            "standoff": 15
           },
           "zerolinecolor": "white",
           "zerolinewidth": 2
          }
         }
        },
        "title": {
         "text": "Total Explained Variance: 61.99%"
        }
       }
      }
     },
     "metadata": {},
     "output_type": "display_data"
    }
   ],
   "source": [
    "fig = px.scatter_3d(\n",
    "    reduced, x=0, y=1, z=2, color=kmeans.labels_,\n",
    "    title=f'Total Explained Variance: {total_var:.2f}%',\n",
    "    labels={'0': 'PC 1', '1': 'PC 2', '2': 'PC 3'}\n",
    ")\n",
    "fig.show()"
   ]
  },
  {
   "cell_type": "markdown",
   "metadata": {},
   "source": [
    "## Analysis\n",
    "After completing the models we can see that four clusters we can differentiate two without an issue but a 3rd and 4th conflict between them. Looking into the PCA vectors I can say that when I have a low activity we can easily distinguish between the \"> 7 hrs of sleep\" and the \"< 7 hrs of sleep\" much more easily. The issue arises once we look into the activity zone, the model has a hard time defining the sleep patterns when one has had a high activity scores.\n",
    "\n",
    "The model in the end helped me to develop insights on my sleep behaviours and how my daily activities impact them, but I'd need to remember that these principal components only explain about 50% of the variance which in this case I'd like to consider them as a good measure of variance since personal sleep is something that is really hard to control with schedules and every-day work-life occassions which could easily alter these patterns.\n",
    "\n",
    "## Conclusion\n",
    "The unsupervised models achieved the goals but showed that more data in this case features would be good to create a much more precise model. In my case I'd be interested to see if having other health measurements such as avg. heart rate, glucose, stress levels, etc. can improve the model and help me identify the key factors to achieve a great night of sleep.\n",
    "\n",
    "Hyperparameter tunning was minimal due to the nature of the data and the expectations of the project, the insights retrieved were mostly from the PCA to find which features impacted the most on the principal components and helped identify tendencies within the data.\n",
    "\n",
    "Clustering cannot be dismissed as is, in this case we had a \"target\" but clustering was helpful to identify other feature relationships and where we need to input more and more information to go deeper into the model.\n",
    "\n",
    "I'll continue gathering my sleep information to see in the long term if this analysis is enought o improve my future well-being or if the explained variance is too low for this project to explain my behaviour as of August 2022, you can keep track of this project on GitHub.\n",
    "\n",
    "## References\n",
    "How do I export my Fitbit account data? (n.d.). Fitbit | How do I export my Fitbit account data? Retrieved August 15, 2022, from https://help.fitbit.com/articles/en_US/Help_article/1133.htm?Highlight=TCX%20file\n",
    "\n",
    "PCA visualization in Python. (n.d.). Plotly. Retrieved August 15, 2022, from https://plotly.com/python/pca-visualization/\n",
    "\n",
    "sklearn.cluster.KMeans — scikit-learn 1.1.2 documentation. (n.d.). Scikit-learn KMeans. Retrieved August 15, 2022, from https://scikit-learn.org/stable/modules/generated/sklearn.cluster.KMeans.html\n",
    "\n",
    "sklearn.decomposition.PCA — scikit-learn 1.1.2 documentation. (n.d.). Scikit-learn PCA. Retrieved August 15, 2022, from https://scikit-learn.org/stable/modules/generated/sklearn.decomposition.PCA.html"
   ]
  }
 ],
 "metadata": {
  "kernelspec": {
   "display_name": "Python 3.10.6 64-bit",
   "language": "python",
   "name": "python3"
  },
  "language_info": {
   "codemirror_mode": {
    "name": "ipython",
    "version": 3
   },
   "file_extension": ".py",
   "mimetype": "text/x-python",
   "name": "python",
   "nbconvert_exporter": "python",
   "pygments_lexer": "ipython3",
   "version": "3.10.6"
  },
  "orig_nbformat": 4,
  "vscode": {
   "interpreter": {
    "hash": "fa5e5e9a487e2dd76c7ea7823608b3e5576beb764152fabbf69ac7563ac3923b"
   }
  }
 },
 "nbformat": 4,
 "nbformat_minor": 2
}
